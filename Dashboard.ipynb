{
 "cells": [
  {
   "cell_type": "code",
   "execution_count": 90,
   "id": "8d1d5a8f",
   "metadata": {},
   "outputs": [],
   "source": [
    "import pandas as pd\n",
    "import os \n",
    "import gc\n",
    "import matplotlib.pyplot as plt\n",
    "import seaborn as sns"
   ]
  },
  {
   "cell_type": "code",
   "execution_count": 176,
   "id": "46f68490",
   "metadata": {},
   "outputs": [
    {
     "data": {
      "text/plain": [
       "'C:\\\\Users\\\\saira\\\\Downloads\\\\Citibike-Dashboard'"
      ]
     },
     "execution_count": 176,
     "metadata": {},
     "output_type": "execute_result"
    }
   ],
   "source": [
    "os.getcwd()"
   ]
  },
  {
   "cell_type": "code",
   "execution_count": 236,
   "id": "a82aa03a",
   "metadata": {},
   "outputs": [
    {
     "data": {
      "text/plain": [
       "2175"
      ]
     },
     "execution_count": 236,
     "metadata": {},
     "output_type": "execute_result"
    }
   ],
   "source": [
    "# del df \n",
    "# gc.collect() "
   ]
  },
  {
   "cell_type": "code",
   "execution_count": 237,
   "id": "d6c9c4b4",
   "metadata": {},
   "outputs": [],
   "source": [
    "df = pd.read_csv('year_2024')"
   ]
  },
  {
   "cell_type": "code",
   "execution_count": 241,
   "id": "719125a9",
   "metadata": {},
   "outputs": [],
   "source": [
    "df['started_at'] = pd.to_datetime(df['started_at'])"
   ]
  },
  {
   "cell_type": "code",
   "execution_count": 244,
   "id": "5f4d618e",
   "metadata": {},
   "outputs": [],
   "source": [
    "month_rides = df.groupby(df['started_at'].dt.month)['tripduration'].count()"
   ]
  },
  {
   "cell_type": "code",
   "execution_count": 246,
   "id": "e0f0ff29",
   "metadata": {},
   "outputs": [
    {
     "data": {
      "text/plain": [
       "started_at\n",
       "1     NaN\n",
       "2    9.77\n",
       "3   17.92\n",
       "4   20.64\n",
       "5   23.21\n",
       "Name: tripduration, dtype: float64"
      ]
     },
     "execution_count": 246,
     "metadata": {},
     "output_type": "execute_result"
    }
   ],
   "source": [
    "month_rides.pct_change()*100"
   ]
  },
  {
   "cell_type": "code",
   "execution_count": 192,
   "id": "354b8822",
   "metadata": {},
   "outputs": [
    {
     "data": {
      "text/plain": [
       "7235"
      ]
     },
     "execution_count": 192,
     "metadata": {},
     "output_type": "execute_result"
    }
   ],
   "source": [
    "df[df['tripduration']/60>=45]['tripduration'].count()"
   ]
  },
  {
   "cell_type": "code",
   "execution_count": 171,
   "id": "5ec1bdb2",
   "metadata": {},
   "outputs": [],
   "source": [
    "user['Percentage Growth'] = user['Total Users'].pct_change() *100\n",
    "user['User Growth'] = user['Total Users'].diff()\n",
    "\n",
    "user['Subscriber Growth'] = user['Subscriber'].diff()\n",
    "user['Subscriber Percentage Growth'] = user['Subscriber'].pct_change() *100\n",
    "\n",
    "user['Male Percentage'] = user['Male_riders']/ (user['Male_riders'] + user['Female_riders']) * 100\n",
    "user['Female Percentage'] = user['Female_riders']/ (user['Male_riders'] + user['Female_riders']) * 100"
   ]
  },
  {
   "cell_type": "code",
   "execution_count": 174,
   "id": "5308feb3",
   "metadata": {},
   "outputs": [],
   "source": [
    "user.to_csv('YoY_change.csv',index = False)"
   ]
  },
  {
   "cell_type": "code",
   "execution_count": 178,
   "id": "1d838735",
   "metadata": {},
   "outputs": [
    {
     "data": {
      "text/html": [
       "<div>\n",
       "<style scoped>\n",
       "    .dataframe tbody tr th:only-of-type {\n",
       "        vertical-align: middle;\n",
       "    }\n",
       "\n",
       "    .dataframe tbody tr th {\n",
       "        vertical-align: top;\n",
       "    }\n",
       "\n",
       "    .dataframe thead th {\n",
       "        text-align: right;\n",
       "    }\n",
       "</style>\n",
       "<table border=\"1\" class=\"dataframe\">\n",
       "  <thead>\n",
       "    <tr style=\"text-align: right;\">\n",
       "      <th></th>\n",
       "      <th>Year</th>\n",
       "      <th>Customer</th>\n",
       "      <th>Subscriber</th>\n",
       "      <th>Total Users</th>\n",
       "      <th>Male_riders</th>\n",
       "      <th>Female_riders</th>\n",
       "      <th>Percentage Growth</th>\n",
       "      <th>User Growth</th>\n",
       "      <th>Subscriber Growth</th>\n",
       "      <th>Subscriber Percentage Growth</th>\n",
       "      <th>Male Percentage</th>\n",
       "      <th>Female Percentage</th>\n",
       "    </tr>\n",
       "  </thead>\n",
       "  <tbody>\n",
       "    <tr>\n",
       "      <th>0</th>\n",
       "      <td>2014</td>\n",
       "      <td>793495</td>\n",
       "      <td>7287721</td>\n",
       "      <td>8081216</td>\n",
       "      <td>5635962</td>\n",
       "      <td>1650274</td>\n",
       "      <td>NaN</td>\n",
       "      <td>NaN</td>\n",
       "      <td>NaN</td>\n",
       "      <td>NaN</td>\n",
       "      <td>77.35</td>\n",
       "      <td>22.65</td>\n",
       "    </tr>\n",
       "    <tr>\n",
       "      <th>1</th>\n",
       "      <td>2015</td>\n",
       "      <td>1311331</td>\n",
       "      <td>8626638</td>\n",
       "      <td>9937969</td>\n",
       "      <td>6608929</td>\n",
       "      <td>2006962</td>\n",
       "      <td>22.98</td>\n",
       "      <td>1856753.00</td>\n",
       "      <td>1338917.00</td>\n",
       "      <td>18.37</td>\n",
       "      <td>76.71</td>\n",
       "      <td>23.29</td>\n",
       "    </tr>\n",
       "    <tr>\n",
       "      <th>2</th>\n",
       "      <td>2016</td>\n",
       "      <td>1236265</td>\n",
       "      <td>9026384</td>\n",
       "      <td>10262649</td>\n",
       "      <td>6769032</td>\n",
       "      <td>2186917</td>\n",
       "      <td>3.27</td>\n",
       "      <td>324680.00</td>\n",
       "      <td>399746.00</td>\n",
       "      <td>4.63</td>\n",
       "      <td>75.58</td>\n",
       "      <td>24.42</td>\n",
       "    </tr>\n",
       "    <tr>\n",
       "      <th>3</th>\n",
       "      <td>2017</td>\n",
       "      <td>1676712</td>\n",
       "      <td>12441957</td>\n",
       "      <td>14118669</td>\n",
       "      <td>9306602</td>\n",
       "      <td>3236735</td>\n",
       "      <td>37.57</td>\n",
       "      <td>3856020.00</td>\n",
       "      <td>3415573.00</td>\n",
       "      <td>37.84</td>\n",
       "      <td>74.20</td>\n",
       "      <td>25.80</td>\n",
       "    </tr>\n",
       "    <tr>\n",
       "      <th>4</th>\n",
       "      <td>2018</td>\n",
       "      <td>1933514</td>\n",
       "      <td>15614825</td>\n",
       "      <td>17548339</td>\n",
       "      <td>11971322</td>\n",
       "      <td>4092462</td>\n",
       "      <td>24.29</td>\n",
       "      <td>3429670.00</td>\n",
       "      <td>3172868.00</td>\n",
       "      <td>25.50</td>\n",
       "      <td>74.52</td>\n",
       "      <td>25.48</td>\n",
       "    </tr>\n",
       "    <tr>\n",
       "      <th>5</th>\n",
       "      <td>2019</td>\n",
       "      <td>2872176</td>\n",
       "      <td>17679521</td>\n",
       "      <td>20551697</td>\n",
       "      <td>14052393</td>\n",
       "      <td>4938996</td>\n",
       "      <td>17.11</td>\n",
       "      <td>3003358.00</td>\n",
       "      <td>2064696.00</td>\n",
       "      <td>13.22</td>\n",
       "      <td>73.99</td>\n",
       "      <td>26.01</td>\n",
       "    </tr>\n",
       "    <tr>\n",
       "      <th>6</th>\n",
       "      <td>2020</td>\n",
       "      <td>4551091</td>\n",
       "      <td>14955766</td>\n",
       "      <td>19506857</td>\n",
       "      <td>11798407</td>\n",
       "      <td>5551873</td>\n",
       "      <td>-5.08</td>\n",
       "      <td>-1044840.00</td>\n",
       "      <td>-2723755.00</td>\n",
       "      <td>-15.41</td>\n",
       "      <td>68.00</td>\n",
       "      <td>32.00</td>\n",
       "    </tr>\n",
       "    <tr>\n",
       "      <th>7</th>\n",
       "      <td>2021</td>\n",
       "      <td>150177</td>\n",
       "      <td>945169</td>\n",
       "      <td>1095346</td>\n",
       "      <td>714609</td>\n",
       "      <td>289850</td>\n",
       "      <td>-94.38</td>\n",
       "      <td>-18411511.00</td>\n",
       "      <td>-14010597.00</td>\n",
       "      <td>-93.68</td>\n",
       "      <td>71.14</td>\n",
       "      <td>28.86</td>\n",
       "    </tr>\n",
       "    <tr>\n",
       "      <th>8</th>\n",
       "      <td>2022</td>\n",
       "      <td>6694850</td>\n",
       "      <td>23995071</td>\n",
       "      <td>30689921</td>\n",
       "      <td>0</td>\n",
       "      <td>0</td>\n",
       "      <td>2701.85</td>\n",
       "      <td>29594575.00</td>\n",
       "      <td>23049902.00</td>\n",
       "      <td>2438.71</td>\n",
       "      <td>NaN</td>\n",
       "      <td>NaN</td>\n",
       "    </tr>\n",
       "    <tr>\n",
       "      <th>9</th>\n",
       "      <td>2023</td>\n",
       "      <td>6696867</td>\n",
       "      <td>29529733</td>\n",
       "      <td>36226600</td>\n",
       "      <td>0</td>\n",
       "      <td>0</td>\n",
       "      <td>18.04</td>\n",
       "      <td>5536679.00</td>\n",
       "      <td>5534662.00</td>\n",
       "      <td>23.07</td>\n",
       "      <td>NaN</td>\n",
       "      <td>NaN</td>\n",
       "    </tr>\n",
       "    <tr>\n",
       "      <th>10</th>\n",
       "      <td>2024</td>\n",
       "      <td>74656</td>\n",
       "      <td>273794</td>\n",
       "      <td>348450</td>\n",
       "      <td>0</td>\n",
       "      <td>0</td>\n",
       "      <td>-99.04</td>\n",
       "      <td>-35878150.00</td>\n",
       "      <td>-29255939.00</td>\n",
       "      <td>-99.07</td>\n",
       "      <td>NaN</td>\n",
       "      <td>NaN</td>\n",
       "    </tr>\n",
       "  </tbody>\n",
       "</table>\n",
       "</div>"
      ],
      "text/plain": [
       "    Year  Customer  Subscriber  Total Users  Male_riders  Female_riders  \\\n",
       "0   2014    793495     7287721      8081216      5635962        1650274   \n",
       "1   2015   1311331     8626638      9937969      6608929        2006962   \n",
       "2   2016   1236265     9026384     10262649      6769032        2186917   \n",
       "3   2017   1676712    12441957     14118669      9306602        3236735   \n",
       "4   2018   1933514    15614825     17548339     11971322        4092462   \n",
       "5   2019   2872176    17679521     20551697     14052393        4938996   \n",
       "6   2020   4551091    14955766     19506857     11798407        5551873   \n",
       "7   2021    150177      945169      1095346       714609         289850   \n",
       "8   2022   6694850    23995071     30689921            0              0   \n",
       "9   2023   6696867    29529733     36226600            0              0   \n",
       "10  2024     74656      273794       348450            0              0   \n",
       "\n",
       "    Percentage Growth  User Growth  Subscriber Growth  \\\n",
       "0                 NaN          NaN                NaN   \n",
       "1               22.98   1856753.00         1338917.00   \n",
       "2                3.27    324680.00          399746.00   \n",
       "3               37.57   3856020.00         3415573.00   \n",
       "4               24.29   3429670.00         3172868.00   \n",
       "5               17.11   3003358.00         2064696.00   \n",
       "6               -5.08  -1044840.00        -2723755.00   \n",
       "7              -94.38 -18411511.00       -14010597.00   \n",
       "8             2701.85  29594575.00        23049902.00   \n",
       "9               18.04   5536679.00         5534662.00   \n",
       "10             -99.04 -35878150.00       -29255939.00   \n",
       "\n",
       "    Subscriber Percentage Growth  Male Percentage  Female Percentage  \n",
       "0                            NaN            77.35              22.65  \n",
       "1                          18.37            76.71              23.29  \n",
       "2                           4.63            75.58              24.42  \n",
       "3                          37.84            74.20              25.80  \n",
       "4                          25.50            74.52              25.48  \n",
       "5                          13.22            73.99              26.01  \n",
       "6                         -15.41            68.00              32.00  \n",
       "7                         -93.68            71.14              28.86  \n",
       "8                        2438.71              NaN                NaN  \n",
       "9                          23.07              NaN                NaN  \n",
       "10                        -99.07              NaN                NaN  "
      ]
     },
     "execution_count": 178,
     "metadata": {},
     "output_type": "execute_result"
    }
   ],
   "source": [
    "user"
   ]
  },
  {
   "cell_type": "code",
   "execution_count": 82,
   "id": "a7a25966",
   "metadata": {},
   "outputs": [],
   "source": [
    "ride =  pd.read_csv('my_ride_data.csv')\n",
    "\n",
    "user =  pd.read_csv('my_data.csv')"
   ]
  },
  {
   "cell_type": "code",
   "execution_count": 164,
   "id": "02c8a168",
   "metadata": {},
   "outputs": [
    {
     "data": {
      "image/png": "[encoded data removed]",
      "text/plain": [
       "<Figure size 640x480 with 1 Axes>"
      ]
     },
     "metadata": {},
     "output_type": "display_data"
    }
   ],
   "source": [
    "plt.plot(user['Year'],user['Total Users'])\n",
    "sns.despine(bottom = True, left = True)\n",
    "plt.show()"
   ]
  },
  {
   "cell_type": "code",
   "execution_count": 168,
   "id": "95372549",
   "metadata": {},
   "outputs": [
    {
     "data": {
      "image/png": "[encoded data removed]",
      "text/plain": [
       "<Figure size 640x480 with 1 Axes>"
      ]
     },
     "metadata": {},
     "output_type": "display_data"
    }
   ],
   "source": [
    "plt.bar(x = ride['Year'][0:7], height = ride['Average number of rides per bike'][0:7])\n",
    "sns.despine(bottom = True, left = True)\n",
    "plt.show()"
   ]
  },
  {
   "cell_type": "code",
   "execution_count": 61,
   "id": "52ac8654",
   "metadata": {},
   "outputs": [],
   "source": [
    "df = pd.read_csv('year_2014.csv')"
   ]
  },
  {
   "cell_type": "code",
   "execution_count": 52,
   "id": "11b3a82b",
   "metadata": {},
   "outputs": [],
   "source": [
    "def get_excel_files_from_monthly_folders(base_path, chunksize=100000):\n",
    "    column_mapping = {'Trip Duration': 'tripduration',\n",
    "                      'Start Time': 'starttime',\n",
    "                      'Stop Time': 'stoptime',\n",
    "                      'Start Station ID': 'start station id',\n",
    "                      'Start Station Name': 'start station name',\n",
    "                      'Start Station Latitude': 'start station latitude',\n",
    "                      'Start Station Longitude': 'start station longitude',\n",
    "                      'End Station ID': 'end station id',\n",
    "                      'End Station Name': 'end station name',\n",
    "                      'End Station Latitude': 'end station latitude',\n",
    "                      'End Station Longitude': 'end station longitude',\n",
    "                      'Bike ID': 'bikeid',\n",
    "                      'User Type': 'usertype',\n",
    "                      'Birth Year': 'birth year',\n",
    "                      'Gender': 'gender'}\n",
    "\n",
    "    if not os.path.exists(base_path):\n",
    "        print(f\"Error: The base path '{base_path}' does not exist.\")\n",
    "        return []\n",
    "\n",
    "    all_chunks = []\n",
    "\n",
    "    for month_folder in os.listdir(base_path):\n",
    "        month_path = os.path.join(base_path, month_folder)\n",
    "\n",
    "        if os.path.isdir(month_path):\n",
    "            for file in os.listdir(month_path):\n",
    "                if file.endswith(\".csv\"):\n",
    "                    file_path = os.path.join(month_path, file)\n",
    "                    try:\n",
    "                        chunks = pd.read_csv(file_path, chunksize=chunksize)\n",
    "                        for chunk in chunks:\n",
    "                            all_chunks.append(chunk)\n",
    "                    except Exception as e:\n",
    "                        print(f\"Error reading {file_path}: {e}\")\n",
    "\n",
    "    return all_chunks\n",
    "\n",
    "# Drop stoptime, id, name, birth year, etc.\n",
    "# Add Birth year do\n",
    "def combine_dataframes_pre2022(dataframes_chunks):\n",
    "    combined_chunks = []\n",
    "    for chunk in dataframes_chunks:\n",
    "        combined_chunk = chunk[['tripduration', 'starttime', 'gender', 'birth year', 'usertype', 'bikeid']]\n",
    "        combined_chunks.append(combined_chunk)\n",
    "    return combined_chunks\n",
    "\n",
    "def save_combined_dataframe(df_chunks, output_path):\n",
    "    try:\n",
    "        with pd.ExcelWriter(output_path, engine='openpyxl') as writer:\n",
    "            for i, df_chunk in enumerate(df_chunks):\n",
    "                df_chunk.to_excel(writer, index=False, header=False, startrow=i * len(df_chunk), sheet_name='Sheet1')\n",
    "        print(f\"Combined Excel file saved to: {output_path}\")\n",
    "    except Exception as e:\n",
    "        print(f\"Error saving combined Excel file: {e}\")"
   ]
  },
  {
   "cell_type": "code",
   "execution_count": 26,
   "id": "24d01f79",
   "metadata": {},
   "outputs": [],
   "source": [
    "ride_data = {\n",
    "    'Year': [],\n",
    "    'Average_Ride_Duration': [],\n",
    "    'Subscriber_Average': [],\n",
    "    'Customer_Average':[],\n",
    "    'Number_of_rides_over_45_minutes':[],\n",
    "    'Percentage_over_45_minutes':[],\n",
    "    'Longest_ride':[]\n",
    "}"
   ]
  },
  {
   "cell_type": "code",
   "execution_count": 54,
   "id": "0ea021e6",
   "metadata": {},
   "outputs": [
    {
     "data": {
      "text/plain": [
       "2155"
      ]
     },
     "execution_count": 54,
     "metadata": {},
     "output_type": "execute_result"
    }
   ],
   "source": [
    "# del df\n",
    "gc.collect()"
   ]
  },
  {
   "cell_type": "code",
   "execution_count": 62,
   "id": "6428b4fe",
   "metadata": {},
   "outputs": [
    {
     "data": {
      "text/html": [
       "<div>\n",
       "<style scoped>\n",
       "    .dataframe tbody tr th:only-of-type {\n",
       "        vertical-align: middle;\n",
       "    }\n",
       "\n",
       "    .dataframe tbody tr th {\n",
       "        vertical-align: top;\n",
       "    }\n",
       "\n",
       "    .dataframe thead th {\n",
       "        text-align: right;\n",
       "    }\n",
       "</style>\n",
       "<table border=\"1\" class=\"dataframe\">\n",
       "  <thead>\n",
       "    <tr style=\"text-align: right;\">\n",
       "      <th></th>\n",
       "      <th>tripduration</th>\n",
       "      <th>starttime</th>\n",
       "      <th>stoptime</th>\n",
       "      <th>start station id</th>\n",
       "      <th>start station name</th>\n",
       "      <th>start station latitude</th>\n",
       "      <th>start station longitude</th>\n",
       "      <th>end station id</th>\n",
       "      <th>end station name</th>\n",
       "      <th>end station latitude</th>\n",
       "      <th>end station longitude</th>\n",
       "      <th>bikeid</th>\n",
       "      <th>usertype</th>\n",
       "      <th>birth year</th>\n",
       "      <th>gender</th>\n",
       "    </tr>\n",
       "  </thead>\n",
       "  <tbody>\n",
       "    <tr>\n",
       "      <th>0</th>\n",
       "      <td>1027</td>\n",
       "      <td>10/1/2014 00:00:27</td>\n",
       "      <td>10/1/2014 00:17:34</td>\n",
       "      <td>479</td>\n",
       "      <td>9 Ave &amp; W 45 St</td>\n",
       "      <td>40.76</td>\n",
       "      <td>-73.99</td>\n",
       "      <td>540</td>\n",
       "      <td>Lexington Ave &amp; E 26 St</td>\n",
       "      <td>40.74</td>\n",
       "      <td>-73.98</td>\n",
       "      <td>21376</td>\n",
       "      <td>Subscriber</td>\n",
       "      <td>1977.00</td>\n",
       "      <td>1</td>\n",
       "    </tr>\n",
       "    <tr>\n",
       "      <th>1</th>\n",
       "      <td>534</td>\n",
       "      <td>10/1/2014 00:00:36</td>\n",
       "      <td>10/1/2014 00:09:30</td>\n",
       "      <td>417</td>\n",
       "      <td>Barclay St &amp; Church St</td>\n",
       "      <td>40.71</td>\n",
       "      <td>-74.01</td>\n",
       "      <td>417</td>\n",
       "      <td>Barclay St &amp; Church St</td>\n",
       "      <td>40.71</td>\n",
       "      <td>-74.01</td>\n",
       "      <td>16086</td>\n",
       "      <td>Subscriber</td>\n",
       "      <td>1974.00</td>\n",
       "      <td>2</td>\n",
       "    </tr>\n",
       "    <tr>\n",
       "      <th>2</th>\n",
       "      <td>416</td>\n",
       "      <td>10/1/2014 00:00:42</td>\n",
       "      <td>10/1/2014 00:07:38</td>\n",
       "      <td>327</td>\n",
       "      <td>Vesey Pl &amp; River Terrace</td>\n",
       "      <td>40.72</td>\n",
       "      <td>-74.02</td>\n",
       "      <td>415</td>\n",
       "      <td>Pearl St &amp; Hanover Square</td>\n",
       "      <td>40.70</td>\n",
       "      <td>-74.01</td>\n",
       "      <td>16073</td>\n",
       "      <td>Subscriber</td>\n",
       "      <td>1990.00</td>\n",
       "      <td>1</td>\n",
       "    </tr>\n",
       "    <tr>\n",
       "      <th>3</th>\n",
       "      <td>428</td>\n",
       "      <td>10/1/2014 00:00:50</td>\n",
       "      <td>10/1/2014 00:07:58</td>\n",
       "      <td>515</td>\n",
       "      <td>W 43 St &amp; 10 Ave</td>\n",
       "      <td>40.76</td>\n",
       "      <td>-73.99</td>\n",
       "      <td>447</td>\n",
       "      <td>8 Ave &amp; W 52 St</td>\n",
       "      <td>40.76</td>\n",
       "      <td>-73.99</td>\n",
       "      <td>18635</td>\n",
       "      <td>Subscriber</td>\n",
       "      <td>1966.00</td>\n",
       "      <td>1</td>\n",
       "    </tr>\n",
       "    <tr>\n",
       "      <th>4</th>\n",
       "      <td>281</td>\n",
       "      <td>10/1/2014 00:01:08</td>\n",
       "      <td>10/1/2014 00:05:49</td>\n",
       "      <td>497</td>\n",
       "      <td>E 17 St &amp; Broadway</td>\n",
       "      <td>40.74</td>\n",
       "      <td>-73.99</td>\n",
       "      <td>537</td>\n",
       "      <td>Lexington Ave &amp; E 24 St</td>\n",
       "      <td>40.74</td>\n",
       "      <td>-73.98</td>\n",
       "      <td>20203</td>\n",
       "      <td>Subscriber</td>\n",
       "      <td>1979.00</td>\n",
       "      <td>1</td>\n",
       "    </tr>\n",
       "  </tbody>\n",
       "</table>\n",
       "</div>"
      ],
      "text/plain": [
       "   tripduration           starttime            stoptime  start station id  \\\n",
       "0          1027  10/1/2014 00:00:27  10/1/2014 00:17:34               479   \n",
       "1           534  10/1/2014 00:00:36  10/1/2014 00:09:30               417   \n",
       "2           416  10/1/2014 00:00:42  10/1/2014 00:07:38               327   \n",
       "3           428  10/1/2014 00:00:50  10/1/2014 00:07:58               515   \n",
       "4           281  10/1/2014 00:01:08  10/1/2014 00:05:49               497   \n",
       "\n",
       "         start station name  start station latitude  start station longitude  \\\n",
       "0           9 Ave & W 45 St                   40.76                   -73.99   \n",
       "1    Barclay St & Church St                   40.71                   -74.01   \n",
       "2  Vesey Pl & River Terrace                   40.72                   -74.02   \n",
       "3          W 43 St & 10 Ave                   40.76                   -73.99   \n",
       "4        E 17 St & Broadway                   40.74                   -73.99   \n",
       "\n",
       "   end station id           end station name  end station latitude  \\\n",
       "0             540    Lexington Ave & E 26 St                 40.74   \n",
       "1             417     Barclay St & Church St                 40.71   \n",
       "2             415  Pearl St & Hanover Square                 40.70   \n",
       "3             447            8 Ave & W 52 St                 40.76   \n",
       "4             537    Lexington Ave & E 24 St                 40.74   \n",
       "\n",
       "   end station longitude  bikeid    usertype  birth year  gender  \n",
       "0                 -73.98   21376  Subscriber     1977.00       1  \n",
       "1                 -74.01   16086  Subscriber     1974.00       2  \n",
       "2                 -74.01   16073  Subscriber     1990.00       1  \n",
       "3                 -73.99   18635  Subscriber     1966.00       1  \n",
       "4                 -73.98   20203  Subscriber     1979.00       1  "
      ]
     },
     "execution_count": 62,
     "metadata": {},
     "output_type": "execute_result"
    }
   ],
   "source": [
    "df.head()"
   ]
  },
  {
   "cell_type": "code",
   "execution_count": 63,
   "id": "d8b4c768",
   "metadata": {},
   "outputs": [],
   "source": [
    "pd.options.display.float_format = '{:.2f}'.format"
   ]
  },
  {
   "cell_type": "code",
   "execution_count": 64,
   "id": "2d044c63",
   "metadata": {},
   "outputs": [
    {
     "data": {
      "text/plain": [
       "mean      14.19\n",
       "max    90277.33\n",
       "Name: tripduration, dtype: float64"
      ]
     },
     "execution_count": 64,
     "metadata": {},
     "output_type": "execute_result"
    }
   ],
   "source": [
    "df['tripduration'].agg(['mean','max'])/60"
   ]
  },
  {
   "cell_type": "code",
   "execution_count": 65,
   "id": "4fad1747",
   "metadata": {},
   "outputs": [
    {
     "data": {
      "text/plain": [
       "144944"
      ]
     },
     "execution_count": 65,
     "metadata": {},
     "output_type": "execute_result"
    }
   ],
   "source": [
    "df[df['tripduration']/60>=45]['tripduration'].count()"
   ]
  },
  {
   "cell_type": "code",
   "execution_count": 66,
   "id": "ba286f13",
   "metadata": {},
   "outputs": [
    {
     "data": {
      "text/plain": [
       "1.7935914595031244"
      ]
     },
     "execution_count": 66,
     "metadata": {},
     "output_type": "execute_result"
    }
   ],
   "source": [
    "df[df['tripduration']/60>=45]['tripduration'].count()/df['tripduration'].count()*100"
   ]
  },
  {
   "cell_type": "code",
   "execution_count": 69,
   "id": "75355d33",
   "metadata": {},
   "outputs": [
    {
     "data": {
      "text/plain": [
       "usertype\n",
       "Customer     26.97\n",
       "Subscriber   12.79\n",
       "Name: tripduration, dtype: float64"
      ]
     },
     "execution_count": 69,
     "metadata": {},
     "output_type": "execute_result"
    }
   ],
   "source": [
    "df.groupby('usertype')['tripduration'].agg('mean')/60"
   ]
  },
  {
   "cell_type": "code",
   "execution_count": 27,
   "id": "08698ac3",
   "metadata": {},
   "outputs": [],
   "source": [
    "ride_data['Year'].append(2024),\n",
    "ride_data['Average_Ride_Duration'].append(9.74),\n",
    "ride_data['Subscriber_Average'].append(7.63),\n",
    "ride_data['Customer_Average'].append(17.46),\n",
    "ride_data['Number_of_rides_over_45_minutes'].append(7235),\n",
    "ride_data['Percentage_over_45_minutes'].append(2.08)\n",
    "ride_data['Longest_ride'].append(1418.68)"
   ]
  },
  {
   "cell_type": "code",
   "execution_count": 30,
   "id": "b75f6485",
   "metadata": {},
   "outputs": [
    {
     "data": {
      "text/plain": [
       "{'Year': [2024],\n",
       " 'Average_Ride_Duration': [9.74],\n",
       " 'Subscriber_Average': [7.63],\n",
       " 'Customer_Average': [17.46],\n",
       " 'Number_of_rides_over_45_minutes': [7235],\n",
       " 'Percentage_over_45_minutes': [2.08],\n",
       " 'Longest_ride': [1418.68]}"
      ]
     },
     "execution_count": 30,
     "metadata": {},
     "output_type": "execute_result"
    }
   ],
   "source": [
    "ride_data"
   ]
  },
  {
   "cell_type": "code",
   "execution_count": 28,
   "id": "cdd90489",
   "metadata": {},
   "outputs": [],
   "source": [
    "data = {'Year': [2020, 2018, 2019, 2023],\n",
    "        'Average_Ride_Duration': [21.85, 16.48, 16.3, 13.75],\n",
    "        'Subscriber_Average': [16.74, 13.2, 13.26, 11.97],\n",
    "        'Customer_Average': [38.63, 42.98, 35.06, 21.62],\n",
    "        'Number_of_rides_over_45_minutes': [930562, 332669, 332669, 1058291],\n",
    "        'Percentage_over_45_minutes': [4.77, 1.9, 1.97, 2.92],\n",
    "        'Longest_ride': [63103.12, 325167.48, 63544.43, 1439.98]}\n",
    "\n",
    "ride_data_df = pd.DataFrame(data)"
   ]
  },
  {
   "cell_type": "code",
   "execution_count": 76,
   "id": "c155a28a",
   "metadata": {},
   "outputs": [],
   "source": [
    "new_data = {'Year': [2024],\n",
    " 'Average_Ride_Duration': [9.74],\n",
    " 'Subscriber_Average': [7.63],\n",
    " 'Customer_Average': [17.46],\n",
    " 'Number_of_rides_over_45_minutes': [7235],\n",
    " 'Percentage_over_45_minutes': [2.08],\n",
    " 'Longest_ride': [1418.68]}\n",
    "# Append new data to the DataFrame\n",
    "ride_data_df.loc[len(ride_data_df)] = new_data"
   ]
  },
  {
   "cell_type": "code",
   "execution_count": 249,
   "id": "89960307",
   "metadata": {},
   "outputs": [
    {
     "data": {
      "text/html": [
       "<div>\n",
       "<style scoped>\n",
       "    .dataframe tbody tr th:only-of-type {\n",
       "        vertical-align: middle;\n",
       "    }\n",
       "\n",
       "    .dataframe tbody tr th {\n",
       "        vertical-align: top;\n",
       "    }\n",
       "\n",
       "    .dataframe thead th {\n",
       "        text-align: right;\n",
       "    }\n",
       "</style>\n",
       "<table border=\"1\" class=\"dataframe\">\n",
       "  <thead>\n",
       "    <tr style=\"text-align: right;\">\n",
       "      <th></th>\n",
       "      <th>Year</th>\n",
       "      <th>Average_Ride_Duration</th>\n",
       "      <th>Subscriber_Average</th>\n",
       "      <th>Customer_Average</th>\n",
       "      <th>Number_of_rides_over_45_minutes</th>\n",
       "      <th>Percentage_over_45_minutes</th>\n",
       "      <th>Longest_ride</th>\n",
       "    </tr>\n",
       "  </thead>\n",
       "  <tbody>\n",
       "    <tr>\n",
       "      <th>0</th>\n",
       "      <td>2020</td>\n",
       "      <td>21.85</td>\n",
       "      <td>16.74</td>\n",
       "      <td>38.63</td>\n",
       "      <td>930562</td>\n",
       "      <td>4.77</td>\n",
       "      <td>63103.12</td>\n",
       "    </tr>\n",
       "    <tr>\n",
       "      <th>1</th>\n",
       "      <td>2018</td>\n",
       "      <td>16.48</td>\n",
       "      <td>13.20</td>\n",
       "      <td>42.98</td>\n",
       "      <td>332669</td>\n",
       "      <td>1.90</td>\n",
       "      <td>325167.48</td>\n",
       "    </tr>\n",
       "    <tr>\n",
       "      <th>2</th>\n",
       "      <td>2019</td>\n",
       "      <td>16.30</td>\n",
       "      <td>13.26</td>\n",
       "      <td>35.06</td>\n",
       "      <td>332669</td>\n",
       "      <td>1.97</td>\n",
       "      <td>63544.43</td>\n",
       "    </tr>\n",
       "    <tr>\n",
       "      <th>3</th>\n",
       "      <td>2023</td>\n",
       "      <td>13.75</td>\n",
       "      <td>11.97</td>\n",
       "      <td>21.62</td>\n",
       "      <td>1058291</td>\n",
       "      <td>2.92</td>\n",
       "      <td>1439.98</td>\n",
       "    </tr>\n",
       "    <tr>\n",
       "      <th>4</th>\n",
       "      <td>2024</td>\n",
       "      <td>9.74</td>\n",
       "      <td>7.63</td>\n",
       "      <td>17.46</td>\n",
       "      <td>7235</td>\n",
       "      <td>2.08</td>\n",
       "      <td>1418.68</td>\n",
       "    </tr>\n",
       "    <tr>\n",
       "      <th>5</th>\n",
       "      <td>2014</td>\n",
       "      <td>14.19</td>\n",
       "      <td>12.79</td>\n",
       "      <td>26.97</td>\n",
       "      <td>144944</td>\n",
       "      <td>1.80</td>\n",
       "      <td>90277.33</td>\n",
       "    </tr>\n",
       "  </tbody>\n",
       "</table>\n",
       "</div>"
      ],
      "text/plain": [
       "   Year Average_Ride_Duration Subscriber_Average Customer_Average  \\\n",
       "0  2020                 21.85              16.74            38.63   \n",
       "1  2018                 16.48              13.20            42.98   \n",
       "2  2019                 16.30              13.26            35.06   \n",
       "3  2023                 13.75              11.97            21.62   \n",
       "4  2024                  9.74               7.63            17.46   \n",
       "5  2014                 14.19              12.79            26.97   \n",
       "\n",
       "  Number_of_rides_over_45_minutes Percentage_over_45_minutes Longest_ride  \n",
       "0                          930562                       4.77     63103.12  \n",
       "1                          332669                       1.90    325167.48  \n",
       "2                          332669                       1.97     63544.43  \n",
       "3                         1058291                       2.92      1439.98  \n",
       "4                            7235                       2.08      1418.68  \n",
       "5                          144944                       1.80     90277.33  "
      ]
     },
     "execution_count": 249,
     "metadata": {},
     "output_type": "execute_result"
    }
   ],
   "source": [
    "ride_data_df"
   ]
  },
  {
   "cell_type": "code",
   "execution_count": 250,
   "id": "8f6e5d25",
   "metadata": {},
   "outputs": [
    {
     "data": {
      "text/plain": [
       "0   1051.72\n",
       "1   5419.46\n",
       "2   1059.07\n",
       "3     24.00\n",
       "4     23.64\n",
       "5   1504.62\n",
       "Name: Longest_ride, dtype: object"
      ]
     },
     "execution_count": 250,
     "metadata": {},
     "output_type": "execute_result"
    }
   ],
   "source": [
    "ride_data_df['Longest_ride']/60"
   ]
  },
  {
   "cell_type": "code",
   "execution_count": 228,
   "id": "89ed9739",
   "metadata": {},
   "outputs": [],
   "source": [
    "user['Percentage of Rides by Customer'] = user['Customer']/user['Total Users']*100"
   ]
  },
  {
   "cell_type": "code",
   "execution_count": 223,
   "id": "72faf982",
   "metadata": {},
   "outputs": [
    {
     "data": {
      "image/png": "[encoded data removed]",
      "text/plain": [
       "<Figure size 1200x600 with 1 Axes>"
      ]
     },
     "metadata": {},
     "output_type": "display_data"
    }
   ],
   "source": [
    "import numpy as np\n",
    "years = user['Year'][0:10].unique()\n",
    "plt.figure(figsize=(12, 6))\n",
    "plt.plot(user['Year'][0:10], user['Total Users'][0:10])\n",
    "plt.xticks(np.arange(min(years), max(years)+1, 1.0), years) \n",
    "plt.yticks([]) \n",
    "plt.title('Total Rides by Year')\n",
    "sns.despine(bottom = True, left = True)\n",
    "plt.show()"
   ]
  },
  {
   "cell_type": "code",
   "execution_count": 229,
   "id": "c4d60981",
   "metadata": {},
   "outputs": [
    {
     "data": {
      "text/html": [
       "<div>\n",
       "<style scoped>\n",
       "    .dataframe tbody tr th:only-of-type {\n",
       "        vertical-align: middle;\n",
       "    }\n",
       "\n",
       "    .dataframe tbody tr th {\n",
       "        vertical-align: top;\n",
       "    }\n",
       "\n",
       "    .dataframe thead th {\n",
       "        text-align: right;\n",
       "    }\n",
       "</style>\n",
       "<table border=\"1\" class=\"dataframe\">\n",
       "  <thead>\n",
       "    <tr style=\"text-align: right;\">\n",
       "      <th></th>\n",
       "      <th>Year</th>\n",
       "      <th>Customer</th>\n",
       "      <th>Subscriber</th>\n",
       "      <th>Total Users</th>\n",
       "      <th>Male_riders</th>\n",
       "      <th>Female_riders</th>\n",
       "      <th>Percentage Growth</th>\n",
       "      <th>User Growth</th>\n",
       "      <th>Subscriber Growth</th>\n",
       "      <th>Subscriber Percentage Growth</th>\n",
       "      <th>Male Percentage</th>\n",
       "      <th>Female Percentage</th>\n",
       "      <th>Percentage of Rides by Customer</th>\n",
       "    </tr>\n",
       "  </thead>\n",
       "  <tbody>\n",
       "    <tr>\n",
       "      <th>0</th>\n",
       "      <td>2014</td>\n",
       "      <td>793495</td>\n",
       "      <td>7287721</td>\n",
       "      <td>8081216</td>\n",
       "      <td>5635962</td>\n",
       "      <td>1650274</td>\n",
       "      <td>NaN</td>\n",
       "      <td>NaN</td>\n",
       "      <td>NaN</td>\n",
       "      <td>NaN</td>\n",
       "      <td>77.35</td>\n",
       "      <td>22.65</td>\n",
       "      <td>9.82</td>\n",
       "    </tr>\n",
       "    <tr>\n",
       "      <th>1</th>\n",
       "      <td>2015</td>\n",
       "      <td>1311331</td>\n",
       "      <td>8626638</td>\n",
       "      <td>9937969</td>\n",
       "      <td>6608929</td>\n",
       "      <td>2006962</td>\n",
       "      <td>22.98</td>\n",
       "      <td>1856753.00</td>\n",
       "      <td>1338917.00</td>\n",
       "      <td>18.37</td>\n",
       "      <td>76.71</td>\n",
       "      <td>23.29</td>\n",
       "      <td>13.20</td>\n",
       "    </tr>\n",
       "    <tr>\n",
       "      <th>2</th>\n",
       "      <td>2016</td>\n",
       "      <td>1236265</td>\n",
       "      <td>9026384</td>\n",
       "      <td>10262649</td>\n",
       "      <td>6769032</td>\n",
       "      <td>2186917</td>\n",
       "      <td>3.27</td>\n",
       "      <td>324680.00</td>\n",
       "      <td>399746.00</td>\n",
       "      <td>4.63</td>\n",
       "      <td>75.58</td>\n",
       "      <td>24.42</td>\n",
       "      <td>12.05</td>\n",
       "    </tr>\n",
       "    <tr>\n",
       "      <th>3</th>\n",
       "      <td>2017</td>\n",
       "      <td>1676712</td>\n",
       "      <td>12441957</td>\n",
       "      <td>14118669</td>\n",
       "      <td>9306602</td>\n",
       "      <td>3236735</td>\n",
       "      <td>37.57</td>\n",
       "      <td>3856020.00</td>\n",
       "      <td>3415573.00</td>\n",
       "      <td>37.84</td>\n",
       "      <td>74.20</td>\n",
       "      <td>25.80</td>\n",
       "      <td>11.88</td>\n",
       "    </tr>\n",
       "    <tr>\n",
       "      <th>4</th>\n",
       "      <td>2018</td>\n",
       "      <td>1933514</td>\n",
       "      <td>15614825</td>\n",
       "      <td>17548339</td>\n",
       "      <td>11971322</td>\n",
       "      <td>4092462</td>\n",
       "      <td>24.29</td>\n",
       "      <td>3429670.00</td>\n",
       "      <td>3172868.00</td>\n",
       "      <td>25.50</td>\n",
       "      <td>74.52</td>\n",
       "      <td>25.48</td>\n",
       "      <td>11.02</td>\n",
       "    </tr>\n",
       "    <tr>\n",
       "      <th>5</th>\n",
       "      <td>2019</td>\n",
       "      <td>2872176</td>\n",
       "      <td>17679521</td>\n",
       "      <td>20551697</td>\n",
       "      <td>14052393</td>\n",
       "      <td>4938996</td>\n",
       "      <td>17.11</td>\n",
       "      <td>3003358.00</td>\n",
       "      <td>2064696.00</td>\n",
       "      <td>13.22</td>\n",
       "      <td>73.99</td>\n",
       "      <td>26.01</td>\n",
       "      <td>13.98</td>\n",
       "    </tr>\n",
       "    <tr>\n",
       "      <th>6</th>\n",
       "      <td>2020</td>\n",
       "      <td>4551091</td>\n",
       "      <td>14955766</td>\n",
       "      <td>19506857</td>\n",
       "      <td>11798407</td>\n",
       "      <td>5551873</td>\n",
       "      <td>-5.08</td>\n",
       "      <td>-1044840.00</td>\n",
       "      <td>-2723755.00</td>\n",
       "      <td>-15.41</td>\n",
       "      <td>68.00</td>\n",
       "      <td>32.00</td>\n",
       "      <td>23.33</td>\n",
       "    </tr>\n",
       "    <tr>\n",
       "      <th>7</th>\n",
       "      <td>2021</td>\n",
       "      <td>150177</td>\n",
       "      <td>945169</td>\n",
       "      <td>1095346</td>\n",
       "      <td>714609</td>\n",
       "      <td>289850</td>\n",
       "      <td>-94.38</td>\n",
       "      <td>-18411511.00</td>\n",
       "      <td>-14010597.00</td>\n",
       "      <td>-93.68</td>\n",
       "      <td>71.14</td>\n",
       "      <td>28.86</td>\n",
       "      <td>13.71</td>\n",
       "    </tr>\n",
       "    <tr>\n",
       "      <th>8</th>\n",
       "      <td>2022</td>\n",
       "      <td>6694850</td>\n",
       "      <td>23995071</td>\n",
       "      <td>30689921</td>\n",
       "      <td>0</td>\n",
       "      <td>0</td>\n",
       "      <td>2701.85</td>\n",
       "      <td>29594575.00</td>\n",
       "      <td>23049902.00</td>\n",
       "      <td>2438.71</td>\n",
       "      <td>NaN</td>\n",
       "      <td>NaN</td>\n",
       "      <td>21.81</td>\n",
       "    </tr>\n",
       "    <tr>\n",
       "      <th>9</th>\n",
       "      <td>2023</td>\n",
       "      <td>6696867</td>\n",
       "      <td>29529733</td>\n",
       "      <td>36226600</td>\n",
       "      <td>0</td>\n",
       "      <td>0</td>\n",
       "      <td>18.04</td>\n",
       "      <td>5536679.00</td>\n",
       "      <td>5534662.00</td>\n",
       "      <td>23.07</td>\n",
       "      <td>NaN</td>\n",
       "      <td>NaN</td>\n",
       "      <td>18.49</td>\n",
       "    </tr>\n",
       "    <tr>\n",
       "      <th>10</th>\n",
       "      <td>2024</td>\n",
       "      <td>74656</td>\n",
       "      <td>273794</td>\n",
       "      <td>348450</td>\n",
       "      <td>0</td>\n",
       "      <td>0</td>\n",
       "      <td>-99.04</td>\n",
       "      <td>-35878150.00</td>\n",
       "      <td>-29255939.00</td>\n",
       "      <td>-99.07</td>\n",
       "      <td>NaN</td>\n",
       "      <td>NaN</td>\n",
       "      <td>21.43</td>\n",
       "    </tr>\n",
       "  </tbody>\n",
       "</table>\n",
       "</div>"
      ],
      "text/plain": [
       "    Year  Customer  Subscriber  Total Users  Male_riders  Female_riders  \\\n",
       "0   2014    793495     7287721      8081216      5635962        1650274   \n",
       "1   2015   1311331     8626638      9937969      6608929        2006962   \n",
       "2   2016   1236265     9026384     10262649      6769032        2186917   \n",
       "3   2017   1676712    12441957     14118669      9306602        3236735   \n",
       "4   2018   1933514    15614825     17548339     11971322        4092462   \n",
       "5   2019   2872176    17679521     20551697     14052393        4938996   \n",
       "6   2020   4551091    14955766     19506857     11798407        5551873   \n",
       "7   2021    150177      945169      1095346       714609         289850   \n",
       "8   2022   6694850    23995071     30689921            0              0   \n",
       "9   2023   6696867    29529733     36226600            0              0   \n",
       "10  2024     74656      273794       348450            0              0   \n",
       "\n",
       "    Percentage Growth  User Growth  Subscriber Growth  \\\n",
       "0                 NaN          NaN                NaN   \n",
       "1               22.98   1856753.00         1338917.00   \n",
       "2                3.27    324680.00          399746.00   \n",
       "3               37.57   3856020.00         3415573.00   \n",
       "4               24.29   3429670.00         3172868.00   \n",
       "5               17.11   3003358.00         2064696.00   \n",
       "6               -5.08  -1044840.00        -2723755.00   \n",
       "7              -94.38 -18411511.00       -14010597.00   \n",
       "8             2701.85  29594575.00        23049902.00   \n",
       "9               18.04   5536679.00         5534662.00   \n",
       "10             -99.04 -35878150.00       -29255939.00   \n",
       "\n",
       "    Subscriber Percentage Growth  Male Percentage  Female Percentage  \\\n",
       "0                            NaN            77.35              22.65   \n",
       "1                          18.37            76.71              23.29   \n",
       "2                           4.63            75.58              24.42   \n",
       "3                          37.84            74.20              25.80   \n",
       "4                          25.50            74.52              25.48   \n",
       "5                          13.22            73.99              26.01   \n",
       "6                         -15.41            68.00              32.00   \n",
       "7                         -93.68            71.14              28.86   \n",
       "8                        2438.71              NaN                NaN   \n",
       "9                          23.07              NaN                NaN   \n",
       "10                        -99.07              NaN                NaN   \n",
       "\n",
       "    Percentage of Rides by Customer  \n",
       "0                              9.82  \n",
       "1                             13.20  \n",
       "2                             12.05  \n",
       "3                             11.88  \n",
       "4                             11.02  \n",
       "5                             13.98  \n",
       "6                             23.33  \n",
       "7                             13.71  \n",
       "8                             21.81  \n",
       "9                             18.49  \n",
       "10                            21.43  "
      ]
     },
     "execution_count": 229,
     "metadata": {},
     "output_type": "execute_result"
    }
   ],
   "source": [
    "user"
   ]
  },
  {
   "cell_type": "code",
   "execution_count": 230,
   "id": "852323f1",
   "metadata": {},
   "outputs": [
    {
     "data": {
      "image/png": "[encoded data removed]",
      "text/plain": [
       "<Figure size 640x480 with 1 Axes>"
      ]
     },
     "metadata": {},
     "output_type": "display_data"
    }
   ],
   "source": [
    "import numpy as np\n",
    "years = user['Year'][0:10].unique()\n",
    "plt.plot(user['Year'][0:10], user['Percentage of Rides by Customer'][0:10])\n",
    "plt.xticks(np.arange(min(years), max(years)+1, 1.0), years) \n",
    "plt.yticks([]) \n",
    "plt.title('Total Rides by Year')\n",
    "sns.despine(bottom = True, left = True)\n",
    "plt.show()"
   ]
  }
 ],
 "metadata": {
  "kernelspec": {
   "display_name": "Python 3 (ipykernel)",
   "language": "python",
   "name": "python3"
  },
  "language_info": {
   "codemirror_mode": {
    "name": "ipython",
    "version": 3
   },
   "file_extension": ".py",
   "mimetype": "text/x-python",
   "name": "python",
   "nbconvert_exporter": "python",
   "pygments_lexer": "ipython3",
   "version": "3.11.4"
  }
 },
 "nbformat": 4,
 "nbformat_minor": 5
}
