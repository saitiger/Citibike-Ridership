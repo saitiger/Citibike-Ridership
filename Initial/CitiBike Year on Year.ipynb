{
 "cells": [
  {
   "cell_type": "code",
   "execution_count": 1,
   "id": "5006b54d",
   "metadata": {},
   "outputs": [],
   "source": [
    "import os\n",
    "import pandas as pd\n",
    "import numpy as np\n",
    "import seaborn as sns \n",
    "import matplotlib.pyplot as plt\n",
    "import gc"
   ]
  },
  {
   "cell_type": "code",
   "execution_count": 2,
   "id": "33f52c28",
   "metadata": {},
   "outputs": [],
   "source": [
    "# print(os.getcwd())"
   ]
  },
  {
   "cell_type": "code",
   "execution_count": 6,
   "id": "709ddeba",
   "metadata": {},
   "outputs": [
    {
     "data": {
      "text/plain": [
       "'C:\\\\Users\\\\saira\\\\Downloads'"
      ]
     },
     "execution_count": 6,
     "metadata": {},
     "output_type": "execute_result"
    }
   ],
   "source": [
    "os.getcwd()"
   ]
  },
  {
   "cell_type": "markdown",
   "id": "3c75ad97",
   "metadata": {},
   "source": [
    "CITIBIKE \n",
    "\n",
    "YoY Growth in numbers for all years\n",
    "\n",
    "Acquired by Lyft on September 30, 2018, when the company was acquired by Lyft\n",
    "\n",
    "2014 First Year of Operation \n",
    "2020,2021 --> Covid\n",
    "2022--> 2023 --> Coming out of Covid\n",
    "2023 Last Complete Year of Data \n",
    "2024 Current Year \n",
    "\n",
    "BayWheels : \n",
    "\n",
    "SF Based look at specifically tripduration hypothesis is that it should be longer than Citibike due to the fact that\n",
    "SF has hilly roads \n",
    "Distribution of Ebikes vs Normal Bikes \n",
    "\n",
    "2017 --> First Year of Operation\n",
    "2019 --> Lyft acquired Baywheels\n",
    "2020,2021 --> COVID \n",
    "2024 --> Current Year "
   ]
  },
  {
   "cell_type": "code",
   "execution_count": 2,
   "id": "ca8603cf",
   "metadata": {},
   "outputs": [],
   "source": [
    "pd.options.display.float_format = '{:.2f}'.format"
   ]
  },
  {
   "cell_type": "code",
   "execution_count": 2,
   "id": "2ef017b3",
   "metadata": {},
   "outputs": [],
   "source": [
    "def get_combined_yearly_data(base_path):\n",
    "    column_mapping = {\n",
    "        'Trip Duration': 'trip_duration',\n",
    "        'Start Time': 'starttime',\n",
    "        'Stop Time': 'stoptime',\n",
    "        'Start Station ID': 'start station id',\n",
    "        'Start Station Name': 'start station name',\n",
    "        'Start Station Latitude': 'start station latitude',\n",
    "        'Start Station Longitude': 'start station longitude',\n",
    "        'End Station ID': 'end station id',\n",
    "        'End Station Name': 'end station name',\n",
    "        'End Station Latitude': 'end station latitude',\n",
    "        'End Station Longitude': 'end station longitude',\n",
    "        'Bike ID': 'bikeid',\n",
    "        'User Type': 'usertype',\n",
    "        'Birth Year': 'birth year',\n",
    "        'Gender': 'gender'\n",
    "    }\n",
    "\n",
    "    if not os.path.exists(base_path):\n",
    "        print(f\"Error: The base path '{base_path}' does not exist.\")\n",
    "        return {}\n",
    "\n",
    "    yearly_data = {}\n",
    "\n",
    "    for year_folder in os.listdir(base_path):\n",
    "        year_path = os.path.join(base_path, year_folder)\n",
    "        \n",
    "        if os.path.isdir(year_path):\n",
    "            year_dataframes = []\n",
    "            \n",
    "            for month_folder in os.listdir(year_path):\n",
    "                month_path = os.path.join(year_path, month_folder)\n",
    "                \n",
    "                if os.path.isdir(month_path):\n",
    "                    for file in os.listdir(month_path):\n",
    "                        if file.endswith(\".csv\"):\n",
    "                            file_path = os.path.join(month_path, file)\n",
    "                            try:\n",
    "                                df = pd.read_csv(file_path, engine = 'python', low_memory=False)\n",
    "                                df.rename(columns=column_mapping, inplace=True)\n",
    "                                year_dataframes.append(df)\n",
    "                            except Exception as e:\n",
    "                                print(f\"Error reading {file_path}: {e}\")\n",
    "            \n",
    "            if year_dataframes:\n",
    "                yearly_data[year_folder] = pd.concat(year_dataframes, ignore_index=True)\n",
    "    \n",
    "    return yearly_data"
   ]
  },
  {
   "cell_type": "code",
   "execution_count": 6,
   "id": "8552bdbf",
   "metadata": {},
   "outputs": [],
   "source": [
    "# base_path = r\"Downloads\\CitiBike\"\n",
    "# combined_data = get_combined_yearly_data(base_path)"
   ]
  },
  {
   "cell_type": "code",
   "execution_count": 3,
   "id": "b18d39f0",
   "metadata": {},
   "outputs": [],
   "source": [
    "def get_excel_files_from_monthly_folders(base_path):\n",
    "    \n",
    "    column_mapping = {'Trip Duration': 'tripduration',\n",
    "    'Start Time': 'starttime',\n",
    "    'Stop Time': 'stoptime',\n",
    "    'Start Station ID': 'start station id',\n",
    "    'Start Station Name': 'start station name',\n",
    "    'Start Station Latitude': 'start station latitude',\n",
    "    'Start Station Longitude': 'start station longitude',\n",
    "    'End Station ID': 'end station id',\n",
    "    'End Station Name': 'end station name',\n",
    "    'End Station Latitude': 'end station latitude',\n",
    "    'End Station Longitude': 'end station longitude',\n",
    "    'Bike ID': 'bikeid',\n",
    "    'User Type': 'usertype',\n",
    "    'Birth Year': 'birth year',\n",
    "    'Gender': 'gender'}\n",
    "\n",
    "    if not os.path.exists(base_path):\n",
    "        print(f\"Error: The base path '{base_path}' does not exist.\")\n",
    "        return []\n",
    "\n",
    "    all_dataframes = []\n",
    "    \n",
    "    for month_folder in os.listdir(base_path):\n",
    "        month_path = os.path.join(base_path, month_folder)\n",
    "        \n",
    "        if os.path.isdir(month_path):\n",
    "            for file in os.listdir(month_path):\n",
    "                if file.endswith(\".csv\"):\n",
    "                    file_path = os.path.join(month_path, file)                  \n",
    "                    try:\n",
    "                        df = pd.read_csv(file_path)\n",
    "                        all_dataframes.append(df)\n",
    "                    except Exception as e:\n",
    "                        print(f\"Error reading {file_path}: {e}\")\n",
    "    \n",
    "    return all_dataframes"
   ]
  },
  {
   "cell_type": "code",
   "execution_count": 4,
   "id": "02f949e8",
   "metadata": {},
   "outputs": [],
   "source": [
    "# Drop stoptime,id,name,birth year etc.\n",
    "# Add Birth year do \n",
    "\n",
    "def combine_dataframes_pre2022(dataframes):\n",
    "    combined_df = pd.concat(dataframes, ignore_index = True)\n",
    "    combined_df[['tripduration','starttime','gender','birth year','usertype','bikeid']]\n",
    "    return combined_df\n",
    "\n",
    "def combine_dataframes_post2022(dataframes):\n",
    "    combined_df = pd.concat(dataframes, ignore_index = True)\n",
    "    combined_df[['member_casual','rideable_type','started_at','ended_at']]\n",
    "    return combined_df\n",
    "\n",
    "\n",
    "def save_combined_dataframe(df, output_path):\n",
    "    try:\n",
    "        df.to_excel(output_path, index=False)\n",
    "        print(f\"Combined Excel file saved to: {output_path}\")\n",
    "    except Exception as e:\n",
    "        print(f\"Error saving combined Excel file: {e}\")"
   ]
  },
  {
   "cell_type": "code",
   "execution_count": 8,
   "id": "1b4d7f3f",
   "metadata": {},
   "outputs": [],
   "source": [
    "# Initially explored 2013 data but later decided to not include it in the analysis as it only has 7 months of operation i.e. \n",
    "# from June to December\n",
    "\n",
    "# df_final_2013['starttime'].dt.month.unique()\n",
    "\n",
    "# base_path = r\"Downloads\\CitiBike\\2013-citibike-tripdata\\2013-citibike-tripdata\"  \n",
    "# excel_files = get_excel_files_from_monthly_folders(base_path)\n",
    "# df_final_2013 = combine_dataframes(excel_files)"
   ]
  },
  {
   "cell_type": "markdown",
   "id": "dc1983a6",
   "metadata": {},
   "source": [
    "Some snippets from 2013 i.e. When Citibike was launched in New York\n",
    "\n",
    "Number of Rides Completed : 5 Million+ Rides (56,14,888)\n",
    "\n",
    "Average Ride Duration : 15.6 minutes\n",
    "\n",
    "Subscribers 4.7 Million and Customer : 90,000+ \n",
    "\n",
    "gender\n",
    "0     907911\n",
    "1    3598883\n",
    "2    1108094\n",
    "\n",
    "Customer     26.60\n",
    "Subscriber   13.51"
   ]
  },
  {
   "cell_type": "code",
   "execution_count": 237,
   "id": "152cb8ce",
   "metadata": {},
   "outputs": [],
   "source": [
    "user_growth_data = {\n",
    "    'Year': [],\n",
    "    'Customer': [],\n",
    "    'Subscriber': [],\n",
    "    'Total Users':[],\n",
    "    'Male_riders':[],\n",
    "    'Female_riders':[]\n",
    "}\n",
    "\n",
    "def update_data_user(year, counts,gender = None):\n",
    "    user_growth_data['Year'].append(year)\n",
    "        \n",
    "    customer_count = counts.loc[counts['cust_type'] == 'Customer', 'Count']\n",
    "    subscriber_count = counts.loc[counts['cust_type'] == 'Subscriber', 'Count']\n",
    "    \n",
    "    male_count = 0\n",
    "    female_count = 0\n",
    "\n",
    "    if gender is not None:\n",
    "        gender['gender'] = gender['gender'].replace({1: 'male', 2: 'female'})\n",
    "        gender = gender[gender['gender'] != 0]\n",
    "\n",
    "        male_count = gender.loc[gender['gender'] == 'male', 'count']\n",
    "        female_count = gender.loc[gender['gender'] == 'female', 'count']\n",
    "    \n",
    "    user_growth_data['Male_riders'].append(male_count.values[0] if gender is not None else 0)\n",
    "    user_growth_data['Female_riders'].append(female_count.values[0] if gender is not None else 0)\n",
    "\n",
    "    user_growth_data['Customer'].append(customer_count.values[0] if not customer_count.empty else 0)\n",
    "    user_growth_data['Subscriber'].append(subscriber_count.values[0] if not subscriber_count.empty else 0)\n",
    "    user_growth_data['Total Users'].append(customer_count.values[0] + subscriber_count.values[0] if not customer_count.empty else 0)"
   ]
  },
  {
   "cell_type": "code",
   "execution_count": 251,
   "id": "cd6d3f0e",
   "metadata": {},
   "outputs": [
    {
     "ename": "NameError",
     "evalue": "name 'df_final_2022' is not defined",
     "output_type": "error",
     "traceback": [
      "\u001b[1;31m---------------------------------------------------------------------------\u001b[0m",
      "\u001b[1;31mNameError\u001b[0m                                 Traceback (most recent call last)",
      "Cell \u001b[1;32mIn[251], line 2\u001b[0m\n\u001b[0;32m      1\u001b[0m \u001b[38;5;66;03m# cnt_2022[cnt_2022['cust_type']]=='member'\u001b[39;00m\n\u001b[1;32m----> 2\u001b[0m df_final_2022\u001b[38;5;241m.\u001b[39mhead()\n",
      "\u001b[1;31mNameError\u001b[0m: name 'df_final_2022' is not defined"
     ]
    }
   ],
   "source": [
    "# cnt_2022[cnt_2022['cust_type']]=='member'"
   ]
  },
  {
   "cell_type": "code",
   "execution_count": null,
   "id": "1a9dde12",
   "metadata": {},
   "outputs": [],
   "source": [
    "bike_data = {\n",
    "    'Year': [],\n",
    "    'Number of Bikes': [],\n",
    "    'Average number of rides per bike': [],\n",
    "    'Electric_rides_percentage':[]\n",
    "}\n",
    "\n",
    "def update_data_user(year, counts):\n",
    "    data['Year'].append(year)\n",
    "    customer_count = counts.loc[counts['cust_type'] == 'Customer', 'Count']\n",
    "    subscriber_count = counts.loc[counts['cust_type'] == 'Subscriber', 'Count']\n",
    "    user_growth_data['Customer'].append(customer_count.values[0] if not customer_count.empty else 0)\n",
    "    user_growth_data['Subscriber'].append(subscriber_count.values[0] if not subscriber_count.empty else 0)\n",
    "    user_growth_data['Total Users'].append(customer_count.values[0] + subscriber_count.values[0] if not customer_count.empty else 0)"
   ]
  },
  {
   "cell_type": "code",
   "execution_count": null,
   "id": "20896a17",
   "metadata": {},
   "outputs": [],
   "source": [
    "ride_data = {\n",
    "    'Year': [],\n",
    "    'Average_Ride_Duration': [],\n",
    "    'Subscriber_Average': [],\n",
    "    'Customer_Average':[],\n",
    "    'Number_of_rides_over_45_minutes':[],\n",
    "    'Longest_ride':[]\n",
    "}\n",
    "\n",
    "def update_data_ride(year, counts):\n",
    "    data['Year'].append(year)\n",
    "    customer_count = counts.loc[counts['cust_type'] == 'Customer', 'Count']\n",
    "    subscriber_count = counts.loc[counts['cust_type'] == 'Subscriber', 'Count']\n",
    "    user_growth_data['Customer'].append(customer_count.values[0] if not customer_count.empty else 0)\n",
    "    user_growth_data['Subscriber'].append(subscriber_count.values[0] if not subscriber_count.empty else 0)\n",
    "    user_growth_data['Total Users'].append(customer_count.values[0] + subscriber_count.values[0] if not customer_count.empty else 0)"
   ]
  },
  {
   "cell_type": "code",
   "execution_count": 58,
   "id": "babf6498",
   "metadata": {},
   "outputs": [],
   "source": [
    "cnt_2014 = df_final_2014['usertype'].value_counts().reset_index().rename(columns={'index':'cust_type','usertype':'Count'})\n",
    "gndr_2014 = df_final_2014['gender'].value_counts().reset_index().rename(columns={'index':'gender','gender':'count'})\n",
    "update_data_user(2014, cnt_2014,gndr_2014)"
   ]
  },
  {
   "cell_type": "code",
   "execution_count": 60,
   "id": "12432da3",
   "metadata": {},
   "outputs": [],
   "source": [
    "cnt_2015 = df_final_2015['usertype'].value_counts().reset_index().rename(columns={'index':'cust_type','usertype':'Count'})\n",
    "gndr_2015 = df_final_2015['gender'].value_counts().reset_index().rename(columns={'index':'gender','gender':'count'})\n",
    "update_data_user(2015, cnt_2015,gndr_2015)"
   ]
  },
  {
   "cell_type": "code",
   "execution_count": 61,
   "id": "7d941f79",
   "metadata": {},
   "outputs": [],
   "source": [
    "cnt_2016 = df_final_2016['usertype'].value_counts().reset_index().rename(columns={'index':'cust_type','usertype':'Count'})\n",
    "gndr_2016 = df_final_2016['gender'].value_counts().reset_index().rename(columns={'index':'gender','gender':'count'})\n",
    "update_data_user(2016, cnt_2016,gndr_2016)"
   ]
  },
  {
   "cell_type": "code",
   "execution_count": 62,
   "id": "131eb9b2",
   "metadata": {},
   "outputs": [],
   "source": [
    "cnt_2017 = df_final_2017['usertype'].value_counts().reset_index().rename(columns={'index':'cust_type','usertype':'Count'})\n",
    "gndr_2017 = df_final_2017['gender'].value_counts().reset_index().rename(columns={'index':'gender','gender':'count'})\n",
    "update_data_user(2017, cnt_2017,gndr_2017)"
   ]
  },
  {
   "cell_type": "code",
   "execution_count": 63,
   "id": "c63b03ca",
   "metadata": {},
   "outputs": [],
   "source": [
    "cnt_2018 = df_final_2018['usertype'].value_counts().reset_index().rename(columns={'index':'cust_type','usertype':'Count'})\n",
    "gndr_2018 = df_final_2018['gender'].value_counts().reset_index().rename(columns={'index':'gender','gender':'count'})\n",
    "update_data_user(2018, cnt_2018,gndr_2018)"
   ]
  },
  {
   "cell_type": "code",
   "execution_count": 64,
   "id": "90a09d07",
   "metadata": {},
   "outputs": [],
   "source": [
    "cnt_2019 = df_final_2019['usertype'].value_counts().reset_index().rename(columns={'index':'cust_type','usertype':'Count'})\n",
    "gndr_2019 = df_final_2019['gender'].value_counts().reset_index().rename(columns={'index':'gender','gender':'count'})\n",
    "update_data_user(2019, cnt_2019,gndr_2019)"
   ]
  },
  {
   "cell_type": "code",
   "execution_count": 65,
   "id": "edd523b3",
   "metadata": {},
   "outputs": [],
   "source": [
    "cnt_2020 = df_final_2020['usertype'].value_counts().reset_index().rename(columns={'index':'cust_type','usertype':'Count'})\n",
    "gndr_2020 = df_final_2020['gender'].value_counts().reset_index().rename(columns={'index':'gender','gender':'count'})\n",
    "update_data_user(2020, cnt_2020,gndr_2020)"
   ]
  },
  {
   "cell_type": "code",
   "execution_count": 215,
   "id": "4b15cff3",
   "metadata": {},
   "outputs": [],
   "source": [
    "# cnt_2021 = df_final_2021['usertype'].value_counts().reset_index().rename(columns={'index':'cust_type','usertype':'Count'})\n",
    "# gndr_2021 = df_final_2021['gender'].value_counts().reset_index().rename(columns={'index':'gender','gender':'count'})\n",
    "update_data_user(2021, cnt_2021,gndr_2021)"
   ]
  },
  {
   "cell_type": "code",
   "execution_count": 216,
   "id": "5076727f",
   "metadata": {},
   "outputs": [],
   "source": [
    "# cnt_2022 = df_final_2022['member_casual'].value_counts().reset_index().rename(columns={'index':'cust_type','member_casual':'Count'})\n",
    "# cnt_2022.loc[cnt_2022['cust_type']=='member','cust_type'] = 'Subscriber'\n",
    "# cnt_2022.loc[cnt_2022['cust_type']=='casual','cust_type'] = 'Customer'\n",
    "update_data_user(2022, cnt_2022)"
   ]
  },
  {
   "cell_type": "code",
   "execution_count": 232,
   "id": "4faf2c78",
   "metadata": {},
   "outputs": [],
   "source": [
    "cnt_2023 = df_final_2023['member_casual'].value_counts().reset_index().rename(columns={'index':'cust_type','member_casual':'Count'})\n",
    "cnt_2023.loc[cnt_2023['cust_type']=='member','cust_type'] = 'Subscriber'\n",
    "cnt_2023.loc[cnt_2023['cust_type']=='casual','cust_type'] = 'Customer'"
   ]
  },
  {
   "cell_type": "code",
   "execution_count": 233,
   "id": "3314f036",
   "metadata": {},
   "outputs": [],
   "source": [
    "cnt_2024 = df_final_2024['member_casual'].value_counts().reset_index().rename(columns={'index':'cust_type','member_casual':'Count'})\n",
    "cnt_2024.loc[cnt_2024['cust_type']=='member','cust_type'] = 'Subscriber'\n",
    "cnt_2024.loc[cnt_2024['cust_type']=='casual','cust_type'] = 'Customer'"
   ]
  },
  {
   "cell_type": "code",
   "execution_count": 238,
   "id": "844617e4",
   "metadata": {},
   "outputs": [],
   "source": [
    "update_data_user(2023, cnt_2023)\n",
    "update_data_user(2024, cnt_2024)"
   ]
  },
  {
   "cell_type": "code",
   "execution_count": 181,
   "id": "b416da6d",
   "metadata": {},
   "outputs": [
    {
     "data": {
      "text/html": [
       "<div>\n",
       "<style scoped>\n",
       "    .dataframe tbody tr th:only-of-type {\n",
       "        vertical-align: middle;\n",
       "    }\n",
       "\n",
       "    .dataframe tbody tr th {\n",
       "        vertical-align: top;\n",
       "    }\n",
       "\n",
       "    .dataframe thead th {\n",
       "        text-align: right;\n",
       "    }\n",
       "</style>\n",
       "<table border=\"1\" class=\"dataframe\">\n",
       "  <thead>\n",
       "    <tr style=\"text-align: right;\">\n",
       "      <th></th>\n",
       "      <th>cust_type</th>\n",
       "      <th>Count</th>\n",
       "    </tr>\n",
       "  </thead>\n",
       "  <tbody>\n",
       "    <tr>\n",
       "      <th>0</th>\n",
       "      <td>Subscriber</td>\n",
       "      <td>23995071</td>\n",
       "    </tr>\n",
       "    <tr>\n",
       "      <th>1</th>\n",
       "      <td>Customer</td>\n",
       "      <td>6694850</td>\n",
       "    </tr>\n",
       "  </tbody>\n",
       "</table>\n",
       "</div>"
      ],
      "text/plain": [
       "    cust_type     Count\n",
       "0  Subscriber  23995071\n",
       "1    Customer   6694850"
      ]
     },
     "execution_count": 181,
     "metadata": {},
     "output_type": "execute_result"
    }
   ],
   "source": [
    "# update_data_user(2021, cnt_2021,gndr_2021)\n",
    "# user_growth_df.append(user_growth_data,ignore_index=True)\n",
    "# cnt_2022"
   ]
  },
  {
   "cell_type": "code",
   "execution_count": 261,
   "id": "574a1dc1",
   "metadata": {},
   "outputs": [
    {
     "data": {
      "text/html": [
       "<div>\n",
       "<style scoped>\n",
       "    .dataframe tbody tr th:only-of-type {\n",
       "        vertical-align: middle;\n",
       "    }\n",
       "\n",
       "    .dataframe tbody tr th {\n",
       "        vertical-align: top;\n",
       "    }\n",
       "\n",
       "    .dataframe thead th {\n",
       "        text-align: right;\n",
       "    }\n",
       "</style>\n",
       "<table border=\"1\" class=\"dataframe\">\n",
       "  <thead>\n",
       "    <tr style=\"text-align: right;\">\n",
       "      <th></th>\n",
       "      <th>Year</th>\n",
       "      <th>Customer</th>\n",
       "      <th>Subscriber</th>\n",
       "      <th>Total Users</th>\n",
       "      <th>Male_riders</th>\n",
       "      <th>Female_riders</th>\n",
       "    </tr>\n",
       "  </thead>\n",
       "  <tbody>\n",
       "    <tr>\n",
       "      <th>0</th>\n",
       "      <td>2015</td>\n",
       "      <td>1311331</td>\n",
       "      <td>8626638</td>\n",
       "      <td>9937969</td>\n",
       "      <td>6608929</td>\n",
       "      <td>2006962</td>\n",
       "    </tr>\n",
       "    <tr>\n",
       "      <th>1</th>\n",
       "      <td>2016</td>\n",
       "      <td>1236265</td>\n",
       "      <td>9026384</td>\n",
       "      <td>10262649</td>\n",
       "      <td>6769032</td>\n",
       "      <td>2186917</td>\n",
       "    </tr>\n",
       "    <tr>\n",
       "      <th>2</th>\n",
       "      <td>2017</td>\n",
       "      <td>1676712</td>\n",
       "      <td>12441957</td>\n",
       "      <td>14118669</td>\n",
       "      <td>9306602</td>\n",
       "      <td>3236735</td>\n",
       "    </tr>\n",
       "    <tr>\n",
       "      <th>3</th>\n",
       "      <td>2018</td>\n",
       "      <td>1933514</td>\n",
       "      <td>15614825</td>\n",
       "      <td>17548339</td>\n",
       "      <td>11971322</td>\n",
       "      <td>4092462</td>\n",
       "    </tr>\n",
       "    <tr>\n",
       "      <th>4</th>\n",
       "      <td>2019</td>\n",
       "      <td>2872176</td>\n",
       "      <td>17679521</td>\n",
       "      <td>20551697</td>\n",
       "      <td>14052393</td>\n",
       "      <td>4938996</td>\n",
       "    </tr>\n",
       "    <tr>\n",
       "      <th>5</th>\n",
       "      <td>2020</td>\n",
       "      <td>4551091</td>\n",
       "      <td>14955766</td>\n",
       "      <td>19506857</td>\n",
       "      <td>11798407</td>\n",
       "      <td>5551873</td>\n",
       "    </tr>\n",
       "    <tr>\n",
       "      <th>6</th>\n",
       "      <td>2021</td>\n",
       "      <td>150177</td>\n",
       "      <td>945169</td>\n",
       "      <td>1095346</td>\n",
       "      <td>714609</td>\n",
       "      <td>289850</td>\n",
       "    </tr>\n",
       "    <tr>\n",
       "      <th>7</th>\n",
       "      <td>2022</td>\n",
       "      <td>6694850</td>\n",
       "      <td>23995071</td>\n",
       "      <td>30689921</td>\n",
       "      <td>0</td>\n",
       "      <td>0</td>\n",
       "    </tr>\n",
       "    <tr>\n",
       "      <th>8</th>\n",
       "      <td>2023</td>\n",
       "      <td>6696867</td>\n",
       "      <td>29529733</td>\n",
       "      <td>36226600</td>\n",
       "      <td>0</td>\n",
       "      <td>0</td>\n",
       "    </tr>\n",
       "    <tr>\n",
       "      <th>9</th>\n",
       "      <td>2024</td>\n",
       "      <td>74656</td>\n",
       "      <td>273794</td>\n",
       "      <td>348450</td>\n",
       "      <td>0</td>\n",
       "      <td>0</td>\n",
       "    </tr>\n",
       "  </tbody>\n",
       "</table>\n",
       "</div>"
      ],
      "text/plain": [
       "   Year  Customer  Subscriber  Total Users  Male_riders  Female_riders\n",
       "0  2015   1311331     8626638      9937969      6608929        2006962\n",
       "1  2016   1236265     9026384     10262649      6769032        2186917\n",
       "2  2017   1676712    12441957     14118669      9306602        3236735\n",
       "3  2018   1933514    15614825     17548339     11971322        4092462\n",
       "4  2019   2872176    17679521     20551697     14052393        4938996\n",
       "5  2020   4551091    14955766     19506857     11798407        5551873\n",
       "6  2021    150177      945169      1095346       714609         289850\n",
       "7  2022   6694850    23995071     30689921            0              0\n",
       "8  2023   6696867    29529733     36226600            0              0\n",
       "9  2024     74656      273794       348450            0              0"
      ]
     },
     "execution_count": 261,
     "metadata": {},
     "output_type": "execute_result"
    }
   ],
   "source": [
    "user_growth_df"
   ]
  },
  {
   "cell_type": "code",
   "execution_count": 240,
   "id": "0536ffbc",
   "metadata": {},
   "outputs": [],
   "source": [
    "user_growth_df2 = pd.DataFrame(user_growth_data)"
   ]
  },
  {
   "cell_type": "code",
   "execution_count": 241,
   "id": "86a00c3f",
   "metadata": {},
   "outputs": [],
   "source": [
    "user_growth_df = pd.concat([user_growth_df,user_growth_df2],ignore_index = True)"
   ]
  },
  {
   "cell_type": "code",
   "execution_count": 244,
   "id": "6da9db50",
   "metadata": {},
   "outputs": [],
   "source": [
    "user_growth_df_chart = user_growth_df[user_growth_df['Year']!=2024]"
   ]
  },
  {
   "cell_type": "code",
   "execution_count": 249,
   "id": "189bb69a",
   "metadata": {},
   "outputs": [
    {
     "data": {
      "image/png": "[encoded data removed]",
      "text/plain": [
       "<Figure size 640x480 with 1 Axes>"
      ]
     },
     "metadata": {},
     "output_type": "display_data"
    }
   ],
   "source": [
    "ax1 = sns.barplot(data = user_growth_df_chart, x = 'Year', y = 'Total Users', color = 'gray')\n",
    "ax2 = sns.barplot(data = user_growth_df_chart, x = 'Year', y = 'Customer', color = 'red', label = 'Customers')\n",
    "\n",
    "sns.despine(bottom = True, left = True)\n",
    "\n",
    "plt.ticklabel_format(style='plain', axis='y')\n",
    "\n",
    "# for index, row in user_growth_df.iterrows():\n",
    "#     plt.text(x=index, y=row['Customer'], s=f\"{row['Customer']}\", ha='center')\n",
    "\n",
    "sns.lineplot(data = user_growth_df_chart['Subscriber'], label = 'Subscribers')\n",
    "# ax.set_xticks([]) \n",
    "ax1.set_yticks([]) \n",
    "plt.title('User Growth')\n",
    "plt.xlabel('')\n",
    "plt.ylabel('')\n",
    "plt.legend()\n",
    "plt.show()"
   ]
  },
  {
   "cell_type": "code",
   "execution_count": 260,
   "id": "5ef1cd0c",
   "metadata": {},
   "outputs": [],
   "source": [
    "# user_growth_df.to_csv('my_data.csv', index=False)"
   ]
  },
  {
   "cell_type": "code",
   "execution_count": 88,
   "id": "5420fd17",
   "metadata": {},
   "outputs": [
    {
     "data": {
      "image/png": "[encoded data removed]",
      "text/plain": [
       "<Figure size 640x480 with 1 Axes>"
      ]
     },
     "metadata": {},
     "output_type": "display_data"
    }
   ],
   "source": [
    "ax = sns.lineplot(data = user_growth_df['Customer'])\n",
    "sns.despine(bottom = True, left = True)\n",
    "\n",
    "# plt.ticklabel_format(style='plain', axis='y')\n",
    "\n",
    "# for index, row in user_growth_df.iterrows():\n",
    "#     plt.text(x=index, y=row['Customer'], s=f\"{row['Customer']}\", ha='center')\n",
    "\n",
    "ax.set_xticks([]) \n",
    "# ax.set_yticks([]) \n",
    "# plt.title('User Growth')\n",
    "# plt.xlabel('')\n",
    "# plt.ylabel('')\n",
    "plt.show()"
   ]
  },
  {
   "cell_type": "code",
   "execution_count": null,
   "id": "de12375b",
   "metadata": {},
   "outputs": [],
   "source": [
    "1) Growth in Rides & 2) Growth in Average Ride Duration\n",
    "\n",
    "df_final_2014['tripduration'].agg(['count','mean'])\n",
    "\n",
    "3) Growth in Customers, Subscribers\n",
    "\n",
    "df_final_2014['usertype'].value_counts().reset_index().rename(columns={'index':'cust_type','usertype':'Count'})\n",
    "\n",
    "4) Growth in Average Ride Duration by usertype\n",
    "\n",
    "df_final_2014.groupby('usertype')['tripduration'].mean().reset_index()\n",
    "\n",
    "5) Growth in Number of Bikes \n",
    "\n",
    "df_final_2014['bikeid'].count()\n",
    "\n",
    "6) Change in average number of rides per bike\n",
    "\n",
    "df_final_2014['tripduration'].count()/df_final_2014['bikeid'].nunique()\n",
    "\n",
    "7) Growth in number of rides averaging over 45 minutes\n",
    "\n",
    "df_final_2014[df_final_2014['tripduration']/60>45]['tripduration'].count()\n",
    "\n",
    "8) Change in Gender distribution\n",
    "\n",
    "df_final_2014['gender'].value_counts()\n",
    "\n",
    "9) Change in Monthly Number of Rides (See if the over the years if there is a pattern)\n",
    "\n",
    "df_final_2024.groupby(df_final_2024['started_at'].dt.month)['tripduration'].count().reset_index().rename(columns={'tripduration':'Count'})\n",
    "\n",
    "10) Longest Ride per year \n",
    "\n",
    "df_final_2014['tripduration'].max()/60\n",
    "\n",
    "11) Electrification over the years (Growth rate) 2022 and onwards !\n",
    "\n",
    "df_final_2024[df_final_2024['rideable_type'] == 'electric_bike']['rideable_type'].count()"
   ]
  },
  {
   "cell_type": "code",
   "execution_count": 271,
   "id": "6c778454",
   "metadata": {},
   "outputs": [
    {
     "ename": "KeyboardInterrupt",
     "evalue": "",
     "output_type": "error",
     "traceback": [
      "\u001b[1;31m---------------------------------------------------------------------------\u001b[0m",
      "\u001b[1;31mKeyboardInterrupt\u001b[0m                         Traceback (most recent call last)",
      "\u001b[1;31mKeyboardInterrupt\u001b[0m: "
     ]
    }
   ],
   "source": [
    "# del df_final_2014\n",
    "# del df_final_2015\n",
    "# del df_final_2016\n",
    "# del df_final_2017\n",
    "# del df_final_2018\n",
    "# del df_final_2021\n",
    "del df_final_2022\n",
    "del df_final_2023\n",
    "del df_final_2024\n",
    "\n",
    "gc.collect()"
   ]
  },
  {
   "cell_type": "code",
   "execution_count": null,
   "id": "9c09c7e9",
   "metadata": {},
   "outputs": [],
   "source": [
    "df_final_2022.head()"
   ]
  },
  {
   "cell_type": "code",
   "execution_count": 7,
   "id": "58487536",
   "metadata": {},
   "outputs": [],
   "source": [
    "base_path = r\"Downloads\\CitiBike\\2014-citibike-tripdata\\2014-citibike-tripdata\"  \n",
    "excel_files = get_excel_files_from_monthly_folders(base_path)\n",
    "df_final_2014 = combine_dataframes_pre2022(excel_files)"
   ]
  },
  {
   "cell_type": "code",
   "execution_count": 8,
   "id": "40743711",
   "metadata": {},
   "outputs": [],
   "source": [
    "base_path = r\"Downloads\\CitiBike\\2015-citibike-tripdata\\2015-citibike-tripdata\"  \n",
    "excel_files = get_excel_files_from_monthly_folders(base_path)\n",
    "df_final_2015 = combine_dataframes_pre2022(excel_files)"
   ]
  },
  {
   "cell_type": "code",
   "execution_count": 9,
   "id": "37f52915",
   "metadata": {},
   "outputs": [],
   "source": [
    "base_path = r\"Downloads\\CitiBike\\2016-citibike-tripdata\\2016-citibike-tripdata\"  \n",
    "excel_files = get_excel_files_from_monthly_folders(base_path)\n",
    "df_final_2016 = combine_dataframes_pre2022(excel_files)"
   ]
  },
  {
   "cell_type": "code",
   "execution_count": 10,
   "id": "3a1067c7",
   "metadata": {},
   "outputs": [],
   "source": [
    "base_path = r\"Downloads\\CitiBike\\2017-citibike-tripdata\\2017-citibike-tripdata\"  \n",
    "excel_files = get_excel_files_from_monthly_folders(base_path)\n",
    "df_final_2017 = combine_dataframes_pre2022(excel_files)"
   ]
  },
  {
   "cell_type": "code",
   "execution_count": 11,
   "id": "cac84113",
   "metadata": {},
   "outputs": [],
   "source": [
    "base_path = r\"Downloads\\CitiBike\\2018-citibike-tripdata\\2018-citibike-tripdata\"  \n",
    "excel_files = get_excel_files_from_monthly_folders(base_path)\n",
    "df_final_2018 = combine_dataframes_pre2022(excel_files)"
   ]
  },
  {
   "cell_type": "code",
   "execution_count": 12,
   "id": "aa3a7ec1",
   "metadata": {},
   "outputs": [],
   "source": [
    "base_path = r\"Downloads\\CitiBike\\2019-citibike-tripdata\\2019-citibike-tripdata\"  \n",
    "excel_files = get_excel_files_from_monthly_folders(base_path)\n",
    "df_final_2019 = combine_dataframes_pre2022(excel_files)"
   ]
  },
  {
   "cell_type": "code",
   "execution_count": 264,
   "id": "50e28e0a",
   "metadata": {},
   "outputs": [
    {
     "name": "stdout",
     "output_type": "stream",
     "text": [
      "Error reading Downloads\\CitiBike\\2020-citibike-tripdata\\2020-citibike-tripdata\\8_August\\202008-citibike-tripdata_2.csv: Unable to allocate 30.5 MiB for an array with shape (4, 1000000) and data type float64\n",
      "Error reading Downloads\\CitiBike\\2020-citibike-tripdata\\2020-citibike-tripdata\\9_September\\202009-citibike-tripdata_2.csv: Unable to allocate 15.3 MiB for an array with shape (2, 1000000) and data type object\n"
     ]
    },
    {
     "ename": "KeyboardInterrupt",
     "evalue": "",
     "output_type": "error",
     "traceback": [
      "\u001b[1;31m---------------------------------------------------------------------------\u001b[0m",
      "\u001b[1;31mKeyboardInterrupt\u001b[0m                         Traceback (most recent call last)",
      "Cell \u001b[1;32mIn[264], line 3\u001b[0m\n\u001b[0;32m      1\u001b[0m base_path \u001b[38;5;241m=\u001b[39m \u001b[38;5;124mr\u001b[39m\u001b[38;5;124m\"\u001b[39m\u001b[38;5;124mDownloads\u001b[39m\u001b[38;5;124m\\\u001b[39m\u001b[38;5;124mCitiBike\u001b[39m\u001b[38;5;124m\\\u001b[39m\u001b[38;5;124m2020-citibike-tripdata\u001b[39m\u001b[38;5;124m\\\u001b[39m\u001b[38;5;124m2020-citibike-tripdata\u001b[39m\u001b[38;5;124m\"\u001b[39m  \n\u001b[0;32m      2\u001b[0m excel_files \u001b[38;5;241m=\u001b[39m get_excel_files_from_monthly_folders(base_path)\n\u001b[1;32m----> 3\u001b[0m df_final_2020 \u001b[38;5;241m=\u001b[39m combine_dataframes_pre2022(excel_files)\n",
      "Cell \u001b[1;32mIn[4], line 5\u001b[0m, in \u001b[0;36mcombine_dataframes_pre2022\u001b[1;34m(dataframes)\u001b[0m\n\u001b[0;32m      4\u001b[0m \u001b[38;5;28;01mdef\u001b[39;00m \u001b[38;5;21mcombine_dataframes_pre2022\u001b[39m(dataframes):\n\u001b[1;32m----> 5\u001b[0m     combined_df \u001b[38;5;241m=\u001b[39m pd\u001b[38;5;241m.\u001b[39mconcat(dataframes, ignore_index \u001b[38;5;241m=\u001b[39m \u001b[38;5;28;01mTrue\u001b[39;00m)\n\u001b[0;32m      6\u001b[0m     combined_df[[\u001b[38;5;124m'\u001b[39m\u001b[38;5;124mtripduration\u001b[39m\u001b[38;5;124m'\u001b[39m,\u001b[38;5;124m'\u001b[39m\u001b[38;5;124mstarttime\u001b[39m\u001b[38;5;124m'\u001b[39m,\u001b[38;5;124m'\u001b[39m\u001b[38;5;124mgender\u001b[39m\u001b[38;5;124m'\u001b[39m,\u001b[38;5;124m'\u001b[39m\u001b[38;5;124mbirth year\u001b[39m\u001b[38;5;124m'\u001b[39m,\u001b[38;5;124m'\u001b[39m\u001b[38;5;124musertype\u001b[39m\u001b[38;5;124m'\u001b[39m,\u001b[38;5;124m'\u001b[39m\u001b[38;5;124mbikeid\u001b[39m\u001b[38;5;124m'\u001b[39m]]\n\u001b[0;32m      7\u001b[0m     \u001b[38;5;28;01mreturn\u001b[39;00m combined_df\n",
      "File \u001b[1;32m~\\anaconda3\\conda\\Lib\\site-packages\\pandas\\util\\_decorators.py:331\u001b[0m, in \u001b[0;36mdeprecate_nonkeyword_arguments.<locals>.decorate.<locals>.wrapper\u001b[1;34m(*args, **kwargs)\u001b[0m\n\u001b[0;32m    325\u001b[0m \u001b[38;5;28;01mif\u001b[39;00m \u001b[38;5;28mlen\u001b[39m(args) \u001b[38;5;241m>\u001b[39m num_allow_args:\n\u001b[0;32m    326\u001b[0m     warnings\u001b[38;5;241m.\u001b[39mwarn(\n\u001b[0;32m    327\u001b[0m         msg\u001b[38;5;241m.\u001b[39mformat(arguments\u001b[38;5;241m=\u001b[39m_format_argument_list(allow_args)),\n\u001b[0;32m    328\u001b[0m         \u001b[38;5;167;01mFutureWarning\u001b[39;00m,\n\u001b[0;32m    329\u001b[0m         stacklevel\u001b[38;5;241m=\u001b[39mfind_stack_level(),\n\u001b[0;32m    330\u001b[0m     )\n\u001b[1;32m--> 331\u001b[0m \u001b[38;5;28;01mreturn\u001b[39;00m func(\u001b[38;5;241m*\u001b[39margs, \u001b[38;5;241m*\u001b[39m\u001b[38;5;241m*\u001b[39mkwargs)\n",
      "File \u001b[1;32m~\\anaconda3\\conda\\Lib\\site-packages\\pandas\\core\\reshape\\concat.py:381\u001b[0m, in \u001b[0;36mconcat\u001b[1;34m(objs, axis, join, ignore_index, keys, levels, names, verify_integrity, sort, copy)\u001b[0m\n\u001b[0;32m    159\u001b[0m \u001b[38;5;250m\u001b[39m\u001b[38;5;124;03m\"\"\"\u001b[39;00m\n\u001b[0;32m    160\u001b[0m \u001b[38;5;124;03mConcatenate pandas objects along a particular axis.\u001b[39;00m\n\u001b[0;32m    161\u001b[0m \n\u001b[1;32m   (...)\u001b[0m\n\u001b[0;32m    366\u001b[0m \u001b[38;5;124;03m1   3   4\u001b[39;00m\n\u001b[0;32m    367\u001b[0m \u001b[38;5;124;03m\"\"\"\u001b[39;00m\n\u001b[0;32m    368\u001b[0m op \u001b[38;5;241m=\u001b[39m _Concatenator(\n\u001b[0;32m    369\u001b[0m     objs,\n\u001b[0;32m    370\u001b[0m     axis\u001b[38;5;241m=\u001b[39maxis,\n\u001b[1;32m   (...)\u001b[0m\n\u001b[0;32m    378\u001b[0m     sort\u001b[38;5;241m=\u001b[39msort,\n\u001b[0;32m    379\u001b[0m )\n\u001b[1;32m--> 381\u001b[0m \u001b[38;5;28;01mreturn\u001b[39;00m op\u001b[38;5;241m.\u001b[39mget_result()\n",
      "File \u001b[1;32m~\\anaconda3\\conda\\Lib\\site-packages\\pandas\\core\\reshape\\concat.py:616\u001b[0m, in \u001b[0;36m_Concatenator.get_result\u001b[1;34m(self)\u001b[0m\n\u001b[0;32m    612\u001b[0m             indexers[ax] \u001b[38;5;241m=\u001b[39m obj_labels\u001b[38;5;241m.\u001b[39mget_indexer(new_labels)\n\u001b[0;32m    614\u001b[0m     mgrs_indexers\u001b[38;5;241m.\u001b[39mappend((obj\u001b[38;5;241m.\u001b[39m_mgr, indexers))\n\u001b[1;32m--> 616\u001b[0m new_data \u001b[38;5;241m=\u001b[39m concatenate_managers(\n\u001b[0;32m    617\u001b[0m     mgrs_indexers, \u001b[38;5;28mself\u001b[39m\u001b[38;5;241m.\u001b[39mnew_axes, concat_axis\u001b[38;5;241m=\u001b[39m\u001b[38;5;28mself\u001b[39m\u001b[38;5;241m.\u001b[39mbm_axis, copy\u001b[38;5;241m=\u001b[39m\u001b[38;5;28mself\u001b[39m\u001b[38;5;241m.\u001b[39mcopy\n\u001b[0;32m    618\u001b[0m )\n\u001b[0;32m    619\u001b[0m \u001b[38;5;28;01mif\u001b[39;00m \u001b[38;5;129;01mnot\u001b[39;00m \u001b[38;5;28mself\u001b[39m\u001b[38;5;241m.\u001b[39mcopy:\n\u001b[0;32m    620\u001b[0m     new_data\u001b[38;5;241m.\u001b[39m_consolidate_inplace()\n",
      "File \u001b[1;32m~\\anaconda3\\conda\\Lib\\site-packages\\pandas\\core\\internals\\concat.py:233\u001b[0m, in \u001b[0;36mconcatenate_managers\u001b[1;34m(mgrs_indexers, axes, concat_axis, copy)\u001b[0m\n\u001b[0;32m    231\u001b[0m     fastpath \u001b[38;5;241m=\u001b[39m blk\u001b[38;5;241m.\u001b[39mvalues\u001b[38;5;241m.\u001b[39mdtype \u001b[38;5;241m==\u001b[39m values\u001b[38;5;241m.\u001b[39mdtype\n\u001b[0;32m    232\u001b[0m \u001b[38;5;28;01melse\u001b[39;00m:\n\u001b[1;32m--> 233\u001b[0m     values \u001b[38;5;241m=\u001b[39m _concatenate_join_units(join_units, concat_axis, copy\u001b[38;5;241m=\u001b[39mcopy)\n\u001b[0;32m    234\u001b[0m     fastpath \u001b[38;5;241m=\u001b[39m \u001b[38;5;28;01mFalse\u001b[39;00m\n\u001b[0;32m    236\u001b[0m \u001b[38;5;28;01mif\u001b[39;00m fastpath:\n",
      "File \u001b[1;32m~\\anaconda3\\conda\\Lib\\site-packages\\pandas\\core\\internals\\concat.py:542\u001b[0m, in \u001b[0;36m_concatenate_join_units\u001b[1;34m(join_units, concat_axis, copy)\u001b[0m\n\u001b[0;32m    539\u001b[0m has_none_blocks \u001b[38;5;241m=\u001b[39m \u001b[38;5;28many\u001b[39m(unit\u001b[38;5;241m.\u001b[39mblock\u001b[38;5;241m.\u001b[39mdtype\u001b[38;5;241m.\u001b[39mkind \u001b[38;5;241m==\u001b[39m \u001b[38;5;124m\"\u001b[39m\u001b[38;5;124mV\u001b[39m\u001b[38;5;124m\"\u001b[39m \u001b[38;5;28;01mfor\u001b[39;00m unit \u001b[38;5;129;01min\u001b[39;00m join_units)\n\u001b[0;32m    540\u001b[0m upcasted_na \u001b[38;5;241m=\u001b[39m _dtype_to_na_value(empty_dtype, has_none_blocks)\n\u001b[1;32m--> 542\u001b[0m to_concat \u001b[38;5;241m=\u001b[39m [\n\u001b[0;32m    543\u001b[0m     ju\u001b[38;5;241m.\u001b[39mget_reindexed_values(empty_dtype\u001b[38;5;241m=\u001b[39mempty_dtype, upcasted_na\u001b[38;5;241m=\u001b[39mupcasted_na)\n\u001b[0;32m    544\u001b[0m     \u001b[38;5;28;01mfor\u001b[39;00m ju \u001b[38;5;129;01min\u001b[39;00m join_units\n\u001b[0;32m    545\u001b[0m ]\n\u001b[0;32m    547\u001b[0m \u001b[38;5;28;01mif\u001b[39;00m \u001b[38;5;28mlen\u001b[39m(to_concat) \u001b[38;5;241m==\u001b[39m \u001b[38;5;241m1\u001b[39m:\n\u001b[0;32m    548\u001b[0m     \u001b[38;5;66;03m# Only one block, nothing to concatenate.\u001b[39;00m\n\u001b[0;32m    549\u001b[0m     concat_values \u001b[38;5;241m=\u001b[39m to_concat[\u001b[38;5;241m0\u001b[39m]\n",
      "File \u001b[1;32m~\\anaconda3\\conda\\Lib\\site-packages\\pandas\\core\\internals\\concat.py:543\u001b[0m, in \u001b[0;36m<listcomp>\u001b[1;34m(.0)\u001b[0m\n\u001b[0;32m    539\u001b[0m has_none_blocks \u001b[38;5;241m=\u001b[39m \u001b[38;5;28many\u001b[39m(unit\u001b[38;5;241m.\u001b[39mblock\u001b[38;5;241m.\u001b[39mdtype\u001b[38;5;241m.\u001b[39mkind \u001b[38;5;241m==\u001b[39m \u001b[38;5;124m\"\u001b[39m\u001b[38;5;124mV\u001b[39m\u001b[38;5;124m\"\u001b[39m \u001b[38;5;28;01mfor\u001b[39;00m unit \u001b[38;5;129;01min\u001b[39;00m join_units)\n\u001b[0;32m    540\u001b[0m upcasted_na \u001b[38;5;241m=\u001b[39m _dtype_to_na_value(empty_dtype, has_none_blocks)\n\u001b[0;32m    542\u001b[0m to_concat \u001b[38;5;241m=\u001b[39m [\n\u001b[1;32m--> 543\u001b[0m     ju\u001b[38;5;241m.\u001b[39mget_reindexed_values(empty_dtype\u001b[38;5;241m=\u001b[39mempty_dtype, upcasted_na\u001b[38;5;241m=\u001b[39mupcasted_na)\n\u001b[0;32m    544\u001b[0m     \u001b[38;5;28;01mfor\u001b[39;00m ju \u001b[38;5;129;01min\u001b[39;00m join_units\n\u001b[0;32m    545\u001b[0m ]\n\u001b[0;32m    547\u001b[0m \u001b[38;5;28;01mif\u001b[39;00m \u001b[38;5;28mlen\u001b[39m(to_concat) \u001b[38;5;241m==\u001b[39m \u001b[38;5;241m1\u001b[39m:\n\u001b[0;32m    548\u001b[0m     \u001b[38;5;66;03m# Only one block, nothing to concatenate.\u001b[39;00m\n\u001b[0;32m    549\u001b[0m     concat_values \u001b[38;5;241m=\u001b[39m to_concat[\u001b[38;5;241m0\u001b[39m]\n",
      "File \u001b[1;32m~\\anaconda3\\conda\\Lib\\site-packages\\pandas\\core\\internals\\concat.py:522\u001b[0m, in \u001b[0;36mJoinUnit.get_reindexed_values\u001b[1;34m(self, empty_dtype, upcasted_na)\u001b[0m\n\u001b[0;32m    520\u001b[0m \u001b[38;5;28;01melse\u001b[39;00m:\n\u001b[0;32m    521\u001b[0m     \u001b[38;5;28;01mfor\u001b[39;00m ax, indexer \u001b[38;5;129;01min\u001b[39;00m \u001b[38;5;28mself\u001b[39m\u001b[38;5;241m.\u001b[39mindexers\u001b[38;5;241m.\u001b[39mitems():\n\u001b[1;32m--> 522\u001b[0m         values \u001b[38;5;241m=\u001b[39m algos\u001b[38;5;241m.\u001b[39mtake_nd(values, indexer, axis\u001b[38;5;241m=\u001b[39max)\n\u001b[0;32m    524\u001b[0m \u001b[38;5;28;01mreturn\u001b[39;00m values\n",
      "\u001b[1;31mKeyboardInterrupt\u001b[0m: "
     ]
    }
   ],
   "source": [
    "base_path = r\"Downloads\\CitiBike\\2020-citibike-tripdata\\2020-citibike-tripdata\"  \n",
    "excel_files = get_excel_files_from_monthly_folders(base_path)\n",
    "df_final_2020 = combine_dataframes_pre2022(excel_files)"
   ]
  },
  {
   "cell_type": "code",
   "execution_count": 105,
   "id": "a7b5e4e7",
   "metadata": {},
   "outputs": [
    {
     "name": "stderr",
     "output_type": "stream",
     "text": [
      "C:\\Users\\saira\\AppData\\Local\\Temp\\ipykernel_22932\\4131262467.py:33: DtypeWarning: Columns (5,7) have mixed types. Specify dtype option on import or set low_memory=False.\n",
      "  df = pd.read_csv(file_path)\n",
      "C:\\Users\\saira\\AppData\\Local\\Temp\\ipykernel_22932\\4131262467.py:33: DtypeWarning: Columns (5,7) have mixed types. Specify dtype option on import or set low_memory=False.\n",
      "  df = pd.read_csv(file_path)\n",
      "C:\\Users\\saira\\AppData\\Local\\Temp\\ipykernel_22932\\4131262467.py:33: DtypeWarning: Columns (5,7) have mixed types. Specify dtype option on import or set low_memory=False.\n",
      "  df = pd.read_csv(file_path)\n",
      "C:\\Users\\saira\\AppData\\Local\\Temp\\ipykernel_22932\\4131262467.py:33: DtypeWarning: Columns (5,7) have mixed types. Specify dtype option on import or set low_memory=False.\n",
      "  df = pd.read_csv(file_path)\n",
      "C:\\Users\\saira\\AppData\\Local\\Temp\\ipykernel_22932\\4131262467.py:33: DtypeWarning: Columns (5,7) have mixed types. Specify dtype option on import or set low_memory=False.\n",
      "  df = pd.read_csv(file_path)\n",
      "C:\\Users\\saira\\AppData\\Local\\Temp\\ipykernel_22932\\4131262467.py:33: DtypeWarning: Columns (5,7) have mixed types. Specify dtype option on import or set low_memory=False.\n",
      "  df = pd.read_csv(file_path)\n",
      "C:\\Users\\saira\\AppData\\Local\\Temp\\ipykernel_22932\\4131262467.py:33: DtypeWarning: Columns (7) have mixed types. Specify dtype option on import or set low_memory=False.\n",
      "  df = pd.read_csv(file_path)\n",
      "C:\\Users\\saira\\AppData\\Local\\Temp\\ipykernel_22932\\4131262467.py:33: DtypeWarning: Columns (5,7) have mixed types. Specify dtype option on import or set low_memory=False.\n",
      "  df = pd.read_csv(file_path)\n",
      "C:\\Users\\saira\\AppData\\Local\\Temp\\ipykernel_22932\\4131262467.py:33: DtypeWarning: Columns (5,7) have mixed types. Specify dtype option on import or set low_memory=False.\n",
      "  df = pd.read_csv(file_path)\n",
      "C:\\Users\\saira\\AppData\\Local\\Temp\\ipykernel_22932\\4131262467.py:33: DtypeWarning: Columns (5,7) have mixed types. Specify dtype option on import or set low_memory=False.\n",
      "  df = pd.read_csv(file_path)\n",
      "C:\\Users\\saira\\AppData\\Local\\Temp\\ipykernel_22932\\4131262467.py:33: DtypeWarning: Columns (5,7) have mixed types. Specify dtype option on import or set low_memory=False.\n",
      "  df = pd.read_csv(file_path)\n",
      "C:\\Users\\saira\\AppData\\Local\\Temp\\ipykernel_22932\\4131262467.py:33: DtypeWarning: Columns (7) have mixed types. Specify dtype option on import or set low_memory=False.\n",
      "  df = pd.read_csv(file_path)\n",
      "C:\\Users\\saira\\AppData\\Local\\Temp\\ipykernel_22932\\4131262467.py:33: DtypeWarning: Columns (5) have mixed types. Specify dtype option on import or set low_memory=False.\n",
      "  df = pd.read_csv(file_path)\n",
      "C:\\Users\\saira\\AppData\\Local\\Temp\\ipykernel_22932\\4131262467.py:33: DtypeWarning: Columns (5,7) have mixed types. Specify dtype option on import or set low_memory=False.\n",
      "  df = pd.read_csv(file_path)\n",
      "C:\\Users\\saira\\AppData\\Local\\Temp\\ipykernel_22932\\4131262467.py:33: DtypeWarning: Columns (7) have mixed types. Specify dtype option on import or set low_memory=False.\n",
      "  df = pd.read_csv(file_path)\n",
      "C:\\Users\\saira\\AppData\\Local\\Temp\\ipykernel_22932\\4131262467.py:33: DtypeWarning: Columns (7) have mixed types. Specify dtype option on import or set low_memory=False.\n",
      "  df = pd.read_csv(file_path)\n",
      "C:\\Users\\saira\\AppData\\Local\\Temp\\ipykernel_22932\\4131262467.py:33: DtypeWarning: Columns (7) have mixed types. Specify dtype option on import or set low_memory=False.\n",
      "  df = pd.read_csv(file_path)\n",
      "C:\\Users\\saira\\AppData\\Local\\Temp\\ipykernel_22932\\4131262467.py:33: DtypeWarning: Columns (7) have mixed types. Specify dtype option on import or set low_memory=False.\n",
      "  df = pd.read_csv(file_path)\n",
      "C:\\Users\\saira\\AppData\\Local\\Temp\\ipykernel_22932\\4131262467.py:33: DtypeWarning: Columns (7) have mixed types. Specify dtype option on import or set low_memory=False.\n",
      "  df = pd.read_csv(file_path)\n",
      "C:\\Users\\saira\\AppData\\Local\\Temp\\ipykernel_22932\\4131262467.py:33: DtypeWarning: Columns (7) have mixed types. Specify dtype option on import or set low_memory=False.\n",
      "  df = pd.read_csv(file_path)\n",
      "C:\\Users\\saira\\AppData\\Local\\Temp\\ipykernel_22932\\4131262467.py:33: DtypeWarning: Columns (7) have mixed types. Specify dtype option on import or set low_memory=False.\n",
      "  df = pd.read_csv(file_path)\n",
      "C:\\Users\\saira\\AppData\\Local\\Temp\\ipykernel_22932\\4131262467.py:33: DtypeWarning: Columns (7) have mixed types. Specify dtype option on import or set low_memory=False.\n",
      "  df = pd.read_csv(file_path)\n",
      "C:\\Users\\saira\\AppData\\Local\\Temp\\ipykernel_22932\\4131262467.py:33: DtypeWarning: Columns (7) have mixed types. Specify dtype option on import or set low_memory=False.\n",
      "  df = pd.read_csv(file_path)\n",
      "C:\\Users\\saira\\AppData\\Local\\Temp\\ipykernel_22932\\4131262467.py:33: DtypeWarning: Columns (7) have mixed types. Specify dtype option on import or set low_memory=False.\n",
      "  df = pd.read_csv(file_path)\n",
      "C:\\Users\\saira\\AppData\\Local\\Temp\\ipykernel_22932\\4131262467.py:33: DtypeWarning: Columns (7) have mixed types. Specify dtype option on import or set low_memory=False.\n",
      "  df = pd.read_csv(file_path)\n",
      "C:\\Users\\saira\\AppData\\Local\\Temp\\ipykernel_22932\\4131262467.py:33: DtypeWarning: Columns (7) have mixed types. Specify dtype option on import or set low_memory=False.\n",
      "  df = pd.read_csv(file_path)\n",
      "C:\\Users\\saira\\AppData\\Local\\Temp\\ipykernel_22932\\4131262467.py:33: DtypeWarning: Columns (7) have mixed types. Specify dtype option on import or set low_memory=False.\n",
      "  df = pd.read_csv(file_path)\n",
      "C:\\Users\\saira\\AppData\\Local\\Temp\\ipykernel_22932\\4131262467.py:33: DtypeWarning: Columns (7) have mixed types. Specify dtype option on import or set low_memory=False.\n",
      "  df = pd.read_csv(file_path)\n",
      "C:\\Users\\saira\\AppData\\Local\\Temp\\ipykernel_22932\\4131262467.py:33: DtypeWarning: Columns (7) have mixed types. Specify dtype option on import or set low_memory=False.\n",
      "  df = pd.read_csv(file_path)\n",
      "C:\\Users\\saira\\AppData\\Local\\Temp\\ipykernel_22932\\4131262467.py:33: DtypeWarning: Columns (7) have mixed types. Specify dtype option on import or set low_memory=False.\n",
      "  df = pd.read_csv(file_path)\n"
     ]
    }
   ],
   "source": [
    "base_path = r\"Downloads\\CitiBike\\2021-citibike-tripdata\\2021-citibike-tripdata\"  \n",
    "excel_files = get_excel_files_from_monthly_folders(base_path)\n",
    "df_final_2021 = combine_dataframes_post2022(excel_files)"
   ]
  },
  {
   "cell_type": "code",
   "execution_count": 253,
   "id": "e571ed3b",
   "metadata": {},
   "outputs": [
    {
     "name": "stderr",
     "output_type": "stream",
     "text": [
      "C:\\Users\\saira\\AppData\\Local\\Temp\\ipykernel_22932\\4131262467.py:33: DtypeWarning: Columns (5,7) have mixed types. Specify dtype option on import or set low_memory=False.\n",
      "  df = pd.read_csv(file_path)\n",
      "C:\\Users\\saira\\AppData\\Local\\Temp\\ipykernel_22932\\4131262467.py:33: DtypeWarning: Columns (5,7) have mixed types. Specify dtype option on import or set low_memory=False.\n",
      "  df = pd.read_csv(file_path)\n",
      "C:\\Users\\saira\\AppData\\Local\\Temp\\ipykernel_22932\\4131262467.py:33: DtypeWarning: Columns (5,7) have mixed types. Specify dtype option on import or set low_memory=False.\n",
      "  df = pd.read_csv(file_path)\n",
      "C:\\Users\\saira\\AppData\\Local\\Temp\\ipykernel_22932\\4131262467.py:33: DtypeWarning: Columns (5,7) have mixed types. Specify dtype option on import or set low_memory=False.\n",
      "  df = pd.read_csv(file_path)\n",
      "C:\\Users\\saira\\AppData\\Local\\Temp\\ipykernel_22932\\4131262467.py:33: DtypeWarning: Columns (5,7) have mixed types. Specify dtype option on import or set low_memory=False.\n",
      "  df = pd.read_csv(file_path)\n",
      "C:\\Users\\saira\\AppData\\Local\\Temp\\ipykernel_22932\\4131262467.py:33: DtypeWarning: Columns (5,7) have mixed types. Specify dtype option on import or set low_memory=False.\n",
      "  df = pd.read_csv(file_path)\n",
      "C:\\Users\\saira\\AppData\\Local\\Temp\\ipykernel_22932\\4131262467.py:33: DtypeWarning: Columns (5,7) have mixed types. Specify dtype option on import or set low_memory=False.\n",
      "  df = pd.read_csv(file_path)\n",
      "C:\\Users\\saira\\AppData\\Local\\Temp\\ipykernel_22932\\4131262467.py:33: DtypeWarning: Columns (5,7) have mixed types. Specify dtype option on import or set low_memory=False.\n",
      "  df = pd.read_csv(file_path)\n",
      "C:\\Users\\saira\\AppData\\Local\\Temp\\ipykernel_22932\\4131262467.py:33: DtypeWarning: Columns (5,7) have mixed types. Specify dtype option on import or set low_memory=False.\n",
      "  df = pd.read_csv(file_path)\n",
      "C:\\Users\\saira\\AppData\\Local\\Temp\\ipykernel_22932\\4131262467.py:33: DtypeWarning: Columns (5,7) have mixed types. Specify dtype option on import or set low_memory=False.\n",
      "  df = pd.read_csv(file_path)\n",
      "C:\\Users\\saira\\AppData\\Local\\Temp\\ipykernel_22932\\4131262467.py:33: DtypeWarning: Columns (5,7) have mixed types. Specify dtype option on import or set low_memory=False.\n",
      "  df = pd.read_csv(file_path)\n",
      "C:\\Users\\saira\\AppData\\Local\\Temp\\ipykernel_22932\\4131262467.py:33: DtypeWarning: Columns (5,7) have mixed types. Specify dtype option on import or set low_memory=False.\n",
      "  df = pd.read_csv(file_path)\n",
      "C:\\Users\\saira\\AppData\\Local\\Temp\\ipykernel_22932\\4131262467.py:33: DtypeWarning: Columns (5,7) have mixed types. Specify dtype option on import or set low_memory=False.\n",
      "  df = pd.read_csv(file_path)\n",
      "C:\\Users\\saira\\AppData\\Local\\Temp\\ipykernel_22932\\4131262467.py:33: DtypeWarning: Columns (5,7) have mixed types. Specify dtype option on import or set low_memory=False.\n",
      "  df = pd.read_csv(file_path)\n",
      "C:\\Users\\saira\\AppData\\Local\\Temp\\ipykernel_22932\\4131262467.py:33: DtypeWarning: Columns (5,7) have mixed types. Specify dtype option on import or set low_memory=False.\n",
      "  df = pd.read_csv(file_path)\n",
      "C:\\Users\\saira\\AppData\\Local\\Temp\\ipykernel_22932\\4131262467.py:33: DtypeWarning: Columns (5,7) have mixed types. Specify dtype option on import or set low_memory=False.\n",
      "  df = pd.read_csv(file_path)\n",
      "C:\\Users\\saira\\AppData\\Local\\Temp\\ipykernel_22932\\4131262467.py:33: DtypeWarning: Columns (5,7) have mixed types. Specify dtype option on import or set low_memory=False.\n",
      "  df = pd.read_csv(file_path)\n",
      "C:\\Users\\saira\\AppData\\Local\\Temp\\ipykernel_22932\\4131262467.py:33: DtypeWarning: Columns (5,7) have mixed types. Specify dtype option on import or set low_memory=False.\n",
      "  df = pd.read_csv(file_path)\n",
      "C:\\Users\\saira\\AppData\\Local\\Temp\\ipykernel_22932\\4131262467.py:33: DtypeWarning: Columns (5) have mixed types. Specify dtype option on import or set low_memory=False.\n",
      "  df = pd.read_csv(file_path)\n",
      "C:\\Users\\saira\\AppData\\Local\\Temp\\ipykernel_22932\\4131262467.py:33: DtypeWarning: Columns (5,7) have mixed types. Specify dtype option on import or set low_memory=False.\n",
      "  df = pd.read_csv(file_path)\n",
      "C:\\Users\\saira\\AppData\\Local\\Temp\\ipykernel_22932\\4131262467.py:33: DtypeWarning: Columns (5,7) have mixed types. Specify dtype option on import or set low_memory=False.\n",
      "  df = pd.read_csv(file_path)\n",
      "C:\\Users\\saira\\AppData\\Local\\Temp\\ipykernel_22932\\4131262467.py:33: DtypeWarning: Columns (5,7) have mixed types. Specify dtype option on import or set low_memory=False.\n",
      "  df = pd.read_csv(file_path)\n",
      "C:\\Users\\saira\\AppData\\Local\\Temp\\ipykernel_22932\\4131262467.py:33: DtypeWarning: Columns (5,7) have mixed types. Specify dtype option on import or set low_memory=False.\n",
      "  df = pd.read_csv(file_path)\n",
      "C:\\Users\\saira\\AppData\\Local\\Temp\\ipykernel_22932\\4131262467.py:33: DtypeWarning: Columns (5,7) have mixed types. Specify dtype option on import or set low_memory=False.\n",
      "  df = pd.read_csv(file_path)\n",
      "C:\\Users\\saira\\AppData\\Local\\Temp\\ipykernel_22932\\4131262467.py:33: DtypeWarning: Columns (5,7) have mixed types. Specify dtype option on import or set low_memory=False.\n",
      "  df = pd.read_csv(file_path)\n",
      "C:\\Users\\saira\\AppData\\Local\\Temp\\ipykernel_22932\\4131262467.py:33: DtypeWarning: Columns (5,7) have mixed types. Specify dtype option on import or set low_memory=False.\n",
      "  df = pd.read_csv(file_path)\n",
      "C:\\Users\\saira\\AppData\\Local\\Temp\\ipykernel_22932\\4131262467.py:33: DtypeWarning: Columns (5,7) have mixed types. Specify dtype option on import or set low_memory=False.\n",
      "  df = pd.read_csv(file_path)\n",
      "C:\\Users\\saira\\AppData\\Local\\Temp\\ipykernel_22932\\4131262467.py:33: DtypeWarning: Columns (5,7) have mixed types. Specify dtype option on import or set low_memory=False.\n",
      "  df = pd.read_csv(file_path)\n",
      "C:\\Users\\saira\\AppData\\Local\\Temp\\ipykernel_22932\\4131262467.py:33: DtypeWarning: Columns (5,7) have mixed types. Specify dtype option on import or set low_memory=False.\n",
      "  df = pd.read_csv(file_path)\n",
      "C:\\Users\\saira\\AppData\\Local\\Temp\\ipykernel_22932\\4131262467.py:33: DtypeWarning: Columns (5,7) have mixed types. Specify dtype option on import or set low_memory=False.\n",
      "  df = pd.read_csv(file_path)\n",
      "C:\\Users\\saira\\AppData\\Local\\Temp\\ipykernel_22932\\4131262467.py:33: DtypeWarning: Columns (5,7) have mixed types. Specify dtype option on import or set low_memory=False.\n",
      "  df = pd.read_csv(file_path)\n",
      "C:\\Users\\saira\\AppData\\Local\\Temp\\ipykernel_22932\\4131262467.py:33: DtypeWarning: Columns (5,7) have mixed types. Specify dtype option on import or set low_memory=False.\n",
      "  df = pd.read_csv(file_path)\n",
      "C:\\Users\\saira\\AppData\\Local\\Temp\\ipykernel_22932\\4131262467.py:33: DtypeWarning: Columns (5,7) have mixed types. Specify dtype option on import or set low_memory=False.\n",
      "  df = pd.read_csv(file_path)\n",
      "C:\\Users\\saira\\AppData\\Local\\Temp\\ipykernel_22932\\4131262467.py:33: DtypeWarning: Columns (7) have mixed types. Specify dtype option on import or set low_memory=False.\n",
      "  df = pd.read_csv(file_path)\n"
     ]
    }
   ],
   "source": [
    "base_path = r\"Downloads\\CitiBike\\2022-citibike-tripdata\\2022-citibike-tripdata\"  \n",
    "excel_files = get_excel_files_from_monthly_folders(base_path)\n",
    "df_final_2022 = combine_dataframes_post2022(excel_files)"
   ]
  },
  {
   "cell_type": "code",
   "execution_count": 230,
   "id": "b8408f58",
   "metadata": {},
   "outputs": [
    {
     "name": "stderr",
     "output_type": "stream",
     "text": [
      "C:\\Users\\saira\\AppData\\Local\\Temp\\ipykernel_22932\\4131262467.py:33: DtypeWarning: Columns (7) have mixed types. Specify dtype option on import or set low_memory=False.\n",
      "  df = pd.read_csv(file_path)\n",
      "C:\\Users\\saira\\AppData\\Local\\Temp\\ipykernel_22932\\4131262467.py:33: DtypeWarning: Columns (5,7) have mixed types. Specify dtype option on import or set low_memory=False.\n",
      "  df = pd.read_csv(file_path)\n",
      "C:\\Users\\saira\\AppData\\Local\\Temp\\ipykernel_22932\\4131262467.py:33: DtypeWarning: Columns (7) have mixed types. Specify dtype option on import or set low_memory=False.\n",
      "  df = pd.read_csv(file_path)\n",
      "C:\\Users\\saira\\AppData\\Local\\Temp\\ipykernel_22932\\4131262467.py:33: DtypeWarning: Columns (5,7) have mixed types. Specify dtype option on import or set low_memory=False.\n",
      "  df = pd.read_csv(file_path)\n",
      "C:\\Users\\saira\\AppData\\Local\\Temp\\ipykernel_22932\\4131262467.py:33: DtypeWarning: Columns (7) have mixed types. Specify dtype option on import or set low_memory=False.\n",
      "  df = pd.read_csv(file_path)\n",
      "C:\\Users\\saira\\AppData\\Local\\Temp\\ipykernel_22932\\4131262467.py:33: DtypeWarning: Columns (7) have mixed types. Specify dtype option on import or set low_memory=False.\n",
      "  df = pd.read_csv(file_path)\n",
      "C:\\Users\\saira\\AppData\\Local\\Temp\\ipykernel_22932\\4131262467.py:33: DtypeWarning: Columns (7) have mixed types. Specify dtype option on import or set low_memory=False.\n",
      "  df = pd.read_csv(file_path)\n",
      "C:\\Users\\saira\\AppData\\Local\\Temp\\ipykernel_22932\\4131262467.py:33: DtypeWarning: Columns (5,7) have mixed types. Specify dtype option on import or set low_memory=False.\n",
      "  df = pd.read_csv(file_path)\n",
      "C:\\Users\\saira\\AppData\\Local\\Temp\\ipykernel_22932\\4131262467.py:33: DtypeWarning: Columns (7) have mixed types. Specify dtype option on import or set low_memory=False.\n",
      "  df = pd.read_csv(file_path)\n",
      "C:\\Users\\saira\\AppData\\Local\\Temp\\ipykernel_22932\\4131262467.py:33: DtypeWarning: Columns (5,7) have mixed types. Specify dtype option on import or set low_memory=False.\n",
      "  df = pd.read_csv(file_path)\n",
      "C:\\Users\\saira\\AppData\\Local\\Temp\\ipykernel_22932\\4131262467.py:33: DtypeWarning: Columns (5,7) have mixed types. Specify dtype option on import or set low_memory=False.\n",
      "  df = pd.read_csv(file_path)\n",
      "C:\\Users\\saira\\AppData\\Local\\Temp\\ipykernel_22932\\4131262467.py:33: DtypeWarning: Columns (5,7) have mixed types. Specify dtype option on import or set low_memory=False.\n",
      "  df = pd.read_csv(file_path)\n",
      "C:\\Users\\saira\\AppData\\Local\\Temp\\ipykernel_22932\\4131262467.py:33: DtypeWarning: Columns (5,7) have mixed types. Specify dtype option on import or set low_memory=False.\n",
      "  df = pd.read_csv(file_path)\n",
      "C:\\Users\\saira\\AppData\\Local\\Temp\\ipykernel_22932\\4131262467.py:33: DtypeWarning: Columns (5,7) have mixed types. Specify dtype option on import or set low_memory=False.\n",
      "  df = pd.read_csv(file_path)\n",
      "C:\\Users\\saira\\AppData\\Local\\Temp\\ipykernel_22932\\4131262467.py:33: DtypeWarning: Columns (7) have mixed types. Specify dtype option on import or set low_memory=False.\n",
      "  df = pd.read_csv(file_path)\n",
      "C:\\Users\\saira\\AppData\\Local\\Temp\\ipykernel_22932\\4131262467.py:33: DtypeWarning: Columns (7) have mixed types. Specify dtype option on import or set low_memory=False.\n",
      "  df = pd.read_csv(file_path)\n",
      "C:\\Users\\saira\\AppData\\Local\\Temp\\ipykernel_22932\\4131262467.py:33: DtypeWarning: Columns (5,7) have mixed types. Specify dtype option on import or set low_memory=False.\n",
      "  df = pd.read_csv(file_path)\n",
      "C:\\Users\\saira\\AppData\\Local\\Temp\\ipykernel_22932\\4131262467.py:33: DtypeWarning: Columns (5,7) have mixed types. Specify dtype option on import or set low_memory=False.\n",
      "  df = pd.read_csv(file_path)\n",
      "C:\\Users\\saira\\AppData\\Local\\Temp\\ipykernel_22932\\4131262467.py:33: DtypeWarning: Columns (5,7) have mixed types. Specify dtype option on import or set low_memory=False.\n",
      "  df = pd.read_csv(file_path)\n",
      "C:\\Users\\saira\\AppData\\Local\\Temp\\ipykernel_22932\\4131262467.py:33: DtypeWarning: Columns (5,7) have mixed types. Specify dtype option on import or set low_memory=False.\n",
      "  df = pd.read_csv(file_path)\n",
      "C:\\Users\\saira\\AppData\\Local\\Temp\\ipykernel_22932\\4131262467.py:33: DtypeWarning: Columns (5,7) have mixed types. Specify dtype option on import or set low_memory=False.\n",
      "  df = pd.read_csv(file_path)\n",
      "C:\\Users\\saira\\AppData\\Local\\Temp\\ipykernel_22932\\4131262467.py:33: DtypeWarning: Columns (5,7) have mixed types. Specify dtype option on import or set low_memory=False.\n",
      "  df = pd.read_csv(file_path)\n",
      "C:\\Users\\saira\\AppData\\Local\\Temp\\ipykernel_22932\\4131262467.py:33: DtypeWarning: Columns (5,7) have mixed types. Specify dtype option on import or set low_memory=False.\n",
      "  df = pd.read_csv(file_path)\n",
      "C:\\Users\\saira\\AppData\\Local\\Temp\\ipykernel_22932\\4131262467.py:33: DtypeWarning: Columns (5,7) have mixed types. Specify dtype option on import or set low_memory=False.\n",
      "  df = pd.read_csv(file_path)\n",
      "C:\\Users\\saira\\AppData\\Local\\Temp\\ipykernel_22932\\4131262467.py:33: DtypeWarning: Columns (5,7) have mixed types. Specify dtype option on import or set low_memory=False.\n",
      "  df = pd.read_csv(file_path)\n",
      "C:\\Users\\saira\\AppData\\Local\\Temp\\ipykernel_22932\\4131262467.py:33: DtypeWarning: Columns (5,7) have mixed types. Specify dtype option on import or set low_memory=False.\n",
      "  df = pd.read_csv(file_path)\n",
      "C:\\Users\\saira\\AppData\\Local\\Temp\\ipykernel_22932\\4131262467.py:33: DtypeWarning: Columns (5,7) have mixed types. Specify dtype option on import or set low_memory=False.\n",
      "  df = pd.read_csv(file_path)\n",
      "C:\\Users\\saira\\AppData\\Local\\Temp\\ipykernel_22932\\4131262467.py:33: DtypeWarning: Columns (5,7) have mixed types. Specify dtype option on import or set low_memory=False.\n",
      "  df = pd.read_csv(file_path)\n",
      "C:\\Users\\saira\\AppData\\Local\\Temp\\ipykernel_22932\\4131262467.py:33: DtypeWarning: Columns (5,7) have mixed types. Specify dtype option on import or set low_memory=False.\n",
      "  df = pd.read_csv(file_path)\n",
      "C:\\Users\\saira\\AppData\\Local\\Temp\\ipykernel_22932\\4131262467.py:33: DtypeWarning: Columns (5,7) have mixed types. Specify dtype option on import or set low_memory=False.\n",
      "  df = pd.read_csv(file_path)\n",
      "C:\\Users\\saira\\AppData\\Local\\Temp\\ipykernel_22932\\4131262467.py:33: DtypeWarning: Columns (5,7) have mixed types. Specify dtype option on import or set low_memory=False.\n",
      "  df = pd.read_csv(file_path)\n",
      "C:\\Users\\saira\\AppData\\Local\\Temp\\ipykernel_22932\\4131262467.py:33: DtypeWarning: Columns (5,7) have mixed types. Specify dtype option on import or set low_memory=False.\n",
      "  df = pd.read_csv(file_path)\n",
      "C:\\Users\\saira\\AppData\\Local\\Temp\\ipykernel_22932\\4131262467.py:33: DtypeWarning: Columns (5,7) have mixed types. Specify dtype option on import or set low_memory=False.\n",
      "  df = pd.read_csv(file_path)\n",
      "C:\\Users\\saira\\AppData\\Local\\Temp\\ipykernel_22932\\4131262467.py:33: DtypeWarning: Columns (5,7) have mixed types. Specify dtype option on import or set low_memory=False.\n",
      "  df = pd.read_csv(file_path)\n",
      "C:\\Users\\saira\\AppData\\Local\\Temp\\ipykernel_22932\\4131262467.py:33: DtypeWarning: Columns (5,7) have mixed types. Specify dtype option on import or set low_memory=False.\n",
      "  df = pd.read_csv(file_path)\n",
      "C:\\Users\\saira\\AppData\\Local\\Temp\\ipykernel_22932\\4131262467.py:33: DtypeWarning: Columns (5,7) have mixed types. Specify dtype option on import or set low_memory=False.\n",
      "  df = pd.read_csv(file_path)\n",
      "C:\\Users\\saira\\AppData\\Local\\Temp\\ipykernel_22932\\4131262467.py:33: DtypeWarning: Columns (5,7) have mixed types. Specify dtype option on import or set low_memory=False.\n",
      "  df = pd.read_csv(file_path)\n",
      "C:\\Users\\saira\\AppData\\Local\\Temp\\ipykernel_22932\\4131262467.py:33: DtypeWarning: Columns (7) have mixed types. Specify dtype option on import or set low_memory=False.\n",
      "  df = pd.read_csv(file_path)\n"
     ]
    }
   ],
   "source": [
    "base_path = r\"Downloads\\CitiBike\\2023-citibike-tripdata\\2023-citibike-tripdata\"  \n",
    "excel_files = get_excel_files_from_monthly_folders(base_path)\n",
    "df_final_2023 = combine_dataframes_post2022(excel_files)"
   ]
  },
  {
   "cell_type": "code",
   "execution_count": 231,
   "id": "1eadd2fd",
   "metadata": {},
   "outputs": [],
   "source": [
    "base_path = r\"Downloads\\CitiBike\\2024-citibike-tripdata\\2024-citibike-tripdata\"  \n",
    "excel_files = get_excel_files_from_monthly_folders(base_path)\n",
    "df_final_2024 = combine_dataframes_post2022(excel_files)"
   ]
  },
  {
   "cell_type": "markdown",
   "id": "4a401c90",
   "metadata": {},
   "source": [
    "First Year of Operation 2014"
   ]
  },
  {
   "cell_type": "code",
   "execution_count": null,
   "id": "c7750ccd",
   "metadata": {},
   "outputs": [],
   "source": [
    "df_final = combine_dataframes(excel_files)\n",
    "\n",
    "# save_path = r\"Downloads\\CitiBike\\combined\"\n",
    "\n",
    "# out_1_csv = save_combined_dataframe(df_final,save_path)"
   ]
  },
  {
   "cell_type": "code",
   "execution_count": null,
   "id": "b3b09182",
   "metadata": {},
   "outputs": [],
   "source": [
    "df_final"
   ]
  },
  {
   "cell_type": "code",
   "execution_count": null,
   "id": "6af18aff",
   "metadata": {},
   "outputs": [],
   "source": [
    "df_final.dtypes"
   ]
  },
  {
   "cell_type": "code",
   "execution_count": null,
   "id": "74693555",
   "metadata": {},
   "outputs": [],
   "source": [
    "df_final['starttime'] = pd.to_datetime(df_final['starttime'], errors='coerce')\n",
    "df_final['stoptime'] = pd.to_datetime(df_final['stoptime'], errors='coerce')"
   ]
  },
  {
   "cell_type": "code",
   "execution_count": null,
   "id": "cb97ddc8",
   "metadata": {},
   "outputs": [],
   "source": [
    "df_final['birth year'].isna().sum()"
   ]
  },
  {
   "cell_type": "code",
   "execution_count": null,
   "id": "43d25258",
   "metadata": {},
   "outputs": [],
   "source": [
    "df_final.replace('\\\\N', pd.NA, inplace=True)"
   ]
  },
  {
   "cell_type": "code",
   "execution_count": null,
   "id": "c72f0444",
   "metadata": {},
   "outputs": [],
   "source": [
    "df_final['birth year'] = df_final['birth year'].fillna(0)"
   ]
  },
  {
   "cell_type": "code",
   "execution_count": null,
   "id": "13a74986",
   "metadata": {},
   "outputs": [],
   "source": [
    "df_final['birth year'] = df_final['birth year'].astype('int')"
   ]
  },
  {
   "cell_type": "code",
   "execution_count": null,
   "id": "2a412b11",
   "metadata": {},
   "outputs": [],
   "source": [
    "df_final['tripduration'].agg(['min','max','std','mean'])"
   ]
  },
  {
   "cell_type": "code",
   "execution_count": null,
   "id": "0d7fe235",
   "metadata": {},
   "outputs": [],
   "source": [
    "# pd.cut(df_final['tripduration'], bins=10, include_lowest=True).value_counts().sort_index()"
   ]
  },
  {
   "cell_type": "code",
   "execution_count": null,
   "id": "52a65b93",
   "metadata": {},
   "outputs": [],
   "source": [
    "import seaborn as sns"
   ]
  },
  {
   "cell_type": "code",
   "execution_count": null,
   "id": "25d94ea4",
   "metadata": {},
   "outputs": [],
   "source": [
    "df_final.head()"
   ]
  },
  {
   "cell_type": "code",
   "execution_count": null,
   "id": "81a1479d",
   "metadata": {},
   "outputs": [],
   "source": [
    "# x2 = df_final['bikeid'].value_counts().reset_index().rename(columns={'index':'bikeid','bikeid':'count'})\n",
    "# sns.countplot(data = x2, x = 'count')\n",
    "# sns.despine(left = True, bottom = True)"
   ]
  },
  {
   "cell_type": "code",
   "execution_count": null,
   "id": "6db51adb",
   "metadata": {},
   "outputs": [],
   "source": [
    "x2['count'].agg(['min','max','mean','std'])"
   ]
  },
  {
   "cell_type": "code",
   "execution_count": null,
   "id": "9285e2c7",
   "metadata": {},
   "outputs": [],
   "source": [
    "df_final.groupby('bikeid')['tripduration'].count()"
   ]
  },
  {
   "cell_type": "code",
   "execution_count": null,
   "id": "51e0545b",
   "metadata": {},
   "outputs": [],
   "source": [
    "df_final.groupby('bikeid').agg({'tripduration':'count','starttime':'min','stoptime':'max'}).sort_values(by='tripduration',ascending = False)"
   ]
  },
  {
   "cell_type": "code",
   "execution_count": null,
   "id": "149dec97",
   "metadata": {},
   "outputs": [],
   "source": [
    "df_final['bikeid'].count()/df_final['bikeid'].nunique()"
   ]
  },
  {
   "cell_type": "code",
   "execution_count": null,
   "id": "cf3e7f9d",
   "metadata": {},
   "outputs": [],
   "source": [
    "df_final['bikeid'].nunique()"
   ]
  },
  {
   "cell_type": "code",
   "execution_count": null,
   "id": "e23ae1e1",
   "metadata": {},
   "outputs": [],
   "source": [
    "df_final.groupby('usertype')['tripduration'].agg(['min','max','mean','count'])"
   ]
  },
  {
   "cell_type": "code",
   "execution_count": null,
   "id": "e4fda96d",
   "metadata": {},
   "outputs": [],
   "source": [
    "# df_final[df_final['tripduration']>df_final['tripduration'].mean()].groupby('usertype')['tripduration'].count()"
   ]
  },
  {
   "cell_type": "code",
   "execution_count": null,
   "id": "d2055a25",
   "metadata": {},
   "outputs": [],
   "source": [
    "df_filtered = df_final[df_final['tripduration'] > df_final.groupby('usertype')['tripduration'].transform('mean')]\n",
    "count_filt = df_filtered.groupby('usertype')['tripduration'].count()\n",
    "count_total = df_final.groupby('usertype')['tripduration'].count()\n",
    "count_filt/count_total * 100 # Percentage of users whose average trip duration is longer than the mean "
   ]
  },
  {
   "cell_type": "code",
   "execution_count": null,
   "id": "9041ca86",
   "metadata": {},
   "outputs": [],
   "source": [
    "count_filt_2 = df_final[df_final['start station name']==df_final['end station name']].groupby('usertype')['tripduration'].count()\n",
    "count_filt_2/count_total * 100 # Percentage of users whose average trip duration is longer than the mean"
   ]
  },
  {
   "cell_type": "code",
   "execution_count": null,
   "id": "00ec994c",
   "metadata": {},
   "outputs": [],
   "source": [
    "gender_cnt = df_final['gender'].value_counts().reset_index().rename(columns={'index':'gender','gender':'count'})\n",
    "# 0 = unknown 1 = male 2 = female"
   ]
  },
  {
   "cell_type": "code",
   "execution_count": null,
   "id": "417aad01",
   "metadata": {},
   "outputs": [],
   "source": [
    "gender_cnt"
   ]
  },
  {
   "cell_type": "code",
   "execution_count": null,
   "id": "8ba6a5fd",
   "metadata": {},
   "outputs": [],
   "source": [
    "df_final.groupby('gender')['usertype'].value_counts()\n",
    "\n",
    "# Validates the hypothesis that people might be entering random values or leaving the field blank if they are not subscribers\n",
    "# and just want the bike for a day or two."
   ]
  },
  {
   "cell_type": "code",
   "execution_count": null,
   "id": "6c21e018",
   "metadata": {},
   "outputs": [],
   "source": [
    "plt.pie(x = gender_cnt['count'],autopct='%1.1f%%')\n",
    "new_labels = ['Male', 'Female', 'Unknown']\n",
    "plt.legend(new_labels,bbox_to_anchor=(1.05, 1), loc='upper left')\n",
    "plt.show()"
   ]
  },
  {
   "cell_type": "code",
   "execution_count": null,
   "id": "3db6e24f",
   "metadata": {},
   "outputs": [],
   "source": [
    "df_final.groupby(['gender','usertype'])['tripduration'].count().reset_index().rename(columns={'tripduration':'Count'})"
   ]
  },
  {
   "cell_type": "code",
   "execution_count": null,
   "id": "ccd3af69",
   "metadata": {},
   "outputs": [],
   "source": [
    "df_final['start station name'].value_counts().sort_values(ascending = False)"
   ]
  },
  {
   "cell_type": "code",
   "execution_count": null,
   "id": "6a213eef",
   "metadata": {},
   "outputs": [],
   "source": [
    "from collections import Counter\n",
    "\n",
    "df_same_station = df_final[df_final['start station name'] == df_final['end station name']]\n",
    "df_diff_station = df_final[df_final['start station name'] != df_final['end station name']]\n",
    "\n",
    "pair_1 = list(zip(df_same_station['start station name'], df_same_station['end station name']))\n",
    "pair_2 = list(zip(df_diff_station['start station name'], df_diff_station['end station name']))\n",
    "\n",
    "pair_counts_same = Counter(pair_1)\n",
    "pair_counts_same.most_common()"
   ]
  },
  {
   "cell_type": "code",
   "execution_count": null,
   "id": "c010fb20",
   "metadata": {},
   "outputs": [],
   "source": [
    "# Count of pairs where start and end aren't the same \n",
    "pair_counts_diff = Counter(pair_2)\n",
    "pair_counts_diff.most_common()"
   ]
  },
  {
   "cell_type": "code",
   "execution_count": null,
   "id": "f6f9bdb0",
   "metadata": {},
   "outputs": [],
   "source": [
    "count_filt_3 = df_final[df_final['start station name']==df_final['end station name']].groupby('usertype')['tripduration'].count()\n",
    "count_filt_3"
   ]
  },
  {
   "cell_type": "code",
   "execution_count": null,
   "id": "27c5a2ad",
   "metadata": {},
   "outputs": [],
   "source": [
    "count_filt_3/count_total * 100 # Percentage of users whose average trip duration is longer than the mean "
   ]
  },
  {
   "cell_type": "code",
   "execution_count": null,
   "id": "45daa249",
   "metadata": {},
   "outputs": [],
   "source": [
    "count_filt_4 = df_final[df_final['start station name']!=df_final['end station name']].groupby('usertype')['tripduration'].count()\n",
    "count_filt_4"
   ]
  },
  {
   "cell_type": "code",
   "execution_count": null,
   "id": "914668f2",
   "metadata": {},
   "outputs": [],
   "source": [
    "count_filt_4/count_total * 100 # Percentage of users whose average trip duration is longer than the mean "
   ]
  },
  {
   "cell_type": "code",
   "execution_count": null,
   "id": "abd87e6f",
   "metadata": {},
   "outputs": [],
   "source": [
    "df_final[df_final['start station name']!=df_final['end station name']]['tripduration'].agg(['min','max','mean','std','count'])"
   ]
  },
  {
   "cell_type": "code",
   "execution_count": null,
   "id": "c2c11dce",
   "metadata": {},
   "outputs": [],
   "source": [
    "df_final[df_final['start station name']==df_final['end station name']]['tripduration'].agg(['min','max','mean','std','count'])"
   ]
  },
  {
   "cell_type": "code",
   "execution_count": null,
   "id": "9e725aea",
   "metadata": {},
   "outputs": [],
   "source": [
    "import scipy.stats\n",
    "scipy.stats.pearsonr(df_final['birth year'],df_final['tripduration'])"
   ]
  },
  {
   "cell_type": "code",
   "execution_count": null,
   "id": "3af6b16f",
   "metadata": {},
   "outputs": [],
   "source": [
    "scipy.stats.spearmanr(df_final['birth year'],df_final['tripduration'])"
   ]
  },
  {
   "cell_type": "code",
   "execution_count": null,
   "id": "92bc58b8",
   "metadata": {},
   "outputs": [],
   "source": [
    "scipy.stats.pearsonr(df_final.loc[df_final['birth year']!=0,'birth year'],df_final.loc[df_final['birth year']!=0,'tripduration'])"
   ]
  },
  {
   "cell_type": "code",
   "execution_count": null,
   "id": "2e7673e5",
   "metadata": {},
   "outputs": [],
   "source": [
    "scipy.stats.spearmanr(df_final.loc[df_final['birth year']!=0,'birth year'],df_final.loc[df_final['birth year']!=0,'tripduration'])"
   ]
  },
  {
   "cell_type": "code",
   "execution_count": null,
   "id": "724e674c",
   "metadata": {},
   "outputs": [],
   "source": [
    "# sns.regplot(data = df_final, x=\"birth year\", y=\"tripduration\")"
   ]
  },
  {
   "cell_type": "code",
   "execution_count": null,
   "id": "77d5fc70",
   "metadata": {},
   "outputs": [],
   "source": [
    "df_final.describe()"
   ]
  },
  {
   "cell_type": "code",
   "execution_count": null,
   "id": "a26ca4f4",
   "metadata": {},
   "outputs": [],
   "source": [
    "df_final['tripduration'].value_counts()"
   ]
  },
  {
   "cell_type": "code",
   "execution_count": null,
   "id": "24f46c81",
   "metadata": {},
   "outputs": [],
   "source": [
    "# df_final['trip']\n",
    "sns.boxplot(data = df_age_group, x = 'count')"
   ]
  },
  {
   "cell_type": "code",
   "execution_count": null,
   "id": "ab2b5753",
   "metadata": {},
   "outputs": [],
   "source": [
    "df_age_group[df_age_group['count']>=100].index"
   ]
  },
  {
   "cell_type": "code",
   "execution_count": null,
   "id": "058c24ab",
   "metadata": {},
   "outputs": [],
   "source": [
    "df_age_group[df_age_group['count']<=100].index"
   ]
  },
  {
   "cell_type": "code",
   "execution_count": null,
   "id": "7e9ef9a9",
   "metadata": {},
   "outputs": [],
   "source": [
    "df_age_group[df_age_group['count']<=100]"
   ]
  },
  {
   "cell_type": "code",
   "execution_count": null,
   "id": "77ea54d8",
   "metadata": {},
   "outputs": [],
   "source": [
    "df_final[(df_final['age']>90) & (df_final['birth year']!=0)]['tripduration'].mean()"
   ]
  },
  {
   "cell_type": "code",
   "execution_count": null,
   "id": "f805277d",
   "metadata": {},
   "outputs": [],
   "source": [
    "df_final[(df_final['age']>90) & (df_final['birth year']!=0)]['Month'].value_counts().reset_index().sort_values(by='index').plot.bar(x='index')"
   ]
  },
  {
   "cell_type": "code",
   "execution_count": null,
   "id": "d4446360",
   "metadata": {},
   "outputs": [],
   "source": [
    "hr_count = df_final['starttime'].dt.hour.value_counts().reset_index().rename(columns = {'index':'Hour of Day','starttime':'Count'})"
   ]
  },
  {
   "cell_type": "code",
   "execution_count": null,
   "id": "5b7f2cd3",
   "metadata": {},
   "outputs": [],
   "source": [
    "sns.barplot(data = hr_count, x = 'Hour of Day', y = 'Count', color = 'gray')\n",
    "sns.despine(left = True, bottom = True)\n",
    "plt.show()"
   ]
  },
  {
   "cell_type": "code",
   "execution_count": null,
   "id": "1c51c774",
   "metadata": {},
   "outputs": [],
   "source": [
    "df_3 = df_final[(df_final['birth year']!=0)&(df_final['age']!=0)].groupby(['age',df_final['starttime'].dt.hour])['tripduration'].count().reset_index()"
   ]
  },
  {
   "cell_type": "code",
   "execution_count": null,
   "id": "7089426c",
   "metadata": {},
   "outputs": [],
   "source": [
    "max_idx = df_3.groupby('age')['tripduration'].idxmax()\n",
    "\n",
    "df_3.loc[max_idx]"
   ]
  },
  {
   "cell_type": "code",
   "execution_count": null,
   "id": "9a3f0bc1",
   "metadata": {},
   "outputs": [],
   "source": [
    "# Funny Data\n",
    "df_final[df_final['age']==115]['tripduration'].max()/60\n",
    "df_final[df_final['age']>=90]['tripduration'].mean()/60"
   ]
  },
  {
   "cell_type": "code",
   "execution_count": null,
   "id": "2edd6ede",
   "metadata": {},
   "outputs": [],
   "source": [
    "# One time users may be lying about their age \n",
    "df_final[df_final['age']>=90]['usertype'].value_counts()"
   ]
  },
  {
   "cell_type": "code",
   "execution_count": null,
   "id": "9bde2306",
   "metadata": {},
   "outputs": [],
   "source": [
    "df_final[df_final['age']>=90].groupby('age')['usertype'].count()"
   ]
  },
  {
   "cell_type": "code",
   "execution_count": null,
   "id": "acbdc627",
   "metadata": {},
   "outputs": [],
   "source": [
    "df_final[df_final['age']==115]"
   ]
  },
  {
   "cell_type": "code",
   "execution_count": null,
   "id": "1a2ef6b6",
   "metadata": {},
   "outputs": [],
   "source": [
    "# Check in 2024 Dataset and then go through the app. "
   ]
  },
  {
   "cell_type": "code",
   "execution_count": null,
   "id": "ed9f26d0",
   "metadata": {},
   "outputs": [],
   "source": [
    "max_idx_work_force = df_3[(df_3['age']>18) & (df_3['age']<=60)].groupby('age')['tripduration'].idxmax()\n",
    "\n",
    "df_3.loc[max_idx_work_force]"
   ]
  },
  {
   "cell_type": "code",
   "execution_count": null,
   "id": "c097dc58",
   "metadata": {},
   "outputs": [],
   "source": [
    "second_largest_per_group = df_3[(df_3['age']>18) & (df_3['age']<=60)].groupby('age').apply(lambda x: x.nlargest(2, 'tripduration').iloc[1])\n",
    "second_largest_per_group"
   ]
  },
  {
   "cell_type": "code",
   "execution_count": null,
   "id": "ebeab982",
   "metadata": {},
   "outputs": [],
   "source": [
    "# Trip duration during peak hours does it change a lot ?\n",
    "\n",
    "df_final.groupby(df_final['starttime'].dt.hour)['tripduration'].agg(['max','mean'])"
   ]
  },
  {
   "cell_type": "code",
   "execution_count": null,
   "id": "32e386ca",
   "metadata": {},
   "outputs": [],
   "source": [
    "df_final[(df_final['start station name'] == 'E 43 St & Vanderbilt Ave') & (df_final['end station name'] == 'W 41 St & 8 Ave')].groupby(df_final['starttime'].dt.hour)['tripduration'].agg(['mean','count'])"
   ]
  },
  {
   "cell_type": "code",
   "execution_count": null,
   "id": "882d2826",
   "metadata": {},
   "outputs": [],
   "source": [
    "df_final['starttime'].dt.month.value_counts().reset_index().rename(columns = {'index':'Month','starttime':'Number of Rides'}).sort_values(by = 'Month').plot.bar(x = 'Month',y = 'Number of Rides')\n",
    "# df_final.groupby(df_final['starttime'].dt.month)['tripduration'].count().reset_index().rename(columns={'tripduration':'Number of Rides','starttime':'Month'}).plot.bar()"
   ]
  },
  {
   "cell_type": "code",
   "execution_count": null,
   "id": "3f31cdee",
   "metadata": {},
   "outputs": [],
   "source": [
    "df_final['tripduration'].count()"
   ]
  },
  {
   "cell_type": "code",
   "execution_count": null,
   "id": "a01fb737",
   "metadata": {},
   "outputs": [],
   "source": [
    "df_final['tripduration'].isna().sum()"
   ]
  },
  {
   "cell_type": "code",
   "execution_count": null,
   "id": "ded61fad",
   "metadata": {},
   "outputs": [],
   "source": [
    "df_final[df_final['tripduration']==60].count()"
   ]
  },
  {
   "cell_type": "code",
   "execution_count": null,
   "id": "9e283fe7",
   "metadata": {},
   "outputs": [],
   "source": [
    "df_final['tripduration'].plot.bar()"
   ]
  },
  {
   "cell_type": "code",
   "execution_count": null,
   "id": "e89da93b",
   "metadata": {},
   "outputs": [],
   "source": [
    "df_final.isna().mean()"
   ]
  },
  {
   "cell_type": "code",
   "execution_count": null,
   "id": "1a97d2d2",
   "metadata": {},
   "outputs": [],
   "source": [
    "df_final['usertype'].value_counts()"
   ]
  },
  {
   "cell_type": "code",
   "execution_count": null,
   "id": "0265a76c",
   "metadata": {},
   "outputs": [],
   "source": [
    "df_final['age'] = 2014 - df_final['birth year']"
   ]
  },
  {
   "cell_type": "code",
   "execution_count": null,
   "id": "8b5992e5",
   "metadata": {},
   "outputs": [],
   "source": [
    "df_final['age'].value_counts()"
   ]
  },
  {
   "cell_type": "code",
   "execution_count": null,
   "id": "ab4c78a4",
   "metadata": {},
   "outputs": [],
   "source": [
    "df_final_filt = df_final[df_final['birth year']!=0]"
   ]
  },
  {
   "cell_type": "code",
   "execution_count": null,
   "id": "c9faf45b",
   "metadata": {},
   "outputs": [],
   "source": [
    "import matplotlib.pyplot as plt\n",
    "plt.scatter(x = df_final_filt['tripduration'], y = df_final_filt['age'])\n",
    "sns.despine(left = True, bottom = True)"
   ]
  },
  {
   "cell_type": "code",
   "execution_count": null,
   "id": "65132156",
   "metadata": {},
   "outputs": [],
   "source": [
    "df_age_group = df_final_filt.groupby('age')['tripduration'].agg(['min','mean','max','count']).sort_values(by='count',ascending=False)"
   ]
  },
  {
   "cell_type": "code",
   "execution_count": null,
   "id": "eb9da206",
   "metadata": {},
   "outputs": [],
   "source": [
    "df_age_group['count'][:5]"
   ]
  },
  {
   "cell_type": "code",
   "execution_count": null,
   "id": "a32092f5",
   "metadata": {},
   "outputs": [],
   "source": [
    "df_age_group['count'].tail()"
   ]
  },
  {
   "cell_type": "code",
   "execution_count": null,
   "id": "dba3b62a",
   "metadata": {},
   "outputs": [],
   "source": [
    "sns.histplot(data = df_age_group,x = 'age', y = 'count')"
   ]
  },
  {
   "cell_type": "code",
   "execution_count": null,
   "id": "e2c05cb9",
   "metadata": {},
   "outputs": [],
   "source": [
    "df_age_dist = df_final[(df_final['age']!=0) & (df_final['age']<=100)]\n",
    "sns.displot(df_age_dist['age'],kind = 'kde')"
   ]
  },
  {
   "cell_type": "code",
   "execution_count": null,
   "id": "d95b7b74",
   "metadata": {},
   "outputs": [],
   "source": []
  },
  {
   "cell_type": "code",
   "execution_count": null,
   "id": "937c6a1a",
   "metadata": {},
   "outputs": [],
   "source": [
    "ax = sns.countplot(data = df_final_filt , x = 'age')\n",
    "sns.despine(left = True, bottom = True)\n",
    "ax.set(xlabel='')\n",
    "ax.set(ylabel='')\n",
    "ax.set_yticks([])\n",
    "ax.set_xticks([])\n",
    "# x_ticks_positions = range(0, len(df_final_filt), 2)\n",
    "# x_ticks_labels = df_final_filt['age'].iloc[x_ticks_positions]\n",
    "plt.title(label = 'Distribution of Numbers of Rides by Age')\n",
    "plt.show()"
   ]
  },
  {
   "cell_type": "code",
   "execution_count": null,
   "id": "fa128493",
   "metadata": {},
   "outputs": [],
   "source": [
    "threshold = df_final_filt['age'].value_counts().quantile(0.90)\n",
    "age_count = df_final_filt['age'].value_counts().reset_index().rename(columns={'age':'count','index':'age'})\n",
    "top_10_percent_df = age_count[age_count['count'] >= threshold]\n",
    "ax2 = sns.barplot(data = top_10_percent_df, x = 'age' , y = 'count',color = 'gray')\n",
    "sns.despine(left = True,bottom = 'True')\n",
    "ax2.set(ylabel='')\n",
    "ax2.set_yticks([])\n",
    "ax2.set(xlabel='')\n",
    "for p in ax2.patches:\n",
    "    height = p.get_height()\n",
    "    ax2.text(p.get_x() + p.get_width() / 2., height, f'{int(height)}', ha='center', va='bottom')\n",
    "plt.show()"
   ]
  },
  {
   "cell_type": "code",
   "execution_count": null,
   "id": "f49a7c92",
   "metadata": {},
   "outputs": [],
   "source": [
    "# Beautify this \n",
    "age_ls = list(top_10_percent_df['age'])\n",
    "\n",
    "for x in age_ls:\n",
    "    df_age = df_final_filt[df_final_filt['age'] == x]\n",
    "    df_grouped = df_age.groupby(['Month', 'age'])['tripduration'].mean().reset_index()    \n",
    "    plt.plot(df_grouped['Month'], df_grouped['tripduration'],label = x)\n",
    "\n",
    "plt.legend(bbox_to_anchor=(1.05, 1), loc='upper left')\n",
    "plt.xlabel('Month')\n",
    "plt.ylabel('Average Trip Duration')\n",
    "plt.title('Average Trip Duration by Month and Age Group')\n",
    "\n",
    "ax = plt.gca()\n",
    "ax.set_xticks([])\n",
    "ax.set_yticks([])\n",
    "\n",
    "sns.despine(left = True, bottom = True)\n",
    "plt.show()"
   ]
  },
  {
   "cell_type": "code",
   "execution_count": null,
   "id": "09611e5b",
   "metadata": {},
   "outputs": [],
   "source": [
    "# import dash\n",
    "# from dash import dcc, html\n",
    "# import plotly.graph_objs as go\n",
    "\n",
    "# Make the above graph interactive "
   ]
  },
  {
   "cell_type": "code",
   "execution_count": null,
   "id": "637e1149",
   "metadata": {},
   "outputs": [],
   "source": [
    "import seaborn as sns\n",
    "corr = df_final_filt.corr()\n",
    "sns.heatmap(corr, \n",
    "            xticklabels=corr.columns.values,\n",
    "            yticklabels=corr.columns.values)"
   ]
  },
  {
   "cell_type": "code",
   "execution_count": null,
   "id": "04a647d9",
   "metadata": {},
   "outputs": [],
   "source": [
    "# See how dataset changes overtime \n",
    "# Growth in number of rides over the years\n",
    "# Seasonal Trends (If some months are trending ever year try to find the cause)"
   ]
  },
  {
   "cell_type": "code",
   "execution_count": null,
   "id": "f923d0cc",
   "metadata": {},
   "outputs": [],
   "source": [
    "cols_list = df_final.columns.to_list()\n",
    "cols_list\n",
    "# len(cols_list)"
   ]
  },
  {
   "cell_type": "code",
   "execution_count": null,
   "id": "9b3ff82a",
   "metadata": {},
   "outputs": [],
   "source": [
    "df_final.isna().sum()/df_final.count()"
   ]
  },
  {
   "cell_type": "code",
   "execution_count": null,
   "id": "27a0d644",
   "metadata": {},
   "outputs": [],
   "source": [
    "trip = df_final"
   ]
  },
  {
   "cell_type": "code",
   "execution_count": null,
   "id": "9cfa6df2",
   "metadata": {},
   "outputs": [],
   "source": [
    "trip = trip[['bikeid', 'starttime', 'stoptime', 'start station id', 'end station id']]\n",
    "trip = trip.dropna(subset=['end station id'])\n",
    "trip['end station id'] = trip['end station id'].astype('int64')\n",
    "trip = trip.sort_values(['bikeid', 'starttime', 'stoptime'])\n",
    "trip.head()"
   ]
  },
  {
   "cell_type": "code",
   "execution_count": null,
   "id": "523a44d6",
   "metadata": {},
   "outputs": [],
   "source": [
    "bike_transfer = trip\n",
    "bike_transfer['flag'] = trip['start station id'] - trip['end station id'].shift(periods=1)\n",
    "bike_transfer = bike_transfer.dropna(subset=['flag'])\n",
    "bike_transfer['flag'] = (bike_transfer['flag'] > 0)\n",
    "bike_transfer['flag'] = bike_transfer['flag'].astype(np.int64)"
   ]
  },
  {
   "cell_type": "code",
   "execution_count": null,
   "id": "5ad6941a",
   "metadata": {},
   "outputs": [],
   "source": [
    "bike_transfer['end station id'] = bike_transfer['end station id'].shift(periods=1)\n",
    "bike_transfer['stoptime'] = bike_transfer['stoptime'].shift(periods=1)\n",
    "bike_transfer = bike_transfer.dropna(subset=['end station id'])\n",
    "bike_transfer['end station id'] = bike_transfer['end station id'].astype(np.int64)\n",
    "bike_transfer = bike_transfer[bike_transfer['flag'] > 0]"
   ]
  },
  {
   "cell_type": "code",
   "execution_count": null,
   "id": "f20c4827",
   "metadata": {},
   "outputs": [],
   "source": [
    "arrivals = bike_transfer[['start station id', 'starttime', 'flag']]\n",
    "arrivals = arrivals.rename(columns={\"start station id\":\"station id\", \"starttime\":\"time\", \"flag\":\"counts\"})\n",
    "\n",
    "departures = bike_transfer[['end station id', 'stoptime', 'flag']]\n",
    "departures['flag'] = -departures['flag']\n",
    "departures = departures.rename(columns={\"end station id\":\"station id\", \"stoptime\":\"time\", \"flag\":\"counts\"})\n",
    "\n",
    "df_total = arrivals.append(departures)\n",
    "df_total.head()"
   ]
  },
  {
   "cell_type": "code",
   "execution_count": null,
   "id": "038f51f0",
   "metadata": {},
   "outputs": [],
   "source": [
    "df_total = df_total.sort_values(['station id', 'time'])\n",
    "df_total['counts'] = df_total.groupby('station id')['counts'].cumsum()\n",
    "df_total = df_total.rename(columns={\"counts\":\"aerometafores\"})\n",
    "df_total"
   ]
  },
  {
   "cell_type": "code",
   "execution_count": null,
   "id": "c869c0c0",
   "metadata": {},
   "outputs": [],
   "source": [
    "base_path = r\"Downloads\\CitiBike\\2013-citibike-tripdata\\2013-citibike-tripdata\"  \n",
    "excel_files = get_excel_files_from_monthly_folders(base_path)"
   ]
  },
  {
   "cell_type": "code",
   "execution_count": null,
   "id": "2f10c553",
   "metadata": {},
   "outputs": [],
   "source": [
    "df_final_2013 = combine_dataframes(excel_files)"
   ]
  },
  {
   "cell_type": "code",
   "execution_count": null,
   "id": "3e270e68",
   "metadata": {},
   "outputs": [],
   "source": [
    "df_final_2013 = combine_dataframes(excel_files)\n",
    "df_final_2013.head()"
   ]
  },
  {
   "cell_type": "code",
   "execution_count": null,
   "id": "334e39a1",
   "metadata": {},
   "outputs": [],
   "source": [
    "df_final_2013['starttime'] = pd.to_datetime(df_final_2013['starttime'], errors='coerce')\n",
    "df_final_2013['stoptime'] = pd.to_datetime(df_final_2013['stoptime'], errors='coerce')\n",
    "df_final_2013['birth year'].isna().sum()\n",
    "df_final_2013.replace('\\\\N', pd.NA, inplace=True)"
   ]
  },
  {
   "cell_type": "code",
   "execution_count": null,
   "id": "1fe11d39",
   "metadata": {},
   "outputs": [],
   "source": [
    "df_final_2013['birth year'] = df_final_2013['birth year'].fillna(0)\n",
    "df_final_2013['birth year'] = df_final_2013['birth year'].astype('int')"
   ]
  },
  {
   "cell_type": "markdown",
   "id": "aa511e84",
   "metadata": {},
   "source": [
    "First Year of Operation"
   ]
  },
  {
   "cell_type": "code",
   "execution_count": null,
   "id": "1a80ef3b",
   "metadata": {},
   "outputs": [],
   "source": [
    "df_final_2013.head()"
   ]
  },
  {
   "cell_type": "code",
   "execution_count": null,
   "id": "5eee64c9",
   "metadata": {},
   "outputs": [],
   "source": [
    "df_final_2013['tripduration'].agg(['min','max','std','mean'])"
   ]
  },
  {
   "cell_type": "code",
   "execution_count": null,
   "id": "7aa3c8bd",
   "metadata": {},
   "outputs": [],
   "source": [
    "weekend_ridership = df_final_2013[df_final_2013['starttime'].dt.weekday>=5]['tripduration'].agg(['mean','max','std','count'])"
   ]
  },
  {
   "cell_type": "code",
   "execution_count": null,
   "id": "9b7e0be6",
   "metadata": {},
   "outputs": [],
   "source": [
    "weekday_ridership = df_final_2013[df_final_2013['starttime'].dt.weekday<5]['tripduration'].agg(['mean','max','std','count'])"
   ]
  },
  {
   "cell_type": "code",
   "execution_count": null,
   "id": "1807d9fe",
   "metadata": {},
   "outputs": [],
   "source": [
    "weekday_ridership - weekend_ridership"
   ]
  },
  {
   "cell_type": "markdown",
   "id": "bb5250cd",
   "metadata": {},
   "source": [
    "IMPACT OF COVID "
   ]
  },
  {
   "cell_type": "code",
   "execution_count": null,
   "id": "e3db074f",
   "metadata": {},
   "outputs": [],
   "source": [
    "base_path = r\"Downloads\\CitiBike\\2020-citibike-tripdata\\2020-citibike-tripdata\"  \n",
    "excel_files = get_excel_files_from_monthly_folders(base_path)\n",
    "df_final_2020 = combine_dataframes(excel_files)"
   ]
  },
  {
   "cell_type": "code",
   "execution_count": null,
   "id": "8fe4c5b5",
   "metadata": {},
   "outputs": [],
   "source": [
    "base_path = r\"Downloads\\CitiBike\\2019-citibike-tripdata\\2019-citibike-tripdata\"  \n",
    "excel_files = get_excel_files_from_monthly_folders(base_path)\n",
    "df_final_2019 = combine_dataframes(excel_files)"
   ]
  },
  {
   "cell_type": "code",
   "execution_count": null,
   "id": "de064610",
   "metadata": {},
   "outputs": [],
   "source": [
    "df_final_2019['starttime'] = pd.to_datetime(df_final_2019['starttime'], errors='coerce')\n",
    "df_final_2019['stoptime'] = pd.to_datetime(df_final_2019['stoptime'], errors='coerce')"
   ]
  },
  {
   "cell_type": "code",
   "execution_count": null,
   "id": "0a0c17f3",
   "metadata": {},
   "outputs": [],
   "source": [
    "base_path = r\"Downloads\\CitiBike\\2018-citibike-tripdata\\2018-citibike-tripdata\"  \n",
    "excel_files = get_excel_files_from_monthly_folders(base_path)\n",
    "df_final_2018 = combine_dataframes(excel_files)"
   ]
  },
  {
   "cell_type": "code",
   "execution_count": null,
   "id": "176151bc",
   "metadata": {},
   "outputs": [],
   "source": [
    "df_final_2018['starttime'] = pd.to_datetime(df_final_2018['starttime'], errors='coerce')\n",
    "df_final_2018['stoptime'] = pd.to_datetime(df_final_2018['stoptime'], errors='coerce')"
   ]
  },
  {
   "cell_type": "code",
   "execution_count": null,
   "id": "642ee806",
   "metadata": {},
   "outputs": [],
   "source": [
    "base_path = r\"Downloads\\CitiBike\\2022-citibike-tripdata\\2022-citibike-tripdata\"  \n",
    "excel_files = get_excel_files_from_monthly_folders(base_path)\n",
    "df_final_2022 = combine_dataframes(excel_files)"
   ]
  },
  {
   "cell_type": "code",
   "execution_count": null,
   "id": "7fe9b120",
   "metadata": {},
   "outputs": [],
   "source": [
    "df_final_2022['started_at'] = pd.to_datetime(df_final_2022['started_at'], errors='coerce')\n",
    "df_final_2022['ended_at'] = pd.to_datetime(df_final_2022['ended_at'], errors='coerce')"
   ]
  },
  {
   "cell_type": "code",
   "execution_count": null,
   "id": "de97a8f1",
   "metadata": {},
   "outputs": [],
   "source": [
    "base_path = r\"Downloads\\CitiBike\\2023-citibike-tripdata\\2023-citibike-tripdata\"  \n",
    "excel_files = get_excel_files_from_monthly_folders(base_path)\n",
    "df_final_2023 = combine_dataframes(excel_files)"
   ]
  },
  {
   "cell_type": "code",
   "execution_count": null,
   "id": "94874340",
   "metadata": {},
   "outputs": [],
   "source": [
    "df_final_2023['started_at'] = pd.to_datetime(df_final_2023['started_at'], errors='coerce')\n",
    "df_final_2023['ended_at'] = pd.to_datetime(df_final_2023['ended_at'], errors='coerce')"
   ]
  },
  {
   "cell_type": "code",
   "execution_count": null,
   "id": "ed7e0e61",
   "metadata": {},
   "outputs": [],
   "source": [
    "df_final_2020['starttime'].dt.month.value_counts() - df_final_2019['starttime'].dt.month.value_counts()"
   ]
  },
  {
   "cell_type": "code",
   "execution_count": null,
   "id": "43ba212c",
   "metadata": {},
   "outputs": [],
   "source": [
    "# df_final_2020[df_final_2020['starttime'].dt.month>=4]['starttime'].dt.hour.value_counts()/9 - df_final_2020[df_final_2020['starttime'].dt.month<4]['starttime'].dt.hour.value_counts()/3"
   ]
  },
  {
   "cell_type": "code",
   "execution_count": null,
   "id": "0d3ad81a",
   "metadata": {},
   "outputs": [],
   "source": [
    "df_final_2020_timing = df_final_2020[df_final_2020['starttime'].dt.month<4].groupby(df_final_2020['starttime'].dt.hour)['tripduration'].count()/df_final_2020[df_final_2020['starttime'].dt.month<4]['tripduration'].count()*100"
   ]
  },
  {
   "cell_type": "code",
   "execution_count": null,
   "id": "b5981242",
   "metadata": {},
   "outputs": [],
   "source": [
    "df_final_2019_timing = df_final_2019[df_final_2019['starttime'].dt.month<4].groupby(df_final_2019['starttime'].dt.hour)['tripduration'].count()/df_final_2019[df_final_2019['starttime'].dt.month<4]['tripduration'].count()*100"
   ]
  },
  {
   "cell_type": "code",
   "execution_count": null,
   "id": "f8f20ea8",
   "metadata": {},
   "outputs": [],
   "source": [
    "df_final_2019_timing[9:18].sum()"
   ]
  },
  {
   "cell_type": "code",
   "execution_count": null,
   "id": "e7d94f09",
   "metadata": {},
   "outputs": [],
   "source": [
    "df_final_2020_timing[9:18].sum()"
   ]
  },
  {
   "cell_type": "code",
   "execution_count": null,
   "id": "d5bf285a",
   "metadata": {},
   "outputs": [],
   "source": [
    "df_final_2019_timing[[8,9,16,17]].sum()"
   ]
  },
  {
   "cell_type": "code",
   "execution_count": null,
   "id": "225699ed",
   "metadata": {},
   "outputs": [],
   "source": [
    "df_final_2020_timing[[8,9,16,17]].sum()"
   ]
  },
  {
   "cell_type": "code",
   "execution_count": null,
   "id": "d3a0cf75",
   "metadata": {},
   "outputs": [],
   "source": [
    "df_final_2020[df_final_2020['starttime'].dt.month<4].groupby(df_final_2020['starttime'].dt.hour)['tripduration'].count()"
   ]
  },
  {
   "cell_type": "code",
   "execution_count": null,
   "id": "98b1f04c",
   "metadata": {},
   "outputs": [],
   "source": [
    "df_final_2020.groupby([df_final_2020['starttime'].dt.month,'usertype'])['tripduration'].count() - df_final_2019.groupby([df_final_2019['starttime'].dt.month,'usertype'])['tripduration'].count()"
   ]
  },
  {
   "cell_type": "code",
   "execution_count": null,
   "id": "600c134f",
   "metadata": {},
   "outputs": [],
   "source": [
    "df_final_2020.groupby('usertype')['tripduration'].count() - df_final_2019.groupby('usertype')['tripduration'].count()"
   ]
  },
  {
   "cell_type": "code",
   "execution_count": null,
   "id": "9e738380",
   "metadata": {},
   "outputs": [],
   "source": [
    "df_final_2020['starttime'].dt.month.value_counts() - df_final_2018['starttime'].dt.month.value_counts()"
   ]
  },
  {
   "cell_type": "code",
   "execution_count": null,
   "id": "573a9d3f",
   "metadata": {},
   "outputs": [],
   "source": [
    "df_final_2019['starttime'].dt.month.value_counts() - df_final_2018['starttime'].dt.month.value_counts()"
   ]
  },
  {
   "cell_type": "code",
   "execution_count": null,
   "id": "69f6b4c8",
   "metadata": {},
   "outputs": [],
   "source": [
    "df_final_2020['tripduration'].count() - df_final_2019['tripduration'].count()\n",
    "\n",
    "# The number of rides went down from 2019 to 2020."
   ]
  },
  {
   "cell_type": "code",
   "execution_count": null,
   "id": "3c00a93a",
   "metadata": {},
   "outputs": [],
   "source": [
    "df_final_2019['tripduration'].count() - df_final_2018['tripduration'].count()"
   ]
  },
  {
   "cell_type": "code",
   "execution_count": null,
   "id": "bd32ef41",
   "metadata": {},
   "outputs": [],
   "source": [
    "df_final_2020['gender'].value_counts()"
   ]
  },
  {
   "cell_type": "code",
   "execution_count": null,
   "id": "243a6b57",
   "metadata": {},
   "outputs": [],
   "source": [
    "df_final_2020['usertype'].value_counts()"
   ]
  },
  {
   "cell_type": "code",
   "execution_count": null,
   "id": "c92d78bf",
   "metadata": {},
   "outputs": [],
   "source": [
    "df_final_2020.dtypes"
   ]
  },
  {
   "cell_type": "code",
   "execution_count": null,
   "id": "11cc5cc9",
   "metadata": {},
   "outputs": [],
   "source": [
    "df_final_2020['starttime'] = pd.to_datetime(df_final_2020['starttime'], errors='coerce')\n",
    "df_final_2020['stoptime'] = pd.to_datetime(df_final_2020['stoptime'], errors='coerce')\n",
    "# df_final_2020['birth year'].isna().sum()\n",
    "# df_final_2020.replace('\\\\N', pd.NA, inplace=True)"
   ]
  },
  {
   "cell_type": "markdown",
   "id": "e35f10d3",
   "metadata": {},
   "source": [
    "# https://www.ncbi.nlm.nih.gov/pmc/articles/PMC7731099/#:~:text=On%20March%2020%20Cuomo%20announced,has%20been%20considered%20as%20the"
   ]
  },
  {
   "cell_type": "code",
   "execution_count": null,
   "id": "f6bad09a",
   "metadata": {},
   "outputs": [],
   "source": [
    "df_2020_monthly = df_final_2020.groupby(df_final_2020['starttime'].dt.month)['tripduration'].count().reset_index().rename(columns = {'tripduration':'count'})"
   ]
  },
  {
   "cell_type": "code",
   "execution_count": null,
   "id": "fa1eb953",
   "metadata": {},
   "outputs": [],
   "source": [
    "df_2020_monthly\n",
    "# Compare this with monthly trends in 2018,2019 \n",
    "# Raw numbers comparison and percentage of total users comparison as well"
   ]
  },
  {
   "cell_type": "code",
   "execution_count": null,
   "id": "543ac724",
   "metadata": {},
   "outputs": [],
   "source": [
    "sns.barplot(data = df_2020_monthly, x = 'starttime', y = 'count',color = 'gray')\n",
    "sns.despine(left = True, bottom = True)\n",
    "plt.show()"
   ]
  },
  {
   "cell_type": "code",
   "execution_count": null,
   "id": "6928f3a6",
   "metadata": {},
   "outputs": [],
   "source": [
    "(2020 - df_final_2020['birth year']).value_counts()"
   ]
  },
  {
   "cell_type": "code",
   "execution_count": null,
   "id": "1ec3cf96",
   "metadata": {},
   "outputs": [],
   "source": [
    "((2020 - df_final_2020['birth year'])>=90).sum()"
   ]
  },
  {
   "cell_type": "code",
   "execution_count": null,
   "id": "de8ea948",
   "metadata": {},
   "outputs": [],
   "source": [
    "((2020 - df_final_2020['birth year'])>=100).sum()"
   ]
  },
  {
   "cell_type": "code",
   "execution_count": null,
   "id": "3447a7e2",
   "metadata": {},
   "outputs": [],
   "source": [
    "df_final_2020['age'] = 2020 - df_final_2020['birth year']"
   ]
  },
  {
   "cell_type": "code",
   "execution_count": null,
   "id": "eea07951",
   "metadata": {},
   "outputs": [],
   "source": [
    "df_final_2020[df_final_2020['age']>=100]['tripduration'].mean()/60"
   ]
  },
  {
   "cell_type": "code",
   "execution_count": null,
   "id": "12a95be3",
   "metadata": {},
   "outputs": [],
   "source": [
    "df_final_2020[df_final_2020['age']>=90]['usertype'].value_counts()"
   ]
  },
  {
   "cell_type": "code",
   "execution_count": null,
   "id": "2b560201",
   "metadata": {},
   "outputs": [],
   "source": [
    "df_final_2020[df_final_2020['age']>=90]['birth year'].value_counts()"
   ]
  },
  {
   "cell_type": "code",
   "execution_count": null,
   "id": "2404cc46",
   "metadata": {},
   "outputs": [],
   "source": [
    "df_final_2020[df_final_2020['age'] == df_final_2020['age'].max()]['birth year'].count() \n",
    "# 1873 "
   ]
  },
  {
   "cell_type": "code",
   "execution_count": null,
   "id": "dc17c981",
   "metadata": {},
   "outputs": [],
   "source": [
    "df_final_2020[df_final_2020['age']>=90]"
   ]
  },
  {
   "cell_type": "code",
   "execution_count": null,
   "id": "2e5f8bd0",
   "metadata": {},
   "outputs": [],
   "source": [
    "df_final_2020['birth year'].value_counts()"
   ]
  },
  {
   "cell_type": "code",
   "execution_count": null,
   "id": "d7d305d9",
   "metadata": {},
   "outputs": [],
   "source": [
    "2012 - 1969"
   ]
  },
  {
   "cell_type": "markdown",
   "id": "f3c661b5",
   "metadata": {},
   "source": [
    "Current Year "
   ]
  },
  {
   "cell_type": "code",
   "execution_count": null,
   "id": "a489c33c",
   "metadata": {},
   "outputs": [],
   "source": [
    "base_path = r\"Downloads\\CitiBike\\2024-citibike-tripdata\\2024-citibike-tripdata\"  \n",
    "excel_files = get_excel_files_from_monthly_folders(base_path)"
   ]
  },
  {
   "cell_type": "code",
   "execution_count": null,
   "id": "aa86ee59",
   "metadata": {},
   "outputs": [],
   "source": [
    "df_final_2024"
   ]
  },
  {
   "cell_type": "code",
   "execution_count": null,
   "id": "d56088a8",
   "metadata": {},
   "outputs": [],
   "source": [
    "df_final_2024 = combine_dataframes(excel_files)\n",
    "df_final_2024['started_at'] = pd.to_datetime(df_final_2024['started_at'], errors='coerce')\n",
    "df_final_2024['ended_at'] = pd.to_datetime(df_final_2024['ended_at'], errors='coerce')"
   ]
  },
  {
   "cell_type": "code",
   "execution_count": null,
   "id": "feec39de",
   "metadata": {},
   "outputs": [],
   "source": [
    "df_final_2024.head()"
   ]
  },
  {
   "cell_type": "code",
   "execution_count": null,
   "id": "34a59682",
   "metadata": {},
   "outputs": [],
   "source": [
    "df_final_2024['tripduration']"
   ]
  },
  {
   "cell_type": "code",
   "execution_count": null,
   "id": "8be19f5d",
   "metadata": {},
   "outputs": [],
   "source": [
    "bins_in_minutes = [0, 2700 / 60, df_final_2024['tripduration'].max() / 60]\n",
    "\n",
    "pd.cut(df_final_2024['tripduration']/60 ,bins = bins_in_minutes).value_counts()"
   ]
  },
  {
   "cell_type": "code",
   "execution_count": null,
   "id": "57623d93",
   "metadata": {},
   "outputs": [],
   "source": [
    "105*60"
   ]
  },
  {
   "cell_type": "code",
   "execution_count": null,
   "id": "19689f71",
   "metadata": {},
   "outputs": [],
   "source": [
    "bins_in_minutes = [0,2700/60,3600/60,4500/60,df_final_2024['tripduration'].max() / 60]\n",
    "\n",
    "pd.cut(df_final_2024['tripduration']/60 ,bins = bins_in_minutes).value_counts()"
   ]
  },
  {
   "cell_type": "code",
   "execution_count": null,
   "id": "8405eda1",
   "metadata": {},
   "outputs": [],
   "source": [
    "df_final_2024[df_final_2024['tripduration']/60>=45]['tripduration'].agg(['min','max','mean'])/60"
   ]
  },
  {
   "cell_type": "code",
   "execution_count": null,
   "id": "2c0113fa",
   "metadata": {},
   "outputs": [],
   "source": [
    "bins_in_minutes = [2700/60,3600/60,4500/60,5400/60,6300/60,df_final_2024['tripduration'].max() / 60]\n",
    "pd.cut(df_final_2024[df_final_2024['tripduration']/60>=45]['tripduration']/60,bins = bins_in_minutes).value_counts()"
   ]
  },
  {
   "cell_type": "code",
   "execution_count": null,
   "id": "0da237c6",
   "metadata": {},
   "outputs": [],
   "source": [
    "bins_in_minutes = [2700 / 60, 3600 / 60, 4500 / 60, 5400 / 60, 6300 / 60, df_final_2024['tripduration'].max() / 60]\n",
    "\n",
    "filtered_df = df_final_2024[df_final_2024['tripduration'] / 60 >= 45]\n",
    "filtered_df['tripduration_binned'] = pd.cut(filtered_df['tripduration'] / 60, bins=bins_in_minutes)\n",
    "last_bin = filtered_df['tripduration_binned'].cat.categories[-1]\n",
    "last_bin_df = filtered_df[filtered_df['tripduration_binned'] == last_bin]\n",
    "\n",
    "mean_tripduration_last_bin = last_bin_df['tripduration'].mean()/60\n",
    "\n",
    "plt.figure(figsize=(8, 6))\n",
    "plt.boxplot(last_bin_df['tripduration']/60, vert=False)\n",
    "plt.title(f'Boxplot of Trip Durations for Bin: {last_bin}')\n",
    "plt.xlabel('Trip Duration (Minutes)')\n",
    "plt.axvline(mean_tripduration_last_bin, color='r', linestyle='--', linewidth=1)\n",
    "plt.text(mean_tripduration_last_bin, 1.02, f'Mean: {mean_tripduration_last_bin:.2f} mins', color='r', ha='center')\n",
    "plt.show()"
   ]
  },
  {
   "cell_type": "code",
   "execution_count": null,
   "id": "c3ed16d4",
   "metadata": {},
   "outputs": [],
   "source": [
    "Q1 = last_bin_df['tripduration'].quantile(0.25)\n",
    "Q3 = last_bin_df['tripduration'].quantile(0.75)\n",
    "IQR = Q3 - Q1\n",
    "\n",
    "lower_bound = Q1 - 1.5 * IQR\n",
    "upper_bound = Q3 + 1.5 * IQR\n",
    "\n",
    "outliers = last_bin_df[(last_bin_df['tripduration'] < lower_bound) | (last_bin_df['tripduration'] > upper_bound)]\n",
    "\n",
    "outliers['tripduration'].count()"
   ]
  },
  {
   "cell_type": "code",
   "execution_count": null,
   "id": "cc0c7a8b",
   "metadata": {},
   "outputs": [],
   "source": [
    "outliers['rideable_type'].value_counts()"
   ]
  },
  {
   "cell_type": "code",
   "execution_count": null,
   "id": "1e981f7a",
   "metadata": {},
   "outputs": [],
   "source": [
    "outliers['member_casual'].value_counts()"
   ]
  },
  {
   "cell_type": "code",
   "execution_count": null,
   "id": "4660687e",
   "metadata": {},
   "outputs": [],
   "source": [
    "long_rides = df_final_2024[df_final_2024['tripduration']/60>45][['rideable_type','member_casual']].value_counts().reset_index()"
   ]
  },
  {
   "cell_type": "code",
   "execution_count": null,
   "id": "cc88138a",
   "metadata": {},
   "outputs": [],
   "source": [
    "long_rides"
   ]
  },
  {
   "cell_type": "code",
   "execution_count": null,
   "id": "19ea67d0",
   "metadata": {},
   "outputs": [],
   "source": [
    "ax = sns.barplot(data = long_rides, x = 0, hue = 'member_casual' , y = 'rideable_type')\n",
    "sns.despine(left = True, bottom = True)\n",
    "\n",
    "ax.set(xlabel='')\n",
    "ax.set(ylabel='')\n",
    "ax.set_yticks([])\n",
    "ax.set_xticks([])\n",
    "plt.show()"
   ]
  },
  {
   "cell_type": "code",
   "execution_count": null,
   "id": "885af9d5",
   "metadata": {},
   "outputs": [],
   "source": [
    "plt.pie(x = df_final_2024['rideable_type'].value_counts().values,labels = df_final_2024['rideable_type'].value_counts().index,autopct='%1.1f%%')\n",
    "plt.show()"
   ]
  },
  {
   "cell_type": "code",
   "execution_count": null,
   "id": "d23801fc",
   "metadata": {},
   "outputs": [],
   "source": [
    "df_ride_type = df_final_2024.groupby('rideable_type')['tripduration'].agg(['mean','max']).reset_index()"
   ]
  },
  {
   "cell_type": "code",
   "execution_count": null,
   "id": "b0b13595",
   "metadata": {},
   "outputs": [],
   "source": [
    "df_ride_type"
   ]
  },
  {
   "cell_type": "code",
   "execution_count": null,
   "id": "4090a3b1",
   "metadata": {},
   "outputs": [],
   "source": [
    "sns.barplot(data = df_ride_type, x = 'rideable_type', y = 'mean',color = 'gray')\n",
    "sns.despine(left = True, bottom = True)\n",
    "plt.show()"
   ]
  },
  {
   "cell_type": "code",
   "execution_count": null,
   "id": "89544dfc",
   "metadata": {},
   "outputs": [],
   "source": [
    "electric_bike = df_final_2024[df_final_2024['rideable_type']=='electric_bike'][['start_station_name','end_station_name']]\n",
    "bike = df_final_2024[df_final_2024['rideable_type']=='classic_bike'][['start_station_name','end_station_name']]"
   ]
  },
  {
   "cell_type": "code",
   "execution_count": null,
   "id": "396e0830",
   "metadata": {},
   "outputs": [],
   "source": [
    "pair_electric = list(zip(electric_bike['start_station_name'], electric_bike['end_station_name']))\n",
    "pair_bike = list(zip(bike['start_station_name'], bike['end_station_name']))"
   ]
  },
  {
   "cell_type": "code",
   "execution_count": null,
   "id": "b761ee7c",
   "metadata": {},
   "outputs": [],
   "source": [
    "pair_counts_bike = Counter(pair_bike)\n",
    "pair_counts_bike.most_common()"
   ]
  },
  {
   "cell_type": "code",
   "execution_count": null,
   "id": "ff5683ae",
   "metadata": {},
   "outputs": [],
   "source": [
    "pair_counts_electric_bike = Counter(pair_electric)\n",
    "pair_counts_electric_bike.most_common()"
   ]
  },
  {
   "cell_type": "code",
   "execution_count": null,
   "id": "b3c5ba93",
   "metadata": {},
   "outputs": [],
   "source": [
    "# don't remove the coordinates before calculating the distance \n",
    "# between the stations for the top 5 trips for both electric and normal bike rides"
   ]
  },
  {
   "cell_type": "code",
   "execution_count": null,
   "id": "7ba87581",
   "metadata": {},
   "outputs": [],
   "source": [
    "# Plotting the bar graph\n",
    "fig, ax = plt.subplots()\n",
    "\n",
    "# Width of each bar\n",
    "bar_width = 0.35\n",
    "\n",
    "# Locations of the bars on the x-axis\n",
    "index = range(len(df_ride_type))\n",
    "\n",
    "# Plotting mean and max bars side by side\n",
    "ax.bar(index, df_ride_type['mean'], bar_width, label='Mean')\n",
    "ax.bar([p + bar_width for p in index], df_ride_type['max'], bar_width, label='Max')\n",
    "\n",
    "# Adding labels and title\n",
    "ax.set_xlabel('Rideable Type')\n",
    "ax.set_ylabel('Trip Duration')\n",
    "ax.set_title('Mean and Max Trip Duration by Rideable Type')\n",
    "ax.set_xticks([p + bar_width / 2 for p in index])\n",
    "ax.set_xticklabels(df_ride_type['rideable_type'])\n",
    "ax.legend()\n",
    "\n",
    "plt.show()"
   ]
  },
  {
   "cell_type": "code",
   "execution_count": null,
   "id": "3373471e",
   "metadata": {},
   "outputs": [],
   "source": [
    "df_final_2024.drop(columns = ['start_station_id','end_station_id','start_lat','start_lng','end_lat','end_lng'],inplace = True)"
   ]
  },
  {
   "cell_type": "code",
   "execution_count": null,
   "id": "d6e86368",
   "metadata": {},
   "outputs": [],
   "source": [
    "df_final_2024.drop(columns = ['ride_id'],inplace = True)"
   ]
  },
  {
   "cell_type": "code",
   "execution_count": null,
   "id": "ef0d2132",
   "metadata": {},
   "outputs": [],
   "source": [
    "df_final_2024['member_casual'].value_counts()"
   ]
  },
  {
   "cell_type": "code",
   "execution_count": null,
   "id": "cd6472aa",
   "metadata": {},
   "outputs": [],
   "source": [
    "df_final_2024['tripduration'] = (df_final_2024['ended_at']-df_final_2024['started_at']).dt.total_seconds()"
   ]
  },
  {
   "cell_type": "code",
   "execution_count": null,
   "id": "be7bc724",
   "metadata": {},
   "outputs": [],
   "source": [
    "df_final_2024[df_final_2024['tripduration']<=60].count()"
   ]
  },
  {
   "cell_type": "code",
   "execution_count": null,
   "id": "917828e6",
   "metadata": {},
   "outputs": [],
   "source": [
    "df_final_2024['tripduration'].agg(['min','max','mean'])"
   ]
  },
  {
   "cell_type": "markdown",
   "id": "95d2b2b0",
   "metadata": {},
   "source": [
    "Year of Year Growth "
   ]
  },
  {
   "cell_type": "markdown",
   "id": "41e37107",
   "metadata": {},
   "source": [
    "1) Growth in Rides & 2) Growth in Average Ride Duration\n",
    "\n",
    "df_final_2014['tripduration'].agg(['count','mean'])\n",
    "\n",
    "3) Growth in Customers, Subscribers\n",
    "\n",
    "df_final_2014['usertype'].value_counts().reset_index().rename(columns={'index':'cust_type','usertype':'Count'})\n",
    "\n",
    "4) Growth in Average Ride Duration by usertype\n",
    "\n",
    "df_final_2014.groupby('usertype')['tripduration'].mean().reset_index()\n",
    "\n",
    "5) Growth in Number of Bikes \n",
    "\n",
    "df_final_2014['bikeid'].count()\n",
    "\n",
    "6) Change in average number of rides per bike\n",
    "\n",
    "df_final_2014['tripduration'].count()/df_final_2014['bikeid'].nunique()\n",
    "\n",
    "7) Growth in number of rides averaging over 45 minutes\n",
    "\n",
    "df_final_2014[df_final_2014['tripduration']/60>45]['tripduration'].count()\n",
    "\n",
    "8) Change in Gender distribution\n",
    "\n",
    "df_final_2014['gender'].value_counts()\n",
    "\n",
    "9) Change in Monthly Number of Rides (See if the over the years if there is a pattern)\n",
    "\n",
    "df_final_2024.groupby(df_final_2024['started_at'].dt.month)['tripduration'].count().reset_index().rename(columns={'tripduration':'Count'})\n",
    "\n",
    "10) Longest Ride per year \n",
    "\n",
    "df_final_2014['tripduration'].max()/60\n",
    "\n",
    "11) Electrification over the years (Growth rate) 2022 and onwards !\n",
    "\n",
    "df_final_2024[df_final_2024['rideable_type'] == 'electric_bike']['rideable_type'].count()"
   ]
  },
  {
   "cell_type": "code",
   "execution_count": 26,
   "id": "8cfef7fe",
   "metadata": {},
   "outputs": [
    {
     "data": {
      "text/html": [
       "<div>\n",
       "<style scoped>\n",
       "    .dataframe tbody tr th:only-of-type {\n",
       "        vertical-align: middle;\n",
       "    }\n",
       "\n",
       "    .dataframe tbody tr th {\n",
       "        vertical-align: top;\n",
       "    }\n",
       "\n",
       "    .dataframe thead th {\n",
       "        text-align: right;\n",
       "    }\n",
       "</style>\n",
       "<table border=\"1\" class=\"dataframe\">\n",
       "  <thead>\n",
       "    <tr style=\"text-align: right;\">\n",
       "      <th></th>\n",
       "      <th>tripduration</th>\n",
       "      <th>starttime</th>\n",
       "      <th>stoptime</th>\n",
       "      <th>start station id</th>\n",
       "      <th>start station name</th>\n",
       "      <th>start station latitude</th>\n",
       "      <th>start station longitude</th>\n",
       "      <th>end station id</th>\n",
       "      <th>end station name</th>\n",
       "      <th>end station latitude</th>\n",
       "      <th>end station longitude</th>\n",
       "      <th>bikeid</th>\n",
       "      <th>usertype</th>\n",
       "      <th>birth year</th>\n",
       "      <th>gender</th>\n",
       "    </tr>\n",
       "  </thead>\n",
       "  <tbody>\n",
       "    <tr>\n",
       "      <th>0</th>\n",
       "      <td>326</td>\n",
       "      <td>2013-10-01 00:01:08</td>\n",
       "      <td>2013-10-01 00:06:34</td>\n",
       "      <td>239</td>\n",
       "      <td>Willoughby St &amp; Fleet St</td>\n",
       "      <td>40.69</td>\n",
       "      <td>-73.98</td>\n",
       "      <td>366.00</td>\n",
       "      <td>Clinton Ave &amp; Myrtle Ave</td>\n",
       "      <td>40.69</td>\n",
       "      <td>-73.97</td>\n",
       "      <td>16052</td>\n",
       "      <td>Subscriber</td>\n",
       "      <td>1982</td>\n",
       "      <td>1</td>\n",
       "    </tr>\n",
       "    <tr>\n",
       "      <th>1</th>\n",
       "      <td>729</td>\n",
       "      <td>2013-10-01 00:01:21</td>\n",
       "      <td>2013-10-01 00:13:30</td>\n",
       "      <td>322</td>\n",
       "      <td>Clinton St &amp; Tillary St</td>\n",
       "      <td>40.70</td>\n",
       "      <td>-73.99</td>\n",
       "      <td>398.00</td>\n",
       "      <td>Atlantic Ave &amp; Furman St</td>\n",
       "      <td>40.69</td>\n",
       "      <td>-74.00</td>\n",
       "      <td>19412</td>\n",
       "      <td>Customer</td>\n",
       "      <td>\\N</td>\n",
       "      <td>0</td>\n",
       "    </tr>\n",
       "    <tr>\n",
       "      <th>2</th>\n",
       "      <td>520</td>\n",
       "      <td>2013-10-01 00:01:24</td>\n",
       "      <td>2013-10-01 00:10:04</td>\n",
       "      <td>174</td>\n",
       "      <td>E 25 St &amp; 1 Ave</td>\n",
       "      <td>40.74</td>\n",
       "      <td>-73.98</td>\n",
       "      <td>403.00</td>\n",
       "      <td>E 2 St &amp; 2 Ave</td>\n",
       "      <td>40.73</td>\n",
       "      <td>-73.99</td>\n",
       "      <td>19645</td>\n",
       "      <td>Subscriber</td>\n",
       "      <td>1984</td>\n",
       "      <td>1</td>\n",
       "    </tr>\n",
       "    <tr>\n",
       "      <th>3</th>\n",
       "      <td>281</td>\n",
       "      <td>2013-10-01 00:01:25</td>\n",
       "      <td>2013-10-01 00:06:06</td>\n",
       "      <td>430</td>\n",
       "      <td>York St &amp; Jay St</td>\n",
       "      <td>40.70</td>\n",
       "      <td>-73.99</td>\n",
       "      <td>323.00</td>\n",
       "      <td>Lawrence St &amp; Willoughby St</td>\n",
       "      <td>40.69</td>\n",
       "      <td>-73.99</td>\n",
       "      <td>16992</td>\n",
       "      <td>Subscriber</td>\n",
       "      <td>1985</td>\n",
       "      <td>1</td>\n",
       "    </tr>\n",
       "    <tr>\n",
       "      <th>4</th>\n",
       "      <td>196</td>\n",
       "      <td>2013-10-01 00:01:27</td>\n",
       "      <td>2013-10-01 00:04:43</td>\n",
       "      <td>403</td>\n",
       "      <td>E 2 St &amp; 2 Ave</td>\n",
       "      <td>40.73</td>\n",
       "      <td>-73.99</td>\n",
       "      <td>401.00</td>\n",
       "      <td>Allen St &amp; Rivington St</td>\n",
       "      <td>40.72</td>\n",
       "      <td>-73.99</td>\n",
       "      <td>15690</td>\n",
       "      <td>Subscriber</td>\n",
       "      <td>1986</td>\n",
       "      <td>1</td>\n",
       "    </tr>\n",
       "  </tbody>\n",
       "</table>\n",
       "</div>"
      ],
      "text/plain": [
       "   tripduration           starttime             stoptime  start station id  \\\n",
       "0           326 2013-10-01 00:01:08  2013-10-01 00:06:34               239   \n",
       "1           729 2013-10-01 00:01:21  2013-10-01 00:13:30               322   \n",
       "2           520 2013-10-01 00:01:24  2013-10-01 00:10:04               174   \n",
       "3           281 2013-10-01 00:01:25  2013-10-01 00:06:06               430   \n",
       "4           196 2013-10-01 00:01:27  2013-10-01 00:04:43               403   \n",
       "\n",
       "         start station name  start station latitude  start station longitude  \\\n",
       "0  Willoughby St & Fleet St                   40.69                   -73.98   \n",
       "1   Clinton St & Tillary St                   40.70                   -73.99   \n",
       "2           E 25 St & 1 Ave                   40.74                   -73.98   \n",
       "3          York St & Jay St                   40.70                   -73.99   \n",
       "4            E 2 St & 2 Ave                   40.73                   -73.99   \n",
       "\n",
       "   end station id             end station name  end station latitude  \\\n",
       "0          366.00     Clinton Ave & Myrtle Ave                 40.69   \n",
       "1          398.00     Atlantic Ave & Furman St                 40.69   \n",
       "2          403.00               E 2 St & 2 Ave                 40.73   \n",
       "3          323.00  Lawrence St & Willoughby St                 40.69   \n",
       "4          401.00      Allen St & Rivington St                 40.72   \n",
       "\n",
       "   end station longitude  bikeid    usertype birth year  gender  \n",
       "0                 -73.97   16052  Subscriber       1982       1  \n",
       "1                 -74.00   19412    Customer         \\N       0  \n",
       "2                 -73.99   19645  Subscriber       1984       1  \n",
       "3                 -73.99   16992  Subscriber       1985       1  \n",
       "4                 -73.99   15690  Subscriber       1986       1  "
      ]
     },
     "execution_count": 26,
     "metadata": {},
     "output_type": "execute_result"
    }
   ],
   "source": [
    "df_final_2013.head()"
   ]
  },
  {
   "cell_type": "code",
   "execution_count": null,
   "id": "809aed78",
   "metadata": {},
   "outputs": [],
   "source": [
    "cnt_2013 = df_final_2013['usertype'].value_counts().reset_index().rename(columns={'index':'cust_type','usertype':'Count'})"
   ]
  },
  {
   "cell_type": "code",
   "execution_count": null,
   "id": "99fb59b1",
   "metadata": {},
   "outputs": [],
   "source": [
    "cnt_2014 = df_final['usertype'].value_counts().reset_index().rename(columns={'index':'cust_type','usertype':'Count'})"
   ]
  },
  {
   "cell_type": "code",
   "execution_count": null,
   "id": "415ee619",
   "metadata": {},
   "outputs": [],
   "source": [
    "trip_dur_2013 = df_final_2013['tripduration'].agg(['max','std','mean'])/60"
   ]
  },
  {
   "cell_type": "code",
   "execution_count": null,
   "id": "d7866676",
   "metadata": {},
   "outputs": [],
   "source": [
    "df_final_2013['tripduration'].agg(['max','std','mean'])/60"
   ]
  },
  {
   "cell_type": "code",
   "execution_count": null,
   "id": "1d62dc51",
   "metadata": {},
   "outputs": [],
   "source": [
    "df_final_2013[df_final_2013['tripduration']==df_final_2013['tripduration'].max()]"
   ]
  },
  {
   "cell_type": "code",
   "execution_count": null,
   "id": "bd2da9bd",
   "metadata": {},
   "outputs": [],
   "source": [
    "df_final_2013[df_final_2013['tripduration']/3600>1].groupby('usertype')['tripduration'].count()"
   ]
  },
  {
   "cell_type": "code",
   "execution_count": null,
   "id": "675de018",
   "metadata": {},
   "outputs": [],
   "source": [
    "df_final_2013[df_final_2013['tripduration']/3600>1].groupby('gender')['tripduration'].count()"
   ]
  },
  {
   "cell_type": "code",
   "execution_count": null,
   "id": "10ade1fa",
   "metadata": {},
   "outputs": [],
   "source": [
    "df_final_2013[df_final_2013['tripduration']/3600>1].head()"
   ]
  },
  {
   "cell_type": "code",
   "execution_count": null,
   "id": "a4fa6c34",
   "metadata": {},
   "outputs": [],
   "source": [
    "trip_dur_2013"
   ]
  },
  {
   "cell_type": "code",
   "execution_count": null,
   "id": "fe16cd61",
   "metadata": {},
   "outputs": [],
   "source": [
    "df_final_2013[df_final_2013['tripduration']==df_final_2013['tripduration'].max()]['stoptime'] - df_final_2013[df_final_2013['tripduration']==df_final_2013['tripduration'].max()]['starttime']"
   ]
  },
  {
   "cell_type": "code",
   "execution_count": null,
   "id": "8f8898fb",
   "metadata": {},
   "outputs": [],
   "source": [
    "#converting trip duration from seconds to minuits\n",
    "df_final_2013['tripduration'] = df_final_2013['tripduration']/60\n",
    "\n",
    "#creating bins (0-30min, 30-60min, 60-120min, 120 and above)\n",
    "max_limit = df_final_2013['tripduration'].max()\n",
    "df_final_2013['tripduration_bins'] = pd.cut(df_final_2013['tripduration'], [0, 30, 60, 120, max_limit])\n",
    "\n",
    "sns.barplot(x='tripduration_bins', y='tripduration', data=df_final_2013, estimator=np.size)\n",
    "plt.title('Usual trip duration', fontsize=30)\n",
    "plt.xlabel('Trip duration group', fontsize=20)\n",
    "plt.ylabel('Trip Duration', fontsize=20)\n",
    "plt.show()"
   ]
  },
  {
   "cell_type": "code",
   "execution_count": null,
   "id": "85b8f1af",
   "metadata": {},
   "outputs": [],
   "source": [
    "# In 2013 on an average a ride lasted 15 minutes and the longest ride was 1736.32 Hours or 72 Days"
   ]
  },
  {
   "cell_type": "code",
   "execution_count": 32,
   "id": "e5407037",
   "metadata": {},
   "outputs": [],
   "source": [
    "# Post 2022\n",
    "\n",
    "df_final_2024['started_at'] = pd.to_datetime(df_final_2024['started_at'], errors='coerce')\n",
    "df_final_2024['ended_at'] = pd.to_datetime(df_final_2024['ended_at'], errors='coerce')\n",
    "df_final_2024['tripduration'] = df_final_2024['ended_at'] - df_final_2024['started_at']"
   ]
  },
  {
   "cell_type": "code",
   "execution_count": null,
   "id": "72ca10b3",
   "metadata": {},
   "outputs": [],
   "source": [
    "data = {\n",
    "    'Year': [],\n",
    "    'Customer': [],\n",
    "    'Subscriber': [],\n",
    "    'Total Users':[]\n",
    "}\n",
    "\n",
    "def update_data(year, counts):\n",
    "    data['Year'].append(year)\n",
    "    customer_count = counts.loc[counts['cust_type'] == 'Customer', 'Count']\n",
    "    subscriber_count = counts.loc[counts['cust_type'] == 'Subscriber', 'Count']\n",
    "    data['Customer'].append(customer_count.values[0] if not customer_count.empty else 0)\n",
    "    data['Subscriber'].append(subscriber_count.values[0] if not subscriber_count.empty else 0)\n",
    "    data['Total Users'].append(customer_count.values[0] + subscriber_count.values[0] if not customer_count.empty else 0)"
   ]
  },
  {
   "cell_type": "code",
   "execution_count": null,
   "id": "44668d19",
   "metadata": {},
   "outputs": [],
   "source": [
    "update_data(2013, cnt_2013)\n",
    "update_data(2014, cnt_2014)"
   ]
  },
  {
   "cell_type": "code",
   "execution_count": null,
   "id": "ff5b89dd",
   "metadata": {},
   "outputs": [],
   "source": [
    "df_cust_sub_count = pd.DataFrame(data)"
   ]
  },
  {
   "cell_type": "code",
   "execution_count": null,
   "id": "48580364",
   "metadata": {},
   "outputs": [],
   "source": [
    "df_cust_sub_count"
   ]
  }
 ],
 "metadata": {
  "kernelspec": {
   "display_name": "Python 3 (ipykernel)",
   "language": "python",
   "name": "python3"
  },
  "language_info": {
   "codemirror_mode": {
    "name": "ipython",
    "version": 3
   },
   "file_extension": ".py",
   "mimetype": "text/x-python",
   "name": "python",
   "nbconvert_exporter": "python",
   "pygments_lexer": "ipython3",
   "version": "3.11.4"
  }
 },
 "nbformat": 4,
 "nbformat_minor": 5
}
